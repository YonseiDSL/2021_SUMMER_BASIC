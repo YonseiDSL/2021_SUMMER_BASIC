{
 "cells": [
  {
   "cell_type": "code",
   "execution_count": 2,
   "metadata": {
    "ExecuteTime": {
     "end_time": "2021-01-26T05:32:57.684181Z",
     "start_time": "2021-01-26T05:32:55.992593Z"
    }
   },
   "outputs": [],
   "source": [
    "import numpy as np\n",
    "import pandas as pd\n",
    "import matplotlib.pyplot as plt\n",
    "import seaborn as sns"
   ]
  },
  {
   "cell_type": "markdown",
   "metadata": {},
   "source": [
    "# Import Dataset\n",
    "\n",
    "이번 내용에서는 특정 헬스장과 관련한 총 네개의 데이터를 사용합니다\n",
    "\n",
    "- `use_log.csv`: 2018.04 부터 2019.03 사이의 헬스장 회원들의 이용 로그 데이터\n",
    "- `customer_master2.csv`: 2019년 3월 말 시점에서의 회원 데이터\n",
    "- `class_master.csv`: 회원 종류 데이터\n",
    "- `campaign_master.csv`: 회원권 할인 행사 데이터\n",
    "\n",
    "위의 데이터들을 불러오도록 하겠습니다."
   ]
  },
  {
   "cell_type": "markdown",
   "metadata": {},
   "source": [
    "## 센터의 이용 로그 데이터"
   ]
  },
  {
   "cell_type": "code",
   "execution_count": 3,
   "metadata": {
    "ExecuteTime": {
     "end_time": "2021-01-26T05:32:57.843520Z",
     "start_time": "2021-01-26T05:32:57.686869Z"
    }
   },
   "outputs": [
    {
     "name": "stdout",
     "output_type": "stream",
     "text": [
      "(197428, 3)\n"
     ]
    },
    {
     "data": {
      "text/html": [
       "<div>\n",
       "<style scoped>\n",
       "    .dataframe tbody tr th:only-of-type {\n",
       "        vertical-align: middle;\n",
       "    }\n",
       "\n",
       "    .dataframe tbody tr th {\n",
       "        vertical-align: top;\n",
       "    }\n",
       "\n",
       "    .dataframe thead th {\n",
       "        text-align: right;\n",
       "    }\n",
       "</style>\n",
       "<table border=\"1\" class=\"dataframe\">\n",
       "  <thead>\n",
       "    <tr style=\"text-align: right;\">\n",
       "      <th></th>\n",
       "      <th>log_id</th>\n",
       "      <th>customer_id</th>\n",
       "      <th>usedate</th>\n",
       "    </tr>\n",
       "  </thead>\n",
       "  <tbody>\n",
       "    <tr>\n",
       "      <th>0</th>\n",
       "      <td>L00000049012330</td>\n",
       "      <td>AS009373</td>\n",
       "      <td>2018-04-01</td>\n",
       "    </tr>\n",
       "    <tr>\n",
       "      <th>1</th>\n",
       "      <td>L00000049012331</td>\n",
       "      <td>AS015315</td>\n",
       "      <td>2018-04-01</td>\n",
       "    </tr>\n",
       "    <tr>\n",
       "      <th>2</th>\n",
       "      <td>L00000049012332</td>\n",
       "      <td>AS040841</td>\n",
       "      <td>2018-04-01</td>\n",
       "    </tr>\n",
       "    <tr>\n",
       "      <th>3</th>\n",
       "      <td>L00000049012333</td>\n",
       "      <td>AS046594</td>\n",
       "      <td>2018-04-01</td>\n",
       "    </tr>\n",
       "    <tr>\n",
       "      <th>4</th>\n",
       "      <td>L00000049012334</td>\n",
       "      <td>AS073285</td>\n",
       "      <td>2018-04-01</td>\n",
       "    </tr>\n",
       "  </tbody>\n",
       "</table>\n",
       "</div>"
      ],
      "text/plain": [
       "            log_id customer_id     usedate\n",
       "0  L00000049012330    AS009373  2018-04-01\n",
       "1  L00000049012331    AS015315  2018-04-01\n",
       "2  L00000049012332    AS040841  2018-04-01\n",
       "3  L00000049012333    AS046594  2018-04-01\n",
       "4  L00000049012334    AS073285  2018-04-01"
      ]
     },
     "execution_count": 3,
     "metadata": {},
     "output_type": "execute_result"
    }
   ],
   "source": [
    "# 센터의 이용 이력 데이터 (2018.4 ~ 2019.3)\n",
    "\n",
    "uselog = pd.read_csv(\"use_log.csv\")\n",
    "print(uselog.shape)\n",
    "uselog.head()"
   ]
  },
  {
   "cell_type": "markdown",
   "metadata": {},
   "source": [
    "## 회원 정보 데이터\n",
    "\n",
    "- `start_date`: 회원 등록 날짜\n",
    "- `end_date`: 회원 탈퇴 날짜 (지속 회원의 경우 결측치)\n",
    "- `is_deleted`: 회원 탈퇴 여부 (1 = 탈퇴)"
   ]
  },
  {
   "cell_type": "code",
   "execution_count": 4,
   "metadata": {
    "ExecuteTime": {
     "end_time": "2021-01-26T05:32:57.863137Z",
     "start_time": "2021-01-26T05:32:57.845595Z"
    }
   },
   "outputs": [
    {
     "name": "stdout",
     "output_type": "stream",
     "text": [
      "(4192, 8)\n"
     ]
    },
    {
     "data": {
      "text/html": [
       "<div>\n",
       "<style scoped>\n",
       "    .dataframe tbody tr th:only-of-type {\n",
       "        vertical-align: middle;\n",
       "    }\n",
       "\n",
       "    .dataframe tbody tr th {\n",
       "        vertical-align: top;\n",
       "    }\n",
       "\n",
       "    .dataframe thead th {\n",
       "        text-align: right;\n",
       "    }\n",
       "</style>\n",
       "<table border=\"1\" class=\"dataframe\">\n",
       "  <thead>\n",
       "    <tr style=\"text-align: right;\">\n",
       "      <th></th>\n",
       "      <th>customer_id</th>\n",
       "      <th>name</th>\n",
       "      <th>class</th>\n",
       "      <th>gender</th>\n",
       "      <th>start_date</th>\n",
       "      <th>end_date</th>\n",
       "      <th>campaign_id</th>\n",
       "      <th>is_deleted</th>\n",
       "    </tr>\n",
       "  </thead>\n",
       "  <tbody>\n",
       "    <tr>\n",
       "      <th>0</th>\n",
       "      <td>OA832399</td>\n",
       "      <td>XXXX</td>\n",
       "      <td>C01</td>\n",
       "      <td>F</td>\n",
       "      <td>2015-05-01 00:00:00</td>\n",
       "      <td>NaN</td>\n",
       "      <td>CA1</td>\n",
       "      <td>0</td>\n",
       "    </tr>\n",
       "    <tr>\n",
       "      <th>1</th>\n",
       "      <td>PL270116</td>\n",
       "      <td>XXXXX</td>\n",
       "      <td>C01</td>\n",
       "      <td>M</td>\n",
       "      <td>2015-05-01 00:00:00</td>\n",
       "      <td>NaN</td>\n",
       "      <td>CA1</td>\n",
       "      <td>0</td>\n",
       "    </tr>\n",
       "    <tr>\n",
       "      <th>2</th>\n",
       "      <td>OA974876</td>\n",
       "      <td>XXXXX</td>\n",
       "      <td>C01</td>\n",
       "      <td>M</td>\n",
       "      <td>2015-05-01 00:00:00</td>\n",
       "      <td>NaN</td>\n",
       "      <td>CA1</td>\n",
       "      <td>0</td>\n",
       "    </tr>\n",
       "    <tr>\n",
       "      <th>3</th>\n",
       "      <td>HD024127</td>\n",
       "      <td>XXXXX</td>\n",
       "      <td>C01</td>\n",
       "      <td>F</td>\n",
       "      <td>2015-05-01 00:00:00</td>\n",
       "      <td>NaN</td>\n",
       "      <td>CA1</td>\n",
       "      <td>0</td>\n",
       "    </tr>\n",
       "    <tr>\n",
       "      <th>4</th>\n",
       "      <td>HD661448</td>\n",
       "      <td>XXXXX</td>\n",
       "      <td>C03</td>\n",
       "      <td>F</td>\n",
       "      <td>2015-05-01 00:00:00</td>\n",
       "      <td>NaN</td>\n",
       "      <td>CA1</td>\n",
       "      <td>0</td>\n",
       "    </tr>\n",
       "  </tbody>\n",
       "</table>\n",
       "</div>"
      ],
      "text/plain": [
       "  customer_id   name class gender           start_date end_date campaign_id  \\\n",
       "0    OA832399   XXXX   C01      F  2015-05-01 00:00:00      NaN         CA1   \n",
       "1    PL270116  XXXXX   C01      M  2015-05-01 00:00:00      NaN         CA1   \n",
       "2    OA974876  XXXXX   C01      M  2015-05-01 00:00:00      NaN         CA1   \n",
       "3    HD024127  XXXXX   C01      F  2015-05-01 00:00:00      NaN         CA1   \n",
       "4    HD661448  XXXXX   C03      F  2015-05-01 00:00:00      NaN         CA1   \n",
       "\n",
       "   is_deleted  \n",
       "0           0  \n",
       "1           0  \n",
       "2           0  \n",
       "3           0  \n",
       "4           0  "
      ]
     },
     "execution_count": 4,
     "metadata": {},
     "output_type": "execute_result"
    }
   ],
   "source": [
    "# 회원 정보 데이터\n",
    "\n",
    "customer = pd.read_csv(\"customer_master2.csv\")\n",
    "print(customer.shape)\n",
    "customer.head()"
   ]
  },
  {
   "cell_type": "markdown",
   "metadata": {},
   "source": [
    "## 회원 구분 데이터"
   ]
  },
  {
   "cell_type": "code",
   "execution_count": 5,
   "metadata": {
    "ExecuteTime": {
     "end_time": "2021-01-26T05:32:57.873163Z",
     "start_time": "2021-01-26T05:32:57.864714Z"
    }
   },
   "outputs": [
    {
     "name": "stdout",
     "output_type": "stream",
     "text": [
      "(3, 3)\n"
     ]
    },
    {
     "data": {
      "text/html": [
       "<div>\n",
       "<style scoped>\n",
       "    .dataframe tbody tr th:only-of-type {\n",
       "        vertical-align: middle;\n",
       "    }\n",
       "\n",
       "    .dataframe tbody tr th {\n",
       "        vertical-align: top;\n",
       "    }\n",
       "\n",
       "    .dataframe thead th {\n",
       "        text-align: right;\n",
       "    }\n",
       "</style>\n",
       "<table border=\"1\" class=\"dataframe\">\n",
       "  <thead>\n",
       "    <tr style=\"text-align: right;\">\n",
       "      <th></th>\n",
       "      <th>class</th>\n",
       "      <th>class_name</th>\n",
       "      <th>price</th>\n",
       "    </tr>\n",
       "  </thead>\n",
       "  <tbody>\n",
       "    <tr>\n",
       "      <th>0</th>\n",
       "      <td>C01</td>\n",
       "      <td>0_종일</td>\n",
       "      <td>10500</td>\n",
       "    </tr>\n",
       "    <tr>\n",
       "      <th>1</th>\n",
       "      <td>C02</td>\n",
       "      <td>1_주간</td>\n",
       "      <td>7500</td>\n",
       "    </tr>\n",
       "    <tr>\n",
       "      <th>2</th>\n",
       "      <td>C03</td>\n",
       "      <td>2_야간</td>\n",
       "      <td>6000</td>\n",
       "    </tr>\n",
       "  </tbody>\n",
       "</table>\n",
       "</div>"
      ],
      "text/plain": [
       "  class class_name  price\n",
       "0   C01       0_종일  10500\n",
       "1   C02       1_주간   7500\n",
       "2   C03       2_야간   6000"
      ]
     },
     "execution_count": 5,
     "metadata": {},
     "output_type": "execute_result"
    }
   ],
   "source": [
    "# 회원 구분 데이터\n",
    "\n",
    "class_master = pd.read_csv(\"class_master.csv\")\n",
    "print(class_master.shape)\n",
    "class_master.head()"
   ]
  },
  {
   "cell_type": "markdown",
   "metadata": {},
   "source": [
    "## 행사 구분 데이터"
   ]
  },
  {
   "cell_type": "code",
   "execution_count": 7,
   "metadata": {
    "ExecuteTime": {
     "end_time": "2021-01-26T05:32:57.883010Z",
     "start_time": "2021-01-26T05:32:57.874763Z"
    }
   },
   "outputs": [
    {
     "name": "stdout",
     "output_type": "stream",
     "text": [
      "(3, 2)\n"
     ]
    },
    {
     "data": {
      "text/html": [
       "<div>\n",
       "<style scoped>\n",
       "    .dataframe tbody tr th:only-of-type {\n",
       "        vertical-align: middle;\n",
       "    }\n",
       "\n",
       "    .dataframe tbody tr th {\n",
       "        vertical-align: top;\n",
       "    }\n",
       "\n",
       "    .dataframe thead th {\n",
       "        text-align: right;\n",
       "    }\n",
       "</style>\n",
       "<table border=\"1\" class=\"dataframe\">\n",
       "  <thead>\n",
       "    <tr style=\"text-align: right;\">\n",
       "      <th></th>\n",
       "      <th>campaign_id</th>\n",
       "      <th>campaign_name</th>\n",
       "    </tr>\n",
       "  </thead>\n",
       "  <tbody>\n",
       "    <tr>\n",
       "      <th>0</th>\n",
       "      <td>CA1</td>\n",
       "      <td>2_일반</td>\n",
       "    </tr>\n",
       "    <tr>\n",
       "      <th>1</th>\n",
       "      <td>CA2</td>\n",
       "      <td>0_입회비반액할인</td>\n",
       "    </tr>\n",
       "    <tr>\n",
       "      <th>2</th>\n",
       "      <td>CA3</td>\n",
       "      <td>1_입회비무료</td>\n",
       "    </tr>\n",
       "  </tbody>\n",
       "</table>\n",
       "</div>"
      ],
      "text/plain": [
       "  campaign_id campaign_name\n",
       "0         CA1          2_일반\n",
       "1         CA2     0_입회비반액할인\n",
       "2         CA3       1_입회비무료"
      ]
     },
     "execution_count": 7,
     "metadata": {},
     "output_type": "execute_result"
    }
   ],
   "source": [
    "# 행사 구분 데이터\n",
    "\n",
    "campaign_master = pd.read_csv(\"campaign_master.csv\")\n",
    "print(campaign_master.shape)\n",
    "campaign_master.head()"
   ]
  },
  {
   "cell_type": "markdown",
   "metadata": {},
   "source": [
    "# 데이터 결합\n",
    "\n",
    "- customer 데이터셋을 기준으로 class_master와 campaign_master 데이터를 결합"
   ]
  },
  {
   "cell_type": "code",
   "execution_count": 8,
   "metadata": {
    "ExecuteTime": {
     "end_time": "2021-01-26T05:32:57.893891Z",
     "start_time": "2021-01-26T05:32:57.885783Z"
    }
   },
   "outputs": [
    {
     "data": {
      "text/html": [
       "<div>\n",
       "<style scoped>\n",
       "    .dataframe tbody tr th:only-of-type {\n",
       "        vertical-align: middle;\n",
       "    }\n",
       "\n",
       "    .dataframe tbody tr th {\n",
       "        vertical-align: top;\n",
       "    }\n",
       "\n",
       "    .dataframe thead th {\n",
       "        text-align: right;\n",
       "    }\n",
       "</style>\n",
       "<table border=\"1\" class=\"dataframe\">\n",
       "  <thead>\n",
       "    <tr style=\"text-align: right;\">\n",
       "      <th></th>\n",
       "      <th>customer_id</th>\n",
       "      <th>name</th>\n",
       "      <th>class</th>\n",
       "      <th>gender</th>\n",
       "      <th>start_date</th>\n",
       "      <th>end_date</th>\n",
       "      <th>campaign_id</th>\n",
       "      <th>is_deleted</th>\n",
       "    </tr>\n",
       "  </thead>\n",
       "  <tbody>\n",
       "    <tr>\n",
       "      <th>0</th>\n",
       "      <td>OA832399</td>\n",
       "      <td>XXXX</td>\n",
       "      <td>C01</td>\n",
       "      <td>F</td>\n",
       "      <td>2015-05-01 00:00:00</td>\n",
       "      <td>NaN</td>\n",
       "      <td>CA1</td>\n",
       "      <td>0</td>\n",
       "    </tr>\n",
       "    <tr>\n",
       "      <th>1</th>\n",
       "      <td>PL270116</td>\n",
       "      <td>XXXXX</td>\n",
       "      <td>C01</td>\n",
       "      <td>M</td>\n",
       "      <td>2015-05-01 00:00:00</td>\n",
       "      <td>NaN</td>\n",
       "      <td>CA1</td>\n",
       "      <td>0</td>\n",
       "    </tr>\n",
       "  </tbody>\n",
       "</table>\n",
       "</div>"
      ],
      "text/plain": [
       "  customer_id   name class gender           start_date end_date campaign_id  \\\n",
       "0    OA832399   XXXX   C01      F  2015-05-01 00:00:00      NaN         CA1   \n",
       "1    PL270116  XXXXX   C01      M  2015-05-01 00:00:00      NaN         CA1   \n",
       "\n",
       "   is_deleted  \n",
       "0           0  \n",
       "1           0  "
      ]
     },
     "execution_count": 8,
     "metadata": {},
     "output_type": "execute_result"
    }
   ],
   "source": [
    "customer.head(2)"
   ]
  },
  {
   "cell_type": "code",
   "execution_count": 9,
   "metadata": {
    "ExecuteTime": {
     "end_time": "2021-01-26T05:32:57.901677Z",
     "start_time": "2021-01-26T05:32:57.896064Z"
    }
   },
   "outputs": [
    {
     "data": {
      "text/html": [
       "<div>\n",
       "<style scoped>\n",
       "    .dataframe tbody tr th:only-of-type {\n",
       "        vertical-align: middle;\n",
       "    }\n",
       "\n",
       "    .dataframe tbody tr th {\n",
       "        vertical-align: top;\n",
       "    }\n",
       "\n",
       "    .dataframe thead th {\n",
       "        text-align: right;\n",
       "    }\n",
       "</style>\n",
       "<table border=\"1\" class=\"dataframe\">\n",
       "  <thead>\n",
       "    <tr style=\"text-align: right;\">\n",
       "      <th></th>\n",
       "      <th>class</th>\n",
       "      <th>class_name</th>\n",
       "      <th>price</th>\n",
       "    </tr>\n",
       "  </thead>\n",
       "  <tbody>\n",
       "    <tr>\n",
       "      <th>0</th>\n",
       "      <td>C01</td>\n",
       "      <td>0_종일</td>\n",
       "      <td>10500</td>\n",
       "    </tr>\n",
       "    <tr>\n",
       "      <th>1</th>\n",
       "      <td>C02</td>\n",
       "      <td>1_주간</td>\n",
       "      <td>7500</td>\n",
       "    </tr>\n",
       "  </tbody>\n",
       "</table>\n",
       "</div>"
      ],
      "text/plain": [
       "  class class_name  price\n",
       "0   C01       0_종일  10500\n",
       "1   C02       1_주간   7500"
      ]
     },
     "execution_count": 9,
     "metadata": {},
     "output_type": "execute_result"
    }
   ],
   "source": [
    "class_master.head(2)"
   ]
  },
  {
   "cell_type": "code",
   "execution_count": 10,
   "metadata": {
    "ExecuteTime": {
     "end_time": "2021-01-26T05:32:57.918783Z",
     "start_time": "2021-01-26T05:32:57.903266Z"
    }
   },
   "outputs": [
    {
     "name": "stdout",
     "output_type": "stream",
     "text": [
      "(4192, 9)\n"
     ]
    },
    {
     "data": {
      "text/html": [
       "<div>\n",
       "<style scoped>\n",
       "    .dataframe tbody tr th:only-of-type {\n",
       "        vertical-align: middle;\n",
       "    }\n",
       "\n",
       "    .dataframe tbody tr th {\n",
       "        vertical-align: top;\n",
       "    }\n",
       "\n",
       "    .dataframe thead th {\n",
       "        text-align: right;\n",
       "    }\n",
       "</style>\n",
       "<table border=\"1\" class=\"dataframe\">\n",
       "  <thead>\n",
       "    <tr style=\"text-align: right;\">\n",
       "      <th></th>\n",
       "      <th>customer_id</th>\n",
       "      <th>name</th>\n",
       "      <th>gender</th>\n",
       "      <th>start_date</th>\n",
       "      <th>end_date</th>\n",
       "      <th>campaign_id</th>\n",
       "      <th>is_deleted</th>\n",
       "      <th>class_name</th>\n",
       "      <th>price</th>\n",
       "    </tr>\n",
       "  </thead>\n",
       "  <tbody>\n",
       "    <tr>\n",
       "      <th>0</th>\n",
       "      <td>OA832399</td>\n",
       "      <td>XXXX</td>\n",
       "      <td>F</td>\n",
       "      <td>2015-05-01 00:00:00</td>\n",
       "      <td>NaN</td>\n",
       "      <td>CA1</td>\n",
       "      <td>0</td>\n",
       "      <td>0_종일</td>\n",
       "      <td>10500</td>\n",
       "    </tr>\n",
       "    <tr>\n",
       "      <th>1</th>\n",
       "      <td>PL270116</td>\n",
       "      <td>XXXXX</td>\n",
       "      <td>M</td>\n",
       "      <td>2015-05-01 00:00:00</td>\n",
       "      <td>NaN</td>\n",
       "      <td>CA1</td>\n",
       "      <td>0</td>\n",
       "      <td>0_종일</td>\n",
       "      <td>10500</td>\n",
       "    </tr>\n",
       "  </tbody>\n",
       "</table>\n",
       "</div>"
      ],
      "text/plain": [
       "  customer_id   name gender           start_date end_date campaign_id  \\\n",
       "0    OA832399   XXXX      F  2015-05-01 00:00:00      NaN         CA1   \n",
       "1    PL270116  XXXXX      M  2015-05-01 00:00:00      NaN         CA1   \n",
       "\n",
       "   is_deleted class_name  price  \n",
       "0           0       0_종일  10500  \n",
       "1           0       0_종일  10500  "
      ]
     },
     "execution_count": 10,
     "metadata": {},
     "output_type": "execute_result"
    }
   ],
   "source": [
    "customer_join = pd.merge(customer, class_master, on=\"class\", how=\"left\")\n",
    "customer_join.drop(\"class\", axis=1, inplace=True)\n",
    "#불필요한 class 열 삭제 \n",
    "\n",
    "print(customer_join.shape)\n",
    "customer_join.head(2)"
   ]
  },
  {
   "cell_type": "code",
   "execution_count": 11,
   "metadata": {
    "ExecuteTime": {
     "end_time": "2021-01-26T05:32:57.925848Z",
     "start_time": "2021-01-26T05:32:57.920428Z"
    }
   },
   "outputs": [
    {
     "data": {
      "text/html": [
       "<div>\n",
       "<style scoped>\n",
       "    .dataframe tbody tr th:only-of-type {\n",
       "        vertical-align: middle;\n",
       "    }\n",
       "\n",
       "    .dataframe tbody tr th {\n",
       "        vertical-align: top;\n",
       "    }\n",
       "\n",
       "    .dataframe thead th {\n",
       "        text-align: right;\n",
       "    }\n",
       "</style>\n",
       "<table border=\"1\" class=\"dataframe\">\n",
       "  <thead>\n",
       "    <tr style=\"text-align: right;\">\n",
       "      <th></th>\n",
       "      <th>campaign_id</th>\n",
       "      <th>campaign_name</th>\n",
       "    </tr>\n",
       "  </thead>\n",
       "  <tbody>\n",
       "    <tr>\n",
       "      <th>0</th>\n",
       "      <td>CA1</td>\n",
       "      <td>2_일반</td>\n",
       "    </tr>\n",
       "    <tr>\n",
       "      <th>1</th>\n",
       "      <td>CA2</td>\n",
       "      <td>0_입회비반액할인</td>\n",
       "    </tr>\n",
       "  </tbody>\n",
       "</table>\n",
       "</div>"
      ],
      "text/plain": [
       "  campaign_id campaign_name\n",
       "0         CA1          2_일반\n",
       "1         CA2     0_입회비반액할인"
      ]
     },
     "execution_count": 11,
     "metadata": {},
     "output_type": "execute_result"
    }
   ],
   "source": [
    "campaign_master.head(2)"
   ]
  },
  {
   "cell_type": "code",
   "execution_count": 12,
   "metadata": {
    "ExecuteTime": {
     "end_time": "2021-01-26T05:32:57.943201Z",
     "start_time": "2021-01-26T05:32:57.927111Z"
    }
   },
   "outputs": [
    {
     "name": "stdout",
     "output_type": "stream",
     "text": [
      "(4192, 9)\n"
     ]
    },
    {
     "data": {
      "text/html": [
       "<div>\n",
       "<style scoped>\n",
       "    .dataframe tbody tr th:only-of-type {\n",
       "        vertical-align: middle;\n",
       "    }\n",
       "\n",
       "    .dataframe tbody tr th {\n",
       "        vertical-align: top;\n",
       "    }\n",
       "\n",
       "    .dataframe thead th {\n",
       "        text-align: right;\n",
       "    }\n",
       "</style>\n",
       "<table border=\"1\" class=\"dataframe\">\n",
       "  <thead>\n",
       "    <tr style=\"text-align: right;\">\n",
       "      <th></th>\n",
       "      <th>customer_id</th>\n",
       "      <th>name</th>\n",
       "      <th>gender</th>\n",
       "      <th>start_date</th>\n",
       "      <th>end_date</th>\n",
       "      <th>is_deleted</th>\n",
       "      <th>class_name</th>\n",
       "      <th>price</th>\n",
       "      <th>campaign_name</th>\n",
       "    </tr>\n",
       "  </thead>\n",
       "  <tbody>\n",
       "    <tr>\n",
       "      <th>0</th>\n",
       "      <td>OA832399</td>\n",
       "      <td>XXXX</td>\n",
       "      <td>F</td>\n",
       "      <td>2015-05-01 00:00:00</td>\n",
       "      <td>NaN</td>\n",
       "      <td>0</td>\n",
       "      <td>0_종일</td>\n",
       "      <td>10500</td>\n",
       "      <td>2_일반</td>\n",
       "    </tr>\n",
       "    <tr>\n",
       "      <th>1</th>\n",
       "      <td>PL270116</td>\n",
       "      <td>XXXXX</td>\n",
       "      <td>M</td>\n",
       "      <td>2015-05-01 00:00:00</td>\n",
       "      <td>NaN</td>\n",
       "      <td>0</td>\n",
       "      <td>0_종일</td>\n",
       "      <td>10500</td>\n",
       "      <td>2_일반</td>\n",
       "    </tr>\n",
       "    <tr>\n",
       "      <th>2</th>\n",
       "      <td>OA974876</td>\n",
       "      <td>XXXXX</td>\n",
       "      <td>M</td>\n",
       "      <td>2015-05-01 00:00:00</td>\n",
       "      <td>NaN</td>\n",
       "      <td>0</td>\n",
       "      <td>0_종일</td>\n",
       "      <td>10500</td>\n",
       "      <td>2_일반</td>\n",
       "    </tr>\n",
       "    <tr>\n",
       "      <th>3</th>\n",
       "      <td>HD024127</td>\n",
       "      <td>XXXXX</td>\n",
       "      <td>F</td>\n",
       "      <td>2015-05-01 00:00:00</td>\n",
       "      <td>NaN</td>\n",
       "      <td>0</td>\n",
       "      <td>0_종일</td>\n",
       "      <td>10500</td>\n",
       "      <td>2_일반</td>\n",
       "    </tr>\n",
       "    <tr>\n",
       "      <th>4</th>\n",
       "      <td>HD661448</td>\n",
       "      <td>XXXXX</td>\n",
       "      <td>F</td>\n",
       "      <td>2015-05-01 00:00:00</td>\n",
       "      <td>NaN</td>\n",
       "      <td>0</td>\n",
       "      <td>2_야간</td>\n",
       "      <td>6000</td>\n",
       "      <td>2_일반</td>\n",
       "    </tr>\n",
       "  </tbody>\n",
       "</table>\n",
       "</div>"
      ],
      "text/plain": [
       "  customer_id   name gender           start_date end_date  is_deleted  \\\n",
       "0    OA832399   XXXX      F  2015-05-01 00:00:00      NaN           0   \n",
       "1    PL270116  XXXXX      M  2015-05-01 00:00:00      NaN           0   \n",
       "2    OA974876  XXXXX      M  2015-05-01 00:00:00      NaN           0   \n",
       "3    HD024127  XXXXX      F  2015-05-01 00:00:00      NaN           0   \n",
       "4    HD661448  XXXXX      F  2015-05-01 00:00:00      NaN           0   \n",
       "\n",
       "  class_name  price campaign_name  \n",
       "0       0_종일  10500          2_일반  \n",
       "1       0_종일  10500          2_일반  \n",
       "2       0_종일  10500          2_일반  \n",
       "3       0_종일  10500          2_일반  \n",
       "4       2_야간   6000          2_일반  "
      ]
     },
     "execution_count": 12,
     "metadata": {},
     "output_type": "execute_result"
    }
   ],
   "source": [
    "customer_join = pd.merge(customer_join, campaign_master, on=\"campaign_id\", how=\"left\")\n",
    "customer_join.drop(\"campaign_id\", axis=1, inplace=True)\n",
    "#불필요한 campain_id 열삭제 \n",
    "print(customer_join.shape)\n",
    "customer_join.head()"
   ]
  },
  {
   "cell_type": "code",
   "execution_count": 13,
   "metadata": {
    "ExecuteTime": {
     "end_time": "2021-01-26T05:32:57.950492Z",
     "start_time": "2021-01-26T05:32:57.944635Z"
    }
   },
   "outputs": [
    {
     "data": {
      "text/plain": [
       "customer_id         0\n",
       "name                0\n",
       "gender              0\n",
       "start_date          0\n",
       "end_date         2842\n",
       "is_deleted          0\n",
       "class_name          0\n",
       "price               0\n",
       "campaign_name       0\n",
       "dtype: int64"
      ]
     },
     "execution_count": 13,
     "metadata": {},
     "output_type": "execute_result"
    }
   ],
   "source": [
    "# 결측치 확인\n",
    "\n",
    "customer_join.isnull().sum()"
   ]
  },
  {
   "cell_type": "markdown",
   "metadata": {},
   "source": [
    "- `end_date` 칼럼에 결측치가 존재하는 것을 확인할 수 있습니다. 결측치가 존재한다는 것은 아직 헬스장을 다니는 회원이라는 의미임으로 이상할 것은 없습니다."
   ]
  },
  {
   "cell_type": "markdown",
   "metadata": {},
   "source": [
    "# 회원 정보 집계 (EDA)\n",
    "\n",
    "앞서 조인한 데이터를 바탕으로 회원들에 대한 정보를 파악해봅시다."
   ]
  },
  {
   "cell_type": "code",
   "execution_count": 14,
   "metadata": {
    "ExecuteTime": {
     "end_time": "2021-01-26T05:32:57.961308Z",
     "start_time": "2021-01-26T05:32:57.951922Z"
    }
   },
   "outputs": [
    {
     "data": {
      "text/html": [
       "<div>\n",
       "<style scoped>\n",
       "    .dataframe tbody tr th:only-of-type {\n",
       "        vertical-align: middle;\n",
       "    }\n",
       "\n",
       "    .dataframe tbody tr th {\n",
       "        vertical-align: top;\n",
       "    }\n",
       "\n",
       "    .dataframe thead th {\n",
       "        text-align: right;\n",
       "    }\n",
       "</style>\n",
       "<table border=\"1\" class=\"dataframe\">\n",
       "  <thead>\n",
       "    <tr style=\"text-align: right;\">\n",
       "      <th></th>\n",
       "      <th>customer_id</th>\n",
       "      <th>name</th>\n",
       "      <th>gender</th>\n",
       "      <th>start_date</th>\n",
       "      <th>end_date</th>\n",
       "      <th>is_deleted</th>\n",
       "      <th>class_name</th>\n",
       "      <th>price</th>\n",
       "      <th>campaign_name</th>\n",
       "    </tr>\n",
       "  </thead>\n",
       "  <tbody>\n",
       "    <tr>\n",
       "      <th>0</th>\n",
       "      <td>OA832399</td>\n",
       "      <td>XXXX</td>\n",
       "      <td>F</td>\n",
       "      <td>2015-05-01 00:00:00</td>\n",
       "      <td>NaN</td>\n",
       "      <td>0</td>\n",
       "      <td>0_종일</td>\n",
       "      <td>10500</td>\n",
       "      <td>2_일반</td>\n",
       "    </tr>\n",
       "    <tr>\n",
       "      <th>1</th>\n",
       "      <td>PL270116</td>\n",
       "      <td>XXXXX</td>\n",
       "      <td>M</td>\n",
       "      <td>2015-05-01 00:00:00</td>\n",
       "      <td>NaN</td>\n",
       "      <td>0</td>\n",
       "      <td>0_종일</td>\n",
       "      <td>10500</td>\n",
       "      <td>2_일반</td>\n",
       "    </tr>\n",
       "    <tr>\n",
       "      <th>2</th>\n",
       "      <td>OA974876</td>\n",
       "      <td>XXXXX</td>\n",
       "      <td>M</td>\n",
       "      <td>2015-05-01 00:00:00</td>\n",
       "      <td>NaN</td>\n",
       "      <td>0</td>\n",
       "      <td>0_종일</td>\n",
       "      <td>10500</td>\n",
       "      <td>2_일반</td>\n",
       "    </tr>\n",
       "    <tr>\n",
       "      <th>3</th>\n",
       "      <td>HD024127</td>\n",
       "      <td>XXXXX</td>\n",
       "      <td>F</td>\n",
       "      <td>2015-05-01 00:00:00</td>\n",
       "      <td>NaN</td>\n",
       "      <td>0</td>\n",
       "      <td>0_종일</td>\n",
       "      <td>10500</td>\n",
       "      <td>2_일반</td>\n",
       "    </tr>\n",
       "    <tr>\n",
       "      <th>4</th>\n",
       "      <td>HD661448</td>\n",
       "      <td>XXXXX</td>\n",
       "      <td>F</td>\n",
       "      <td>2015-05-01 00:00:00</td>\n",
       "      <td>NaN</td>\n",
       "      <td>0</td>\n",
       "      <td>2_야간</td>\n",
       "      <td>6000</td>\n",
       "      <td>2_일반</td>\n",
       "    </tr>\n",
       "  </tbody>\n",
       "</table>\n",
       "</div>"
      ],
      "text/plain": [
       "  customer_id   name gender           start_date end_date  is_deleted  \\\n",
       "0    OA832399   XXXX      F  2015-05-01 00:00:00      NaN           0   \n",
       "1    PL270116  XXXXX      M  2015-05-01 00:00:00      NaN           0   \n",
       "2    OA974876  XXXXX      M  2015-05-01 00:00:00      NaN           0   \n",
       "3    HD024127  XXXXX      F  2015-05-01 00:00:00      NaN           0   \n",
       "4    HD661448  XXXXX      F  2015-05-01 00:00:00      NaN           0   \n",
       "\n",
       "  class_name  price campaign_name  \n",
       "0       0_종일  10500          2_일반  \n",
       "1       0_종일  10500          2_일반  \n",
       "2       0_종일  10500          2_일반  \n",
       "3       0_종일  10500          2_일반  \n",
       "4       2_야간   6000          2_일반  "
      ]
     },
     "execution_count": 14,
     "metadata": {},
     "output_type": "execute_result"
    }
   ],
   "source": [
    "customer_join.head()"
   ]
  },
  {
   "cell_type": "code",
   "execution_count": 15,
   "metadata": {
    "ExecuteTime": {
     "end_time": "2021-01-26T05:32:57.972640Z",
     "start_time": "2021-01-26T05:32:57.962753Z"
    }
   },
   "outputs": [
    {
     "data": {
      "text/html": [
       "<div>\n",
       "<style scoped>\n",
       "    .dataframe tbody tr th:only-of-type {\n",
       "        vertical-align: middle;\n",
       "    }\n",
       "\n",
       "    .dataframe tbody tr th {\n",
       "        vertical-align: top;\n",
       "    }\n",
       "\n",
       "    .dataframe thead th {\n",
       "        text-align: right;\n",
       "    }\n",
       "</style>\n",
       "<table border=\"1\" class=\"dataframe\">\n",
       "  <thead>\n",
       "    <tr style=\"text-align: right;\">\n",
       "      <th></th>\n",
       "      <th>customer_id</th>\n",
       "      <th>name</th>\n",
       "      <th>gender</th>\n",
       "      <th>start_date</th>\n",
       "      <th>end_date</th>\n",
       "      <th>is_deleted</th>\n",
       "      <th>price</th>\n",
       "      <th>campaign_name</th>\n",
       "    </tr>\n",
       "    <tr>\n",
       "      <th>class_name</th>\n",
       "      <th></th>\n",
       "      <th></th>\n",
       "      <th></th>\n",
       "      <th></th>\n",
       "      <th></th>\n",
       "      <th></th>\n",
       "      <th></th>\n",
       "      <th></th>\n",
       "    </tr>\n",
       "  </thead>\n",
       "  <tbody>\n",
       "    <tr>\n",
       "      <th>0_종일</th>\n",
       "      <td>2045</td>\n",
       "      <td>2045</td>\n",
       "      <td>2045</td>\n",
       "      <td>2045</td>\n",
       "      <td>664</td>\n",
       "      <td>2045</td>\n",
       "      <td>2045</td>\n",
       "      <td>2045</td>\n",
       "    </tr>\n",
       "    <tr>\n",
       "      <th>1_주간</th>\n",
       "      <td>1019</td>\n",
       "      <td>1019</td>\n",
       "      <td>1019</td>\n",
       "      <td>1019</td>\n",
       "      <td>344</td>\n",
       "      <td>1019</td>\n",
       "      <td>1019</td>\n",
       "      <td>1019</td>\n",
       "    </tr>\n",
       "    <tr>\n",
       "      <th>2_야간</th>\n",
       "      <td>1128</td>\n",
       "      <td>1128</td>\n",
       "      <td>1128</td>\n",
       "      <td>1128</td>\n",
       "      <td>342</td>\n",
       "      <td>1128</td>\n",
       "      <td>1128</td>\n",
       "      <td>1128</td>\n",
       "    </tr>\n",
       "  </tbody>\n",
       "</table>\n",
       "</div>"
      ],
      "text/plain": [
       "            customer_id  name  gender  start_date  end_date  is_deleted  \\\n",
       "class_name                                                                \n",
       "0_종일               2045  2045    2045        2045       664        2045   \n",
       "1_주간               1019  1019    1019        1019       344        1019   \n",
       "2_야간               1128  1128    1128        1128       342        1128   \n",
       "\n",
       "            price  campaign_name  \n",
       "class_name                        \n",
       "0_종일         2045           2045  \n",
       "1_주간         1019           1019  \n",
       "2_야간         1128           1128  "
      ]
     },
     "execution_count": 15,
     "metadata": {},
     "output_type": "execute_result"
    }
   ],
   "source": [
    "# 회원 구분\n",
    "customer_join.groupby(by=\"class_name\").count() #.sum(), .mean() 등을 이용할 수도 있다. "
   ]
  },
  {
   "cell_type": "code",
   "execution_count": 16,
   "metadata": {
    "ExecuteTime": {
     "end_time": "2021-01-26T05:32:58.070470Z",
     "start_time": "2021-01-26T05:32:57.974179Z"
    }
   },
   "outputs": [
    {
     "data": {
      "image/png": "[encoded data removed]",
      "text/plain": [
       "<Figure size 432x288 with 1 Axes>"
      ]
     },
     "metadata": {
      "needs_background": "light"
     },
     "output_type": "display_data"
    }
   ],
   "source": [
    "# 회원 구분\n",
    "plt.rcParams['font.family'] = 'AppleGothic'   # 한글 깨짐 방지\n",
    "sns.countplot(x=\"class_name\", data = customer_join)\n",
    "#seaborn의 countplot을 이용\n",
    "plt.show()"
   ]
  },
  {
   "cell_type": "markdown",
   "metadata": {},
   "source": [
    "- 종일 회원이 가장 많습니다"
   ]
  },
  {
   "cell_type": "code",
   "execution_count": 17,
   "metadata": {
    "ExecuteTime": {
     "end_time": "2021-01-26T05:32:58.157353Z",
     "start_time": "2021-01-26T05:32:58.072297Z"
    }
   },
   "outputs": [
    {
     "data": {
      "image/png": "[encoded data removed]",
      "text/plain": [
       "<Figure size 432x288 with 1 Axes>"
      ]
     },
     "metadata": {
      "needs_background": "light"
     },
     "output_type": "display_data"
    }
   ],
   "source": [
    "# 캠페인 종류\n",
    "plt.rcParams['font.family'] = 'AppleGothic'   # 한글 깨짐 방지\n",
    "sns.countplot(x=\"campaign_name\", data = customer_join)\n",
    "plt.show()"
   ]
  },
  {
   "cell_type": "markdown",
   "metadata": {},
   "source": [
    "- 일반 가격으로 가입한 회원이 가장 많습니다."
   ]
  },
  {
   "cell_type": "code",
   "execution_count": 18,
   "metadata": {
    "ExecuteTime": {
     "end_time": "2021-01-26T05:32:58.227265Z",
     "start_time": "2021-01-26T05:32:58.158927Z"
    }
   },
   "outputs": [
    {
     "data": {
      "image/png": "[encoded data removed]",
      "text/plain": [
       "<Figure size 432x288 with 1 Axes>"
      ]
     },
     "metadata": {
      "needs_background": "light"
     },
     "output_type": "display_data"
    }
   ],
   "source": [
    "# 성별\n",
    "plt.rcParams['font.family'] = 'AppleGothic'   # 한글 깨짐 방지\n",
    "sns.countplot(x=\"gender\", data = customer_join)\n",
    "plt.show()"
   ]
  },
  {
   "cell_type": "markdown",
   "metadata": {},
   "source": [
    "- 남자가 약간 더 많아보입니다."
   ]
  },
  {
   "cell_type": "code",
   "execution_count": 19,
   "metadata": {
    "ExecuteTime": {
     "end_time": "2021-01-26T05:32:58.301297Z",
     "start_time": "2021-01-26T05:32:58.229119Z"
    }
   },
   "outputs": [
    {
     "data": {
      "image/png": "[encoded data removed]",
      "text/plain": [
       "<Figure size 432x288 with 1 Axes>"
      ]
     },
     "metadata": {
      "needs_background": "light"
     },
     "output_type": "display_data"
    }
   ],
   "source": [
    "# 탈퇴 회원\n",
    "plt.rcParams['font.family'] = 'AppleGothic'   # 한글 깨짐 방지\n",
    "sns.countplot(x=\"is_deleted\", data = customer_join)\n",
    "plt.show()"
   ]
  },
  {
   "cell_type": "markdown",
   "metadata": {},
   "source": [
    "- 현재 헬스장에 등록된 회원은 약 2800명 정도입니다."
   ]
  },
  {
   "cell_type": "code",
   "execution_count": 18,
   "metadata": {
    "ExecuteTime": {
     "end_time": "2021-01-26T05:32:58.315618Z",
     "start_time": "2021-01-26T05:32:58.306452Z"
    }
   },
   "outputs": [
    {
     "data": {
      "text/html": [
       "<div>\n",
       "<style scoped>\n",
       "    .dataframe tbody tr th:only-of-type {\n",
       "        vertical-align: middle;\n",
       "    }\n",
       "\n",
       "    .dataframe tbody tr th {\n",
       "        vertical-align: top;\n",
       "    }\n",
       "\n",
       "    .dataframe thead th {\n",
       "        text-align: right;\n",
       "    }\n",
       "</style>\n",
       "<table border=\"1\" class=\"dataframe\">\n",
       "  <thead>\n",
       "    <tr style=\"text-align: right;\">\n",
       "      <th></th>\n",
       "      <th>customer_id</th>\n",
       "      <th>name</th>\n",
       "      <th>gender</th>\n",
       "      <th>start_date</th>\n",
       "      <th>end_date</th>\n",
       "      <th>is_deleted</th>\n",
       "      <th>class_name</th>\n",
       "      <th>price</th>\n",
       "      <th>campaign_name</th>\n",
       "    </tr>\n",
       "  </thead>\n",
       "  <tbody>\n",
       "    <tr>\n",
       "      <th>0</th>\n",
       "      <td>OA832399</td>\n",
       "      <td>XXXX</td>\n",
       "      <td>F</td>\n",
       "      <td>2015-05-01 00:00:00</td>\n",
       "      <td>NaN</td>\n",
       "      <td>0</td>\n",
       "      <td>0_종일</td>\n",
       "      <td>10500</td>\n",
       "      <td>2_일반</td>\n",
       "    </tr>\n",
       "    <tr>\n",
       "      <th>1</th>\n",
       "      <td>PL270116</td>\n",
       "      <td>XXXXX</td>\n",
       "      <td>M</td>\n",
       "      <td>2015-05-01 00:00:00</td>\n",
       "      <td>NaN</td>\n",
       "      <td>0</td>\n",
       "      <td>0_종일</td>\n",
       "      <td>10500</td>\n",
       "      <td>2_일반</td>\n",
       "    </tr>\n",
       "    <tr>\n",
       "      <th>2</th>\n",
       "      <td>OA974876</td>\n",
       "      <td>XXXXX</td>\n",
       "      <td>M</td>\n",
       "      <td>2015-05-01 00:00:00</td>\n",
       "      <td>NaN</td>\n",
       "      <td>0</td>\n",
       "      <td>0_종일</td>\n",
       "      <td>10500</td>\n",
       "      <td>2_일반</td>\n",
       "    </tr>\n",
       "  </tbody>\n",
       "</table>\n",
       "</div>"
      ],
      "text/plain": [
       "  customer_id   name gender           start_date end_date  is_deleted  \\\n",
       "0    OA832399   XXXX      F  2015-05-01 00:00:00      NaN           0   \n",
       "1    PL270116  XXXXX      M  2015-05-01 00:00:00      NaN           0   \n",
       "2    OA974876  XXXXX      M  2015-05-01 00:00:00      NaN           0   \n",
       "\n",
       "  class_name  price campaign_name  \n",
       "0       0_종일  10500          2_일반  \n",
       "1       0_종일  10500          2_일반  \n",
       "2       0_종일  10500          2_일반  "
      ]
     },
     "execution_count": 18,
     "metadata": {},
     "output_type": "execute_result"
    }
   ],
   "source": [
    "customer_join.head(3)"
   ]
  },
  {
   "cell_type": "code",
   "execution_count": 20,
   "metadata": {
    "ExecuteTime": {
     "end_time": "2021-01-26T05:32:58.333398Z",
     "start_time": "2021-01-26T05:32:58.319166Z"
    }
   },
   "outputs": [
    {
     "name": "stdout",
     "output_type": "stream",
     "text": [
      "(1361, 9)\n"
     ]
    },
    {
     "data": {
      "text/html": [
       "<div>\n",
       "<style scoped>\n",
       "    .dataframe tbody tr th:only-of-type {\n",
       "        vertical-align: middle;\n",
       "    }\n",
       "\n",
       "    .dataframe tbody tr th {\n",
       "        vertical-align: top;\n",
       "    }\n",
       "\n",
       "    .dataframe thead th {\n",
       "        text-align: right;\n",
       "    }\n",
       "</style>\n",
       "<table border=\"1\" class=\"dataframe\">\n",
       "  <thead>\n",
       "    <tr style=\"text-align: right;\">\n",
       "      <th></th>\n",
       "      <th>customer_id</th>\n",
       "      <th>name</th>\n",
       "      <th>gender</th>\n",
       "      <th>start_date</th>\n",
       "      <th>end_date</th>\n",
       "      <th>is_deleted</th>\n",
       "      <th>class_name</th>\n",
       "      <th>price</th>\n",
       "      <th>campaign_name</th>\n",
       "    </tr>\n",
       "  </thead>\n",
       "  <tbody>\n",
       "    <tr>\n",
       "      <th>2831</th>\n",
       "      <td>HI195873</td>\n",
       "      <td>XXX</td>\n",
       "      <td>F</td>\n",
       "      <td>2018-04-02</td>\n",
       "      <td>2018-08-31 00:00:00</td>\n",
       "      <td>1</td>\n",
       "      <td>0_종일</td>\n",
       "      <td>10500</td>\n",
       "      <td>1_입회비무료</td>\n",
       "    </tr>\n",
       "    <tr>\n",
       "      <th>2832</th>\n",
       "      <td>TS322485</td>\n",
       "      <td>XX</td>\n",
       "      <td>F</td>\n",
       "      <td>2018-04-02</td>\n",
       "      <td>2018-08-31 00:00:00</td>\n",
       "      <td>1</td>\n",
       "      <td>2_야간</td>\n",
       "      <td>6000</td>\n",
       "      <td>1_입회비무료</td>\n",
       "    </tr>\n",
       "    <tr>\n",
       "      <th>2833</th>\n",
       "      <td>IK552971</td>\n",
       "      <td>XXXXX</td>\n",
       "      <td>F</td>\n",
       "      <td>2018-04-02</td>\n",
       "      <td>2018-08-31 00:00:00</td>\n",
       "      <td>1</td>\n",
       "      <td>1_주간</td>\n",
       "      <td>7500</td>\n",
       "      <td>1_입회비무료</td>\n",
       "    </tr>\n",
       "    <tr>\n",
       "      <th>2834</th>\n",
       "      <td>PL000560</td>\n",
       "      <td>XXX</td>\n",
       "      <td>M</td>\n",
       "      <td>2018-04-02</td>\n",
       "      <td>2018-07-31 00:00:00</td>\n",
       "      <td>1</td>\n",
       "      <td>0_종일</td>\n",
       "      <td>10500</td>\n",
       "      <td>1_입회비무료</td>\n",
       "    </tr>\n",
       "    <tr>\n",
       "      <th>2835</th>\n",
       "      <td>HD218970</td>\n",
       "      <td>XXXXX</td>\n",
       "      <td>F</td>\n",
       "      <td>2018-04-02</td>\n",
       "      <td>2018-11-30 00:00:00</td>\n",
       "      <td>1</td>\n",
       "      <td>0_종일</td>\n",
       "      <td>10500</td>\n",
       "      <td>1_입회비무료</td>\n",
       "    </tr>\n",
       "  </tbody>\n",
       "</table>\n",
       "</div>"
      ],
      "text/plain": [
       "     customer_id   name gender start_date             end_date  is_deleted  \\\n",
       "2831    HI195873    XXX      F 2018-04-02  2018-08-31 00:00:00           1   \n",
       "2832    TS322485     XX      F 2018-04-02  2018-08-31 00:00:00           1   \n",
       "2833    IK552971  XXXXX      F 2018-04-02  2018-08-31 00:00:00           1   \n",
       "2834    PL000560    XXX      M 2018-04-02  2018-07-31 00:00:00           1   \n",
       "2835    HD218970  XXXXX      F 2018-04-02  2018-11-30 00:00:00           1   \n",
       "\n",
       "     class_name  price campaign_name  \n",
       "2831       0_종일  10500       1_입회비무료  \n",
       "2832       2_야간   6000       1_입회비무료  \n",
       "2833       1_주간   7500       1_입회비무료  \n",
       "2834       0_종일  10500       1_입회비무료  \n",
       "2835       0_종일  10500       1_입회비무료  "
      ]
     },
     "execution_count": 20,
     "metadata": {},
     "output_type": "execute_result"
    }
   ],
   "source": [
    "# 2018 4월 이후 가입자 수 집계\n",
    "\n",
    "# start_date 칼럼 날짜자료형으로 변환\n",
    "customer_join.start_date = pd.to_datetime(customer_join.start_date)\n",
    "\n",
    "# 2018년 4월 이후 가입 고객들만 집계\n",
    "filter1 = (customer_join.start_date > pd.to_datetime(\"2018.04.01\"))\n",
    "after_2018_04 = customer_join[filter1]\n",
    "\n",
    "print(after_2018_04.shape)\n",
    "after_2018_04.head()"
   ]
  },
  {
   "cell_type": "code",
   "execution_count": 23,
   "metadata": {},
   "outputs": [
    {
     "data": {
      "text/plain": [
       "0      2015-05-01\n",
       "1      2015-05-01\n",
       "2      2015-05-01\n",
       "3      2015-05-01\n",
       "4      2015-05-01\n",
       "          ...    \n",
       "4187   2019-03-14\n",
       "4188   2019-03-14\n",
       "4189   2019-03-14\n",
       "4190   2019-03-14\n",
       "4191   2019-03-15\n",
       "Name: start_date, Length: 4192, dtype: datetime64[ns]"
      ]
     },
     "execution_count": 23,
     "metadata": {},
     "output_type": "execute_result"
    }
   ],
   "source": [
    "#customer_join.start_date\n"
   ]
  },
  {
   "cell_type": "code",
   "execution_count": 24,
   "metadata": {},
   "outputs": [
    {
     "data": {
      "text/html": [
       "<div>\n",
       "<style scoped>\n",
       "    .dataframe tbody tr th:only-of-type {\n",
       "        vertical-align: middle;\n",
       "    }\n",
       "\n",
       "    .dataframe tbody tr th {\n",
       "        vertical-align: top;\n",
       "    }\n",
       "\n",
       "    .dataframe thead th {\n",
       "        text-align: right;\n",
       "    }\n",
       "</style>\n",
       "<table border=\"1\" class=\"dataframe\">\n",
       "  <thead>\n",
       "    <tr style=\"text-align: right;\">\n",
       "      <th></th>\n",
       "      <th>customer_id</th>\n",
       "      <th>name</th>\n",
       "      <th>gender</th>\n",
       "      <th>start_date</th>\n",
       "      <th>end_date</th>\n",
       "      <th>is_deleted</th>\n",
       "      <th>class_name</th>\n",
       "      <th>price</th>\n",
       "      <th>campaign_name</th>\n",
       "      <th>start_year</th>\n",
       "    </tr>\n",
       "  </thead>\n",
       "  <tbody>\n",
       "    <tr>\n",
       "      <th>0</th>\n",
       "      <td>OA832399</td>\n",
       "      <td>XXXX</td>\n",
       "      <td>F</td>\n",
       "      <td>2015-05-01</td>\n",
       "      <td>NaN</td>\n",
       "      <td>0</td>\n",
       "      <td>0_종일</td>\n",
       "      <td>10500</td>\n",
       "      <td>2_일반</td>\n",
       "      <td>2015</td>\n",
       "    </tr>\n",
       "    <tr>\n",
       "      <th>1</th>\n",
       "      <td>PL270116</td>\n",
       "      <td>XXXXX</td>\n",
       "      <td>M</td>\n",
       "      <td>2015-05-01</td>\n",
       "      <td>NaN</td>\n",
       "      <td>0</td>\n",
       "      <td>0_종일</td>\n",
       "      <td>10500</td>\n",
       "      <td>2_일반</td>\n",
       "      <td>2015</td>\n",
       "    </tr>\n",
       "    <tr>\n",
       "      <th>2</th>\n",
       "      <td>OA974876</td>\n",
       "      <td>XXXXX</td>\n",
       "      <td>M</td>\n",
       "      <td>2015-05-01</td>\n",
       "      <td>NaN</td>\n",
       "      <td>0</td>\n",
       "      <td>0_종일</td>\n",
       "      <td>10500</td>\n",
       "      <td>2_일반</td>\n",
       "      <td>2015</td>\n",
       "    </tr>\n",
       "    <tr>\n",
       "      <th>3</th>\n",
       "      <td>HD024127</td>\n",
       "      <td>XXXXX</td>\n",
       "      <td>F</td>\n",
       "      <td>2015-05-01</td>\n",
       "      <td>NaN</td>\n",
       "      <td>0</td>\n",
       "      <td>0_종일</td>\n",
       "      <td>10500</td>\n",
       "      <td>2_일반</td>\n",
       "      <td>2015</td>\n",
       "    </tr>\n",
       "    <tr>\n",
       "      <th>4</th>\n",
       "      <td>HD661448</td>\n",
       "      <td>XXXXX</td>\n",
       "      <td>F</td>\n",
       "      <td>2015-05-01</td>\n",
       "      <td>NaN</td>\n",
       "      <td>0</td>\n",
       "      <td>2_야간</td>\n",
       "      <td>6000</td>\n",
       "      <td>2_일반</td>\n",
       "      <td>2015</td>\n",
       "    </tr>\n",
       "  </tbody>\n",
       "</table>\n",
       "</div>"
      ],
      "text/plain": [
       "  customer_id   name gender start_date end_date  is_deleted class_name  price  \\\n",
       "0    OA832399   XXXX      F 2015-05-01      NaN           0       0_종일  10500   \n",
       "1    PL270116  XXXXX      M 2015-05-01      NaN           0       0_종일  10500   \n",
       "2    OA974876  XXXXX      M 2015-05-01      NaN           0       0_종일  10500   \n",
       "3    HD024127  XXXXX      F 2015-05-01      NaN           0       0_종일  10500   \n",
       "4    HD661448  XXXXX      F 2015-05-01      NaN           0       2_야간   6000   \n",
       "\n",
       "  campaign_name start_year  \n",
       "0          2_일반       2015  \n",
       "1          2_일반       2015  \n",
       "2          2_일반       2015  \n",
       "3          2_일반       2015  \n",
       "4          2_일반       2015  "
      ]
     },
     "execution_count": 24,
     "metadata": {},
     "output_type": "execute_result"
    }
   ],
   "source": [
    "#customer_new1.head()"
   ]
  },
  {
   "cell_type": "markdown",
   "metadata": {},
   "source": [
    "- 앞서 불러온 센터의 이용 로그 데이터는 2018년 4월부터 기록되었다고 합니다. \n",
    "- 따라서 그 이후에 가입한 고객들은 헬스장 이용패턴을 완벽하게 파악할 수 있기 때문에 따로 뽑아내서 분석을 진행하는 것도 흥미로울 것 같습니다."
   ]
  },
  {
   "cell_type": "code",
   "execution_count": 21,
   "metadata": {
    "ExecuteTime": {
     "end_time": "2021-01-26T05:32:58.542667Z",
     "start_time": "2021-01-26T05:32:58.335101Z"
    }
   },
   "outputs": [
    {
     "data": {
      "text/html": [
       "<div>\n",
       "<style scoped>\n",
       "    .dataframe tbody tr th:only-of-type {\n",
       "        vertical-align: middle;\n",
       "    }\n",
       "\n",
       "    .dataframe tbody tr th {\n",
       "        vertical-align: top;\n",
       "    }\n",
       "\n",
       "    .dataframe thead th {\n",
       "        text-align: right;\n",
       "    }\n",
       "</style>\n",
       "<table border=\"1\" class=\"dataframe\">\n",
       "  <thead>\n",
       "    <tr style=\"text-align: right;\">\n",
       "      <th>gender</th>\n",
       "      <th>F</th>\n",
       "      <th>M</th>\n",
       "      <th>Total</th>\n",
       "    </tr>\n",
       "    <tr>\n",
       "      <th>start_year</th>\n",
       "      <th></th>\n",
       "      <th></th>\n",
       "      <th></th>\n",
       "    </tr>\n",
       "  </thead>\n",
       "  <tbody>\n",
       "    <tr>\n",
       "      <th>2015</th>\n",
       "      <td>227</td>\n",
       "      <td>265</td>\n",
       "      <td>492</td>\n",
       "    </tr>\n",
       "    <tr>\n",
       "      <th>2016</th>\n",
       "      <td>382</td>\n",
       "      <td>399</td>\n",
       "      <td>781</td>\n",
       "    </tr>\n",
       "    <tr>\n",
       "      <th>2017</th>\n",
       "      <td>584</td>\n",
       "      <td>639</td>\n",
       "      <td>1223</td>\n",
       "    </tr>\n",
       "    <tr>\n",
       "      <th>2018</th>\n",
       "      <td>677</td>\n",
       "      <td>790</td>\n",
       "      <td>1467</td>\n",
       "    </tr>\n",
       "    <tr>\n",
       "      <th>2019</th>\n",
       "      <td>113</td>\n",
       "      <td>116</td>\n",
       "      <td>229</td>\n",
       "    </tr>\n",
       "  </tbody>\n",
       "</table>\n",
       "</div>"
      ],
      "text/plain": [
       "gender        F    M  Total\n",
       "start_year                 \n",
       "2015        227  265    492\n",
       "2016        382  399    781\n",
       "2017        584  639   1223\n",
       "2018        677  790   1467\n",
       "2019        113  116    229"
      ]
     },
     "execution_count": 21,
     "metadata": {},
     "output_type": "execute_result"
    }
   ],
   "source": [
    "# 가입자 수 등록연도/성별 집계\n",
    "customer_new1 = customer_join.copy()\n",
    "customer_new1[\"start_year\"] = customer_join.start_date.dt.strftime(\"%Y\")  # 등록연도 칼럼 생성\n",
    "\n",
    "pivot_table_year = pd.pivot_table(data =  customer_new1, index = \"start_year\", \n",
    "                                  columns = \"gender\", aggfunc = \"size\", fill_value = 0)\n",
    "\n",
    "pivot_table_year[\"Total\"] = pivot_table_year[\"F\"] + pivot_table_year[\"M\"]\n",
    "pivot_table_year"
   ]
  },
  {
   "cell_type": "code",
   "execution_count": 25,
   "metadata": {
    "ExecuteTime": {
     "end_time": "2021-01-26T05:32:58.581253Z",
     "start_time": "2021-01-26T05:32:58.544665Z"
    }
   },
   "outputs": [
    {
     "data": {
      "text/html": [
       "<div>\n",
       "<style scoped>\n",
       "    .dataframe tbody tr th:only-of-type {\n",
       "        vertical-align: middle;\n",
       "    }\n",
       "\n",
       "    .dataframe tbody tr th {\n",
       "        vertical-align: top;\n",
       "    }\n",
       "\n",
       "    .dataframe thead th {\n",
       "        text-align: right;\n",
       "    }\n",
       "</style>\n",
       "<table border=\"1\" class=\"dataframe\">\n",
       "  <thead>\n",
       "    <tr style=\"text-align: right;\">\n",
       "      <th>gender</th>\n",
       "      <th>F</th>\n",
       "      <th>M</th>\n",
       "      <th>Total</th>\n",
       "    </tr>\n",
       "    <tr>\n",
       "      <th>start_month</th>\n",
       "      <th></th>\n",
       "      <th></th>\n",
       "      <th></th>\n",
       "    </tr>\n",
       "  </thead>\n",
       "  <tbody>\n",
       "    <tr>\n",
       "      <th>01</th>\n",
       "      <td>172</td>\n",
       "      <td>171</td>\n",
       "      <td>343</td>\n",
       "    </tr>\n",
       "    <tr>\n",
       "      <th>02</th>\n",
       "      <td>133</td>\n",
       "      <td>167</td>\n",
       "      <td>300</td>\n",
       "    </tr>\n",
       "    <tr>\n",
       "      <th>03</th>\n",
       "      <td>133</td>\n",
       "      <td>153</td>\n",
       "      <td>286</td>\n",
       "    </tr>\n",
       "    <tr>\n",
       "      <th>04</th>\n",
       "      <td>176</td>\n",
       "      <td>155</td>\n",
       "      <td>331</td>\n",
       "    </tr>\n",
       "    <tr>\n",
       "      <th>05</th>\n",
       "      <td>195</td>\n",
       "      <td>221</td>\n",
       "      <td>416</td>\n",
       "    </tr>\n",
       "    <tr>\n",
       "      <th>06</th>\n",
       "      <td>179</td>\n",
       "      <td>227</td>\n",
       "      <td>406</td>\n",
       "    </tr>\n",
       "    <tr>\n",
       "      <th>07</th>\n",
       "      <td>184</td>\n",
       "      <td>173</td>\n",
       "      <td>357</td>\n",
       "    </tr>\n",
       "    <tr>\n",
       "      <th>08</th>\n",
       "      <td>160</td>\n",
       "      <td>194</td>\n",
       "      <td>354</td>\n",
       "    </tr>\n",
       "    <tr>\n",
       "      <th>09</th>\n",
       "      <td>147</td>\n",
       "      <td>202</td>\n",
       "      <td>349</td>\n",
       "    </tr>\n",
       "    <tr>\n",
       "      <th>10</th>\n",
       "      <td>144</td>\n",
       "      <td>145</td>\n",
       "      <td>289</td>\n",
       "    </tr>\n",
       "    <tr>\n",
       "      <th>11</th>\n",
       "      <td>138</td>\n",
       "      <td>163</td>\n",
       "      <td>301</td>\n",
       "    </tr>\n",
       "    <tr>\n",
       "      <th>12</th>\n",
       "      <td>222</td>\n",
       "      <td>238</td>\n",
       "      <td>460</td>\n",
       "    </tr>\n",
       "  </tbody>\n",
       "</table>\n",
       "</div>"
      ],
      "text/plain": [
       "gender         F    M  Total\n",
       "start_month                 \n",
       "01           172  171    343\n",
       "02           133  167    300\n",
       "03           133  153    286\n",
       "04           176  155    331\n",
       "05           195  221    416\n",
       "06           179  227    406\n",
       "07           184  173    357\n",
       "08           160  194    354\n",
       "09           147  202    349\n",
       "10           144  145    289\n",
       "11           138  163    301\n",
       "12           222  238    460"
      ]
     },
     "execution_count": 25,
     "metadata": {},
     "output_type": "execute_result"
    }
   ],
   "source": [
    "# 가입자 수 등록월/성별 집계 #월만 이용\n",
    "customer_new2 = customer_join.copy()\n",
    "customer_new2[\"start_month\"] = customer_join.start_date.dt.strftime(\"%m\")\n",
    "\n",
    "pivot_table_month = pd.pivot_table(data =  customer_new2, index = \"start_month\", \n",
    "                                   columns = \"gender\", aggfunc = \"size\", fill_value = 0)\n",
    "\n",
    "pivot_table_month[\"Total\"] = pivot_table_month[\"F\"] + pivot_table_month[\"M\"]\n",
    "\n",
    "pivot_table_month"
   ]
  },
  {
   "cell_type": "code",
   "execution_count": 26,
   "metadata": {
    "ExecuteTime": {
     "end_time": "2021-01-26T05:32:58.959180Z",
     "start_time": "2021-01-26T05:32:58.582871Z"
    }
   },
   "outputs": [
    {
     "data": {
      "image/png": "[encoded data removed]",
      "text/plain": [
       "<Figure size 1080x432 with 2 Axes>"
      ]
     },
     "metadata": {},
     "output_type": "display_data"
    }
   ],
   "source": [
    "import seaborn as sns\n",
    "import matplotlib.pyplot as plt\n",
    "sns.set(rc={'figure.figsize':(15, 6)})\n",
    "\n",
    "plt.subplot(1,2,1)\n",
    "plt.ylim((0,600))\n",
    "sns.lineplot(data = pivot_table_month, linewidth = 3).set_title(\"New Customers by Month\")\n",
    "\n",
    "plt.subplot(1,2,2)\n",
    "plt.ylim((0,1500))\n",
    "sns.lineplot(data = pivot_table_year, linewidth = 3).set_title(\"New Customers by Year\")\n",
    "\n",
    "plt.show()"
   ]
  },
  {
   "cell_type": "markdown",
   "metadata": {},
   "source": [
    "- 시도표를 그릴때는 y축의 범위에 항상 신경씁시다!"
   ]
  },
  {
   "cell_type": "markdown",
   "metadata": {},
   "source": [
    "# 탈퇴한 회원 정보 파악"
   ]
  },
  {
   "cell_type": "code",
   "execution_count": 27,
   "metadata": {
    "ExecuteTime": {
     "end_time": "2021-01-26T05:32:58.971614Z",
     "start_time": "2021-01-26T05:32:58.960848Z"
    }
   },
   "outputs": [
    {
     "data": {
      "text/html": [
       "<div>\n",
       "<style scoped>\n",
       "    .dataframe tbody tr th:only-of-type {\n",
       "        vertical-align: middle;\n",
       "    }\n",
       "\n",
       "    .dataframe tbody tr th {\n",
       "        vertical-align: top;\n",
       "    }\n",
       "\n",
       "    .dataframe thead th {\n",
       "        text-align: right;\n",
       "    }\n",
       "</style>\n",
       "<table border=\"1\" class=\"dataframe\">\n",
       "  <thead>\n",
       "    <tr style=\"text-align: right;\">\n",
       "      <th></th>\n",
       "      <th>customer_id</th>\n",
       "      <th>name</th>\n",
       "      <th>gender</th>\n",
       "      <th>start_date</th>\n",
       "      <th>end_date</th>\n",
       "      <th>is_deleted</th>\n",
       "      <th>class_name</th>\n",
       "      <th>price</th>\n",
       "      <th>campaign_name</th>\n",
       "    </tr>\n",
       "  </thead>\n",
       "  <tbody>\n",
       "    <tr>\n",
       "      <th>0</th>\n",
       "      <td>OA832399</td>\n",
       "      <td>XXXX</td>\n",
       "      <td>F</td>\n",
       "      <td>2015-05-01</td>\n",
       "      <td>NaN</td>\n",
       "      <td>0</td>\n",
       "      <td>0_종일</td>\n",
       "      <td>10500</td>\n",
       "      <td>2_일반</td>\n",
       "    </tr>\n",
       "    <tr>\n",
       "      <th>1</th>\n",
       "      <td>PL270116</td>\n",
       "      <td>XXXXX</td>\n",
       "      <td>M</td>\n",
       "      <td>2015-05-01</td>\n",
       "      <td>NaN</td>\n",
       "      <td>0</td>\n",
       "      <td>0_종일</td>\n",
       "      <td>10500</td>\n",
       "      <td>2_일반</td>\n",
       "    </tr>\n",
       "    <tr>\n",
       "      <th>2</th>\n",
       "      <td>OA974876</td>\n",
       "      <td>XXXXX</td>\n",
       "      <td>M</td>\n",
       "      <td>2015-05-01</td>\n",
       "      <td>NaN</td>\n",
       "      <td>0</td>\n",
       "      <td>0_종일</td>\n",
       "      <td>10500</td>\n",
       "      <td>2_일반</td>\n",
       "    </tr>\n",
       "    <tr>\n",
       "      <th>3</th>\n",
       "      <td>HD024127</td>\n",
       "      <td>XXXXX</td>\n",
       "      <td>F</td>\n",
       "      <td>2015-05-01</td>\n",
       "      <td>NaN</td>\n",
       "      <td>0</td>\n",
       "      <td>0_종일</td>\n",
       "      <td>10500</td>\n",
       "      <td>2_일반</td>\n",
       "    </tr>\n",
       "    <tr>\n",
       "      <th>4</th>\n",
       "      <td>HD661448</td>\n",
       "      <td>XXXXX</td>\n",
       "      <td>F</td>\n",
       "      <td>2015-05-01</td>\n",
       "      <td>NaN</td>\n",
       "      <td>0</td>\n",
       "      <td>2_야간</td>\n",
       "      <td>6000</td>\n",
       "      <td>2_일반</td>\n",
       "    </tr>\n",
       "  </tbody>\n",
       "</table>\n",
       "</div>"
      ],
      "text/plain": [
       "  customer_id   name gender start_date end_date  is_deleted class_name  price  \\\n",
       "0    OA832399   XXXX      F 2015-05-01      NaN           0       0_종일  10500   \n",
       "1    PL270116  XXXXX      M 2015-05-01      NaN           0       0_종일  10500   \n",
       "2    OA974876  XXXXX      M 2015-05-01      NaN           0       0_종일  10500   \n",
       "3    HD024127  XXXXX      F 2015-05-01      NaN           0       0_종일  10500   \n",
       "4    HD661448  XXXXX      F 2015-05-01      NaN           0       2_야간   6000   \n",
       "\n",
       "  campaign_name  \n",
       "0          2_일반  \n",
       "1          2_일반  \n",
       "2          2_일반  \n",
       "3          2_일반  \n",
       "4          2_일반  "
      ]
     },
     "execution_count": 27,
     "metadata": {},
     "output_type": "execute_result"
    }
   ],
   "source": [
    "customer_join.head()"
   ]
  },
  {
   "cell_type": "code",
   "execution_count": 29,
   "metadata": {
    "ExecuteTime": {
     "end_time": "2021-01-26T05:32:58.980676Z",
     "start_time": "2021-01-26T05:32:58.972970Z"
    }
   },
   "outputs": [],
   "source": [
    "# end_date 칼럼 자료형 변환\n",
    "customer_join.end_date = pd.to_datetime(customer_join.end_date)\n",
    "\n",
    "# 탈퇴한 회원들 집계\n",
    "filter1 = customer_join.end_date.notnull()\n",
    "customer_signed_out = customer_join[filter1]\n",
    "\n",
    "# 탈퇴하지 않은 회원들 집계\n",
    "filter2 = customer_join.end_date.isnull()\n",
    "customer_ongoing = customer_join[filter2]"
   ]
  },
  {
   "cell_type": "code",
   "execution_count": 30,
   "metadata": {
    "ExecuteTime": {
     "end_time": "2021-01-26T05:32:58.992966Z",
     "start_time": "2021-01-26T05:32:58.982113Z"
    }
   },
   "outputs": [
    {
     "name": "stdout",
     "output_type": "stream",
     "text": [
      "class_name\n",
      "0_종일    664\n",
      "1_주간    344\n",
      "2_야간    342\n",
      "Name: customer_id, dtype: int64\n",
      "\n",
      "class_name\n",
      "0_종일    1381\n",
      "1_주간     675\n",
      "2_야간     786\n",
      "Name: customer_id, dtype: int64\n",
      "\n",
      "class_name\n",
      "0_종일    0.491852\n",
      "1_주간    0.254815\n",
      "2_야간    0.253333\n",
      "Name: customer_id, dtype: float64\n",
      "\n",
      "class_name\n",
      "0_종일    0.485925\n",
      "1_주간    0.237509\n",
      "2_야간    0.276566\n",
      "Name: customer_id, dtype: float64\n"
     ]
    }
   ],
   "source": [
    "# 회원 종류별 탈퇴율\n",
    "class_signed_out = customer_signed_out.groupby(\"class_name\").count()[\"customer_id\"]\n",
    "class_ongoing = customer_ongoing.groupby(\"class_name\").count()[\"customer_id\"]\n",
    "\n",
    "print(class_signed_out)\n",
    "print()\n",
    "print(class_ongoing)\n",
    "print()\n",
    "print(class_signed_out / class_signed_out.sum())\n",
    "print()\n",
    "print(class_ongoing / class_ongoing.sum())\n",
    "\n",
    "#서로 다른 집단간의 수치를 비교할 때에는 상대적인 비율을 보는 것이 좋습니다. "
   ]
  },
  {
   "cell_type": "markdown",
   "metadata": {},
   "source": [
    "- 그룹 간 비교를 할 떄는 항상 집단간 크기를 고려해줘야 한다는 걸 명심해주세요!\n",
    "- 상대적 비율로 파악하면 거의 차이가 없는 듯 하네요."
   ]
  },
  {
   "cell_type": "code",
   "execution_count": 31,
   "metadata": {
    "ExecuteTime": {
     "end_time": "2021-01-26T05:32:59.005282Z",
     "start_time": "2021-01-26T05:32:58.994486Z"
    }
   },
   "outputs": [
    {
     "name": "stdout",
     "output_type": "stream",
     "text": [
      "gender\n",
      "F    631\n",
      "M    719\n",
      "Name: customer_id, dtype: int64\n",
      "\n",
      "gender\n",
      "F    1352\n",
      "M    1490\n",
      "Name: customer_id, dtype: int64\n",
      "\n",
      "gender\n",
      "F    0.467407\n",
      "M    0.532593\n",
      "Name: customer_id, dtype: float64\n",
      "\n",
      "gender\n",
      "F    0.475721\n",
      "M    0.524279\n",
      "Name: customer_id, dtype: float64\n"
     ]
    }
   ],
   "source": [
    "# 성별 별 탈퇴율\n",
    "gender_signed_out = customer_signed_out.groupby(\"gender\").count()[\"customer_id\"]\n",
    "gender_ongoing = customer_ongoing.groupby(\"gender\").count()[\"customer_id\"]\n",
    "\n",
    "print(gender_signed_out)\n",
    "print()\n",
    "print(gender_ongoing)\n",
    "print()\n",
    "print(gender_signed_out / gender_signed_out.sum())\n",
    "print()\n",
    "print(gender_ongoing / gender_ongoing.sum())"
   ]
  },
  {
   "cell_type": "markdown",
   "metadata": {},
   "source": [
    "- 성별도 마찬가지로 탈퇴회원과 지속회원 간에 별 차이가 없어보입니다."
   ]
  },
  {
   "cell_type": "code",
   "execution_count": 32,
   "metadata": {
    "ExecuteTime": {
     "end_time": "2021-01-26T05:32:59.016203Z",
     "start_time": "2021-01-26T05:32:59.006801Z"
    }
   },
   "outputs": [
    {
     "data": {
      "text/html": [
       "<div>\n",
       "<style scoped>\n",
       "    .dataframe tbody tr th:only-of-type {\n",
       "        vertical-align: middle;\n",
       "    }\n",
       "\n",
       "    .dataframe tbody tr th {\n",
       "        vertical-align: top;\n",
       "    }\n",
       "\n",
       "    .dataframe thead th {\n",
       "        text-align: right;\n",
       "    }\n",
       "</style>\n",
       "<table border=\"1\" class=\"dataframe\">\n",
       "  <thead>\n",
       "    <tr style=\"text-align: right;\">\n",
       "      <th></th>\n",
       "      <th>customer_id</th>\n",
       "      <th>name</th>\n",
       "      <th>gender</th>\n",
       "      <th>start_date</th>\n",
       "      <th>end_date</th>\n",
       "      <th>is_deleted</th>\n",
       "      <th>class_name</th>\n",
       "      <th>price</th>\n",
       "      <th>campaign_name</th>\n",
       "    </tr>\n",
       "  </thead>\n",
       "  <tbody>\n",
       "    <tr>\n",
       "      <th>708</th>\n",
       "      <td>TS511179</td>\n",
       "      <td>XXXXXX</td>\n",
       "      <td>F</td>\n",
       "      <td>2016-05-01</td>\n",
       "      <td>2018-04-30</td>\n",
       "      <td>1</td>\n",
       "      <td>0_종일</td>\n",
       "      <td>10500</td>\n",
       "      <td>2_일반</td>\n",
       "    </tr>\n",
       "    <tr>\n",
       "      <th>729</th>\n",
       "      <td>TS443736</td>\n",
       "      <td>XXXX</td>\n",
       "      <td>M</td>\n",
       "      <td>2016-05-01</td>\n",
       "      <td>2018-04-30</td>\n",
       "      <td>1</td>\n",
       "      <td>1_주간</td>\n",
       "      <td>7500</td>\n",
       "      <td>2_일반</td>\n",
       "    </tr>\n",
       "    <tr>\n",
       "      <th>730</th>\n",
       "      <td>HD542886</td>\n",
       "      <td>XX</td>\n",
       "      <td>M</td>\n",
       "      <td>2016-05-01</td>\n",
       "      <td>2018-04-30</td>\n",
       "      <td>1</td>\n",
       "      <td>0_종일</td>\n",
       "      <td>10500</td>\n",
       "      <td>2_일반</td>\n",
       "    </tr>\n",
       "  </tbody>\n",
       "</table>\n",
       "</div>"
      ],
      "text/plain": [
       "    customer_id    name gender start_date   end_date  is_deleted class_name  \\\n",
       "708    TS511179  XXXXXX      F 2016-05-01 2018-04-30           1       0_종일   \n",
       "729    TS443736    XXXX      M 2016-05-01 2018-04-30           1       1_주간   \n",
       "730    HD542886      XX      M 2016-05-01 2018-04-30           1       0_종일   \n",
       "\n",
       "     price campaign_name  \n",
       "708  10500          2_일반  \n",
       "729   7500          2_일반  \n",
       "730  10500          2_일반  "
      ]
     },
     "execution_count": 32,
     "metadata": {},
     "output_type": "execute_result"
    }
   ],
   "source": [
    "customer_signed_out.head(3)"
   ]
  },
  {
   "cell_type": "code",
   "execution_count": 33,
   "metadata": {
    "ExecuteTime": {
     "end_time": "2021-01-26T05:32:59.046222Z",
     "start_time": "2021-01-26T05:32:59.017724Z"
    }
   },
   "outputs": [
    {
     "name": "stderr",
     "output_type": "stream",
     "text": [
      "<ipython-input-33-4499777e972d>:3: SettingWithCopyWarning: \n",
      "A value is trying to be set on a copy of a slice from a DataFrame.\n",
      "Try using .loc[row_indexer,col_indexer] = value instead\n",
      "\n",
      "See the caveats in the documentation: https://pandas.pydata.org/pandas-docs/stable/user_guide/indexing.html#returning-a-view-versus-a-copy\n",
      "  customer_signed_out[\"signed_out_year\"] = customer_signed_out.end_date.dt.strftime(\"%Y\")\n",
      "<ipython-input-33-4499777e972d>:4: SettingWithCopyWarning: \n",
      "A value is trying to be set on a copy of a slice from a DataFrame.\n",
      "Try using .loc[row_indexer,col_indexer] = value instead\n",
      "\n",
      "See the caveats in the documentation: https://pandas.pydata.org/pandas-docs/stable/user_guide/indexing.html#returning-a-view-versus-a-copy\n",
      "  customer_signed_out[\"signed_out_month\"] = customer_signed_out.end_date.dt.strftime(\"%m\")\n"
     ]
    }
   ],
   "source": [
    "# 성별별 탈퇴율을 연도별/월별로 집계\n",
    "\n",
    "customer_signed_out[\"signed_out_year\"] = customer_signed_out.end_date.dt.strftime(\"%Y\")\n",
    "customer_signed_out[\"signed_out_month\"] = customer_signed_out.end_date.dt.strftime(\"%m\")\n",
    "\n",
    "pivot_table_year = pd.pivot_table(data = customer_signed_out, index = \"signed_out_year\", \n",
    "                                   columns = \"gender\", aggfunc = \"size\", fill_value = 0)\n",
    "pivot_table_year[\"total\"] = pivot_table_year[\"F\"] + pivot_table_year[\"M\"]\n",
    "\n",
    "\n",
    "pivot_table_month = pd.pivot_table(data = customer_signed_out, index = \"signed_out_month\", \n",
    "                                   columns = \"gender\", aggfunc = \"size\", fill_value = 0)\n",
    "pivot_table_month[\"total\"] = pivot_table_month[\"F\"] + pivot_table_month[\"M\"]"
   ]
  },
  {
   "cell_type": "code",
   "execution_count": 34,
   "metadata": {
    "ExecuteTime": {
     "end_time": "2021-01-26T05:32:59.053151Z",
     "start_time": "2021-01-26T05:32:59.047770Z"
    }
   },
   "outputs": [
    {
     "data": {
      "text/html": [
       "<div>\n",
       "<style scoped>\n",
       "    .dataframe tbody tr th:only-of-type {\n",
       "        vertical-align: middle;\n",
       "    }\n",
       "\n",
       "    .dataframe tbody tr th {\n",
       "        vertical-align: top;\n",
       "    }\n",
       "\n",
       "    .dataframe thead th {\n",
       "        text-align: right;\n",
       "    }\n",
       "</style>\n",
       "<table border=\"1\" class=\"dataframe\">\n",
       "  <thead>\n",
       "    <tr style=\"text-align: right;\">\n",
       "      <th>gender</th>\n",
       "      <th>F</th>\n",
       "      <th>M</th>\n",
       "      <th>total</th>\n",
       "    </tr>\n",
       "    <tr>\n",
       "      <th>signed_out_year</th>\n",
       "      <th></th>\n",
       "      <th></th>\n",
       "      <th></th>\n",
       "    </tr>\n",
       "  </thead>\n",
       "  <tbody>\n",
       "    <tr>\n",
       "      <th>2018</th>\n",
       "      <td>456</td>\n",
       "      <td>505</td>\n",
       "      <td>961</td>\n",
       "    </tr>\n",
       "    <tr>\n",
       "      <th>2019</th>\n",
       "      <td>175</td>\n",
       "      <td>214</td>\n",
       "      <td>389</td>\n",
       "    </tr>\n",
       "  </tbody>\n",
       "</table>\n",
       "</div>"
      ],
      "text/plain": [
       "gender             F    M  total\n",
       "signed_out_year                 \n",
       "2018             456  505    961\n",
       "2019             175  214    389"
      ]
     },
     "execution_count": 34,
     "metadata": {},
     "output_type": "execute_result"
    }
   ],
   "source": [
    "pivot_table_year"
   ]
  },
  {
   "cell_type": "code",
   "execution_count": 35,
   "metadata": {
    "ExecuteTime": {
     "end_time": "2021-01-26T05:32:59.060588Z",
     "start_time": "2021-01-26T05:32:59.054775Z"
    }
   },
   "outputs": [
    {
     "data": {
      "text/html": [
       "<div>\n",
       "<style scoped>\n",
       "    .dataframe tbody tr th:only-of-type {\n",
       "        vertical-align: middle;\n",
       "    }\n",
       "\n",
       "    .dataframe tbody tr th {\n",
       "        vertical-align: top;\n",
       "    }\n",
       "\n",
       "    .dataframe thead th {\n",
       "        text-align: right;\n",
       "    }\n",
       "</style>\n",
       "<table border=\"1\" class=\"dataframe\">\n",
       "  <thead>\n",
       "    <tr style=\"text-align: right;\">\n",
       "      <th>gender</th>\n",
       "      <th>F</th>\n",
       "      <th>M</th>\n",
       "      <th>total</th>\n",
       "    </tr>\n",
       "    <tr>\n",
       "      <th>signed_out_month</th>\n",
       "      <th></th>\n",
       "      <th></th>\n",
       "      <th></th>\n",
       "    </tr>\n",
       "  </thead>\n",
       "  <tbody>\n",
       "    <tr>\n",
       "      <th>01</th>\n",
       "      <td>53</td>\n",
       "      <td>76</td>\n",
       "      <td>129</td>\n",
       "    </tr>\n",
       "    <tr>\n",
       "      <th>02</th>\n",
       "      <td>74</td>\n",
       "      <td>75</td>\n",
       "      <td>149</td>\n",
       "    </tr>\n",
       "    <tr>\n",
       "      <th>03</th>\n",
       "      <td>48</td>\n",
       "      <td>63</td>\n",
       "      <td>111</td>\n",
       "    </tr>\n",
       "    <tr>\n",
       "      <th>04</th>\n",
       "      <td>60</td>\n",
       "      <td>61</td>\n",
       "      <td>121</td>\n",
       "    </tr>\n",
       "    <tr>\n",
       "      <th>05</th>\n",
       "      <td>72</td>\n",
       "      <td>53</td>\n",
       "      <td>125</td>\n",
       "    </tr>\n",
       "    <tr>\n",
       "      <th>06</th>\n",
       "      <td>45</td>\n",
       "      <td>61</td>\n",
       "      <td>106</td>\n",
       "    </tr>\n",
       "    <tr>\n",
       "      <th>07</th>\n",
       "      <td>45</td>\n",
       "      <td>57</td>\n",
       "      <td>102</td>\n",
       "    </tr>\n",
       "    <tr>\n",
       "      <th>08</th>\n",
       "      <td>52</td>\n",
       "      <td>61</td>\n",
       "      <td>113</td>\n",
       "    </tr>\n",
       "    <tr>\n",
       "      <th>09</th>\n",
       "      <td>48</td>\n",
       "      <td>56</td>\n",
       "      <td>104</td>\n",
       "    </tr>\n",
       "    <tr>\n",
       "      <th>10</th>\n",
       "      <td>47</td>\n",
       "      <td>43</td>\n",
       "      <td>90</td>\n",
       "    </tr>\n",
       "    <tr>\n",
       "      <th>11</th>\n",
       "      <td>41</td>\n",
       "      <td>48</td>\n",
       "      <td>89</td>\n",
       "    </tr>\n",
       "    <tr>\n",
       "      <th>12</th>\n",
       "      <td>46</td>\n",
       "      <td>65</td>\n",
       "      <td>111</td>\n",
       "    </tr>\n",
       "  </tbody>\n",
       "</table>\n",
       "</div>"
      ],
      "text/plain": [
       "gender             F   M  total\n",
       "signed_out_month               \n",
       "01                53  76    129\n",
       "02                74  75    149\n",
       "03                48  63    111\n",
       "04                60  61    121\n",
       "05                72  53    125\n",
       "06                45  61    106\n",
       "07                45  57    102\n",
       "08                52  61    113\n",
       "09                48  56    104\n",
       "10                47  43     90\n",
       "11                41  48     89\n",
       "12                46  65    111"
      ]
     },
     "execution_count": 35,
     "metadata": {},
     "output_type": "execute_result"
    }
   ],
   "source": [
    "pivot_table_month"
   ]
  },
  {
   "cell_type": "code",
   "execution_count": 36,
   "metadata": {
    "ExecuteTime": {
     "end_time": "2021-01-26T05:32:59.417176Z",
     "start_time": "2021-01-26T05:32:59.061988Z"
    }
   },
   "outputs": [
    {
     "data": {
      "image/png": "[encoded data removed]",
      "text/plain": [
       "<Figure size 1080x432 with 2 Axes>"
      ]
     },
     "metadata": {},
     "output_type": "display_data"
    }
   ],
   "source": [
    "# 시도표 그리기\n",
    "import seaborn as sns\n",
    "import matplotlib.pyplot as plt\n",
    "sns.set(rc={'figure.figsize':(15, 6)})\n",
    "plt.rcParams['font.family'] = 'AppleGothic'   # 한글 깨짐 방지\n",
    "\n",
    "plt.subplot(1,2,1)\n",
    "sns.lineplot(data = pivot_table_month, linewidth = 3).set_title(\"월별 탈퇴회원\")\n",
    "plt.ylim(0,180)\n",
    "\n",
    "plt.subplot(1,2,2)\n",
    "sns.lineplot(data = pivot_table_year, linewidth = 3).set_title(\"연도별 탈퇴회원\")\n",
    "plt.ylim(0,1200)\n",
    "\n",
    "plt.show()"
   ]
  },
  {
   "cell_type": "markdown",
   "metadata": {},
   "source": [
    "- 월별 증가 추세를 기준으로 연말에 탈퇴하는 회원수가 늘어나는 것처럼 보입니다.\n",
    "- 탈퇴회원은 전년도에 비해 2019년도에 준 것처럼 보일 수 있으나, 2019년도 4월까지의 데이터밖에 집계되지 않았다는 것을 조심하세요."
   ]
  },
  {
   "cell_type": "markdown",
   "metadata": {},
   "source": [
    "# 회원 이용 이력 데이터 분석\n",
    "\n",
    "주어진 이용로그 데이터를 분석해봅시다"
   ]
  },
  {
   "cell_type": "code",
   "execution_count": 37,
   "metadata": {
    "ExecuteTime": {
     "end_time": "2021-01-26T05:32:59.425569Z",
     "start_time": "2021-01-26T05:32:59.418877Z"
    }
   },
   "outputs": [
    {
     "data": {
      "text/html": [
       "<div>\n",
       "<style scoped>\n",
       "    .dataframe tbody tr th:only-of-type {\n",
       "        vertical-align: middle;\n",
       "    }\n",
       "\n",
       "    .dataframe tbody tr th {\n",
       "        vertical-align: top;\n",
       "    }\n",
       "\n",
       "    .dataframe thead th {\n",
       "        text-align: right;\n",
       "    }\n",
       "</style>\n",
       "<table border=\"1\" class=\"dataframe\">\n",
       "  <thead>\n",
       "    <tr style=\"text-align: right;\">\n",
       "      <th></th>\n",
       "      <th>log_id</th>\n",
       "      <th>customer_id</th>\n",
       "      <th>usedate</th>\n",
       "    </tr>\n",
       "  </thead>\n",
       "  <tbody>\n",
       "    <tr>\n",
       "      <th>0</th>\n",
       "      <td>L00000049012330</td>\n",
       "      <td>AS009373</td>\n",
       "      <td>2018-04-01</td>\n",
       "    </tr>\n",
       "    <tr>\n",
       "      <th>1</th>\n",
       "      <td>L00000049012331</td>\n",
       "      <td>AS015315</td>\n",
       "      <td>2018-04-01</td>\n",
       "    </tr>\n",
       "    <tr>\n",
       "      <th>2</th>\n",
       "      <td>L00000049012332</td>\n",
       "      <td>AS040841</td>\n",
       "      <td>2018-04-01</td>\n",
       "    </tr>\n",
       "    <tr>\n",
       "      <th>3</th>\n",
       "      <td>L00000049012333</td>\n",
       "      <td>AS046594</td>\n",
       "      <td>2018-04-01</td>\n",
       "    </tr>\n",
       "    <tr>\n",
       "      <th>4</th>\n",
       "      <td>L00000049012334</td>\n",
       "      <td>AS073285</td>\n",
       "      <td>2018-04-01</td>\n",
       "    </tr>\n",
       "  </tbody>\n",
       "</table>\n",
       "</div>"
      ],
      "text/plain": [
       "            log_id customer_id     usedate\n",
       "0  L00000049012330    AS009373  2018-04-01\n",
       "1  L00000049012331    AS015315  2018-04-01\n",
       "2  L00000049012332    AS040841  2018-04-01\n",
       "3  L00000049012333    AS046594  2018-04-01\n",
       "4  L00000049012334    AS073285  2018-04-01"
      ]
     },
     "execution_count": 37,
     "metadata": {},
     "output_type": "execute_result"
    }
   ],
   "source": [
    "uselog.head()"
   ]
  },
  {
   "cell_type": "code",
   "execution_count": 38,
   "metadata": {
    "ExecuteTime": {
     "end_time": "2021-01-26T05:33:00.415268Z",
     "start_time": "2021-01-26T05:32:59.427208Z"
    }
   },
   "outputs": [],
   "source": [
    "# usedate 칼럼 자료형 변환\n",
    "uselog.usedate = pd.to_datetime(uselog.usedate)\n",
    "\n",
    "# 이용이력에 대한 연월 칼럼 생성\n",
    "uselog[\"year_month\"] = uselog.usedate.dt.strftime(\"%Y%m\")"
   ]
  },
  {
   "cell_type": "code",
   "execution_count": 39,
   "metadata": {
    "ExecuteTime": {
     "end_time": "2021-01-26T05:33:00.424551Z",
     "start_time": "2021-01-26T05:33:00.416994Z"
    }
   },
   "outputs": [
    {
     "data": {
      "text/html": [
       "<div>\n",
       "<style scoped>\n",
       "    .dataframe tbody tr th:only-of-type {\n",
       "        vertical-align: middle;\n",
       "    }\n",
       "\n",
       "    .dataframe tbody tr th {\n",
       "        vertical-align: top;\n",
       "    }\n",
       "\n",
       "    .dataframe thead th {\n",
       "        text-align: right;\n",
       "    }\n",
       "</style>\n",
       "<table border=\"1\" class=\"dataframe\">\n",
       "  <thead>\n",
       "    <tr style=\"text-align: right;\">\n",
       "      <th></th>\n",
       "      <th>log_id</th>\n",
       "      <th>customer_id</th>\n",
       "      <th>usedate</th>\n",
       "      <th>year_month</th>\n",
       "    </tr>\n",
       "  </thead>\n",
       "  <tbody>\n",
       "    <tr>\n",
       "      <th>0</th>\n",
       "      <td>L00000049012330</td>\n",
       "      <td>AS009373</td>\n",
       "      <td>2018-04-01</td>\n",
       "      <td>201804</td>\n",
       "    </tr>\n",
       "    <tr>\n",
       "      <th>1</th>\n",
       "      <td>L00000049012331</td>\n",
       "      <td>AS015315</td>\n",
       "      <td>2018-04-01</td>\n",
       "      <td>201804</td>\n",
       "    </tr>\n",
       "    <tr>\n",
       "      <th>2</th>\n",
       "      <td>L00000049012332</td>\n",
       "      <td>AS040841</td>\n",
       "      <td>2018-04-01</td>\n",
       "      <td>201804</td>\n",
       "    </tr>\n",
       "    <tr>\n",
       "      <th>3</th>\n",
       "      <td>L00000049012333</td>\n",
       "      <td>AS046594</td>\n",
       "      <td>2018-04-01</td>\n",
       "      <td>201804</td>\n",
       "    </tr>\n",
       "    <tr>\n",
       "      <th>4</th>\n",
       "      <td>L00000049012334</td>\n",
       "      <td>AS073285</td>\n",
       "      <td>2018-04-01</td>\n",
       "      <td>201804</td>\n",
       "    </tr>\n",
       "  </tbody>\n",
       "</table>\n",
       "</div>"
      ],
      "text/plain": [
       "            log_id customer_id    usedate year_month\n",
       "0  L00000049012330    AS009373 2018-04-01     201804\n",
       "1  L00000049012331    AS015315 2018-04-01     201804\n",
       "2  L00000049012332    AS040841 2018-04-01     201804\n",
       "3  L00000049012333    AS046594 2018-04-01     201804\n",
       "4  L00000049012334    AS073285 2018-04-01     201804"
      ]
     },
     "execution_count": 39,
     "metadata": {},
     "output_type": "execute_result"
    }
   ],
   "source": [
    "uselog.head()"
   ]
  },
  {
   "cell_type": "code",
   "execution_count": 40,
   "metadata": {
    "ExecuteTime": {
     "end_time": "2021-01-26T05:33:00.775869Z",
     "start_time": "2021-01-26T05:33:00.425893Z"
    }
   },
   "outputs": [
    {
     "data": {
      "image/png": "[encoded data removed]",
      "text/plain": [
       "<Figure size 1080x432 with 2 Axes>"
      ]
     },
     "metadata": {},
     "output_type": "display_data"
    }
   ],
   "source": [
    "# 월별 사용자수에 대한 시도표\n",
    "plt.rcParams['font.family'] = 'AppleGothic'   # 한글 깨짐 방지\n",
    "\n",
    "# y축 범위를 설정하지 않을 경우\n",
    "plt.subplot(1,2,1)\n",
    "sns.lineplot(data = uselog.groupby(\"year_month\").count()[\"log_id\"]).set_title(\"y축 범위 설정 X\")\n",
    "\n",
    "# y축 범위를 설정했을 경우\n",
    "plt.subplot(1,2,2)\n",
    "sns.lineplot(data = uselog.groupby(\"year_month\").count()[\"log_id\"]).set_title(\"y축 범위 설정 O\")\n",
    "plt.ylim(0,20000)\n",
    "\n",
    "plt.show()"
   ]
  },
  {
   "cell_type": "markdown",
   "metadata": {},
   "source": [
    "- 왼쪽의 그래프를 보면 월별 헬스장 이용자수가 꽤나 큰 폭으로 변화하는 것처럼 보이지만, y축의 하방을 0으로 고정시켜 놓고 그래프를 그리면 거의 변화가 없이 일정한 것을 확인할 수 있습니다. \n",
    "- \"이용자수\"라는 변수는 0 이상의 정수값을 갖기 때문에 y축의 하방을 0으로 설정하는 것이 타당할 것 같네요.\n",
    "- 단순히 y축의 범위를 제대로 설정하지 않는 것만으로도 정보에 대한 왜곡이 발생할 수 있다는 점을 꼭 명심해주세요!"
   ]
  },
  {
   "cell_type": "code",
   "execution_count": 41,
   "metadata": {
    "ExecuteTime": {
     "end_time": "2021-01-26T05:33:00.838726Z",
     "start_time": "2021-01-26T05:33:00.777622Z"
    }
   },
   "outputs": [
    {
     "data": {
      "text/html": [
       "<div>\n",
       "<style scoped>\n",
       "    .dataframe tbody tr th:only-of-type {\n",
       "        vertical-align: middle;\n",
       "    }\n",
       "\n",
       "    .dataframe tbody tr th {\n",
       "        vertical-align: top;\n",
       "    }\n",
       "\n",
       "    .dataframe thead th {\n",
       "        text-align: right;\n",
       "    }\n",
       "</style>\n",
       "<table border=\"1\" class=\"dataframe\">\n",
       "  <thead>\n",
       "    <tr style=\"text-align: right;\">\n",
       "      <th></th>\n",
       "      <th>year_month</th>\n",
       "      <th>customer_id</th>\n",
       "      <th>count</th>\n",
       "    </tr>\n",
       "  </thead>\n",
       "  <tbody>\n",
       "    <tr>\n",
       "      <th>0</th>\n",
       "      <td>201804</td>\n",
       "      <td>AS002855</td>\n",
       "      <td>4</td>\n",
       "    </tr>\n",
       "    <tr>\n",
       "      <th>1</th>\n",
       "      <td>201804</td>\n",
       "      <td>AS009013</td>\n",
       "      <td>2</td>\n",
       "    </tr>\n",
       "    <tr>\n",
       "      <th>2</th>\n",
       "      <td>201804</td>\n",
       "      <td>AS009373</td>\n",
       "      <td>3</td>\n",
       "    </tr>\n",
       "    <tr>\n",
       "      <th>3</th>\n",
       "      <td>201804</td>\n",
       "      <td>AS015315</td>\n",
       "      <td>6</td>\n",
       "    </tr>\n",
       "    <tr>\n",
       "      <th>4</th>\n",
       "      <td>201804</td>\n",
       "      <td>AS015739</td>\n",
       "      <td>7</td>\n",
       "    </tr>\n",
       "    <tr>\n",
       "      <th>...</th>\n",
       "      <td>...</td>\n",
       "      <td>...</td>\n",
       "      <td>...</td>\n",
       "    </tr>\n",
       "    <tr>\n",
       "      <th>36837</th>\n",
       "      <td>201903</td>\n",
       "      <td>TS995853</td>\n",
       "      <td>8</td>\n",
       "    </tr>\n",
       "    <tr>\n",
       "      <th>36838</th>\n",
       "      <td>201903</td>\n",
       "      <td>TS998593</td>\n",
       "      <td>8</td>\n",
       "    </tr>\n",
       "    <tr>\n",
       "      <th>36839</th>\n",
       "      <td>201903</td>\n",
       "      <td>TS999079</td>\n",
       "      <td>3</td>\n",
       "    </tr>\n",
       "    <tr>\n",
       "      <th>36840</th>\n",
       "      <td>201903</td>\n",
       "      <td>TS999231</td>\n",
       "      <td>6</td>\n",
       "    </tr>\n",
       "    <tr>\n",
       "      <th>36841</th>\n",
       "      <td>201903</td>\n",
       "      <td>TS999855</td>\n",
       "      <td>4</td>\n",
       "    </tr>\n",
       "  </tbody>\n",
       "</table>\n",
       "<p>36842 rows × 3 columns</p>\n",
       "</div>"
      ],
      "text/plain": [
       "      year_month customer_id  count\n",
       "0         201804    AS002855      4\n",
       "1         201804    AS009013      2\n",
       "2         201804    AS009373      3\n",
       "3         201804    AS015315      6\n",
       "4         201804    AS015739      7\n",
       "...          ...         ...    ...\n",
       "36837     201903    TS995853      8\n",
       "36838     201903    TS998593      8\n",
       "36839     201903    TS999079      3\n",
       "36840     201903    TS999231      6\n",
       "36841     201903    TS999855      4\n",
       "\n",
       "[36842 rows x 3 columns]"
      ]
     },
     "execution_count": 41,
     "metadata": {},
     "output_type": "execute_result"
    }
   ],
   "source": [
    "# 월별 회원들의 이용횟수\n",
    "uselog_bymonth = uselog.groupby([\"year_month\", \"customer_id\"], as_index=False).count()\n",
    "uselog_bymonth.rename(columns={\"log_id\": \"count\"}, inplace = True)\n",
    "uselog_bymonth.drop(\"usedate\", axis = 1, inplace = True)\n",
    "uselog_bymonth"
   ]
  },
  {
   "cell_type": "code",
   "execution_count": 46,
   "metadata": {
    "ExecuteTime": {
     "end_time": "2021-01-26T05:33:00.862812Z",
     "start_time": "2021-01-26T05:33:00.840445Z"
    }
   },
   "outputs": [
    {
     "data": {
      "text/html": [
       "<div>\n",
       "<style scoped>\n",
       "    .dataframe tbody tr th:only-of-type {\n",
       "        vertical-align: middle;\n",
       "    }\n",
       "\n",
       "    .dataframe tbody tr th {\n",
       "        vertical-align: top;\n",
       "    }\n",
       "\n",
       "    .dataframe thead th {\n",
       "        text-align: right;\n",
       "    }\n",
       "</style>\n",
       "<table border=\"1\" class=\"dataframe\">\n",
       "  <thead>\n",
       "    <tr style=\"text-align: right;\">\n",
       "      <th></th>\n",
       "      <th>mean</th>\n",
       "      <th>median</th>\n",
       "      <th>max</th>\n",
       "      <th>min</th>\n",
       "    </tr>\n",
       "    <tr>\n",
       "      <th>customer_id</th>\n",
       "      <th></th>\n",
       "      <th></th>\n",
       "      <th></th>\n",
       "      <th></th>\n",
       "    </tr>\n",
       "  </thead>\n",
       "  <tbody>\n",
       "    <tr>\n",
       "      <th>AS002855</th>\n",
       "      <td>4.500000</td>\n",
       "      <td>5.0</td>\n",
       "      <td>7</td>\n",
       "      <td>2</td>\n",
       "    </tr>\n",
       "    <tr>\n",
       "      <th>AS008805</th>\n",
       "      <td>4.000000</td>\n",
       "      <td>4.0</td>\n",
       "      <td>8</td>\n",
       "      <td>1</td>\n",
       "    </tr>\n",
       "    <tr>\n",
       "      <th>AS009013</th>\n",
       "      <td>2.000000</td>\n",
       "      <td>2.0</td>\n",
       "      <td>2</td>\n",
       "      <td>2</td>\n",
       "    </tr>\n",
       "    <tr>\n",
       "      <th>AS009373</th>\n",
       "      <td>5.083333</td>\n",
       "      <td>5.0</td>\n",
       "      <td>7</td>\n",
       "      <td>3</td>\n",
       "    </tr>\n",
       "    <tr>\n",
       "      <th>AS015233</th>\n",
       "      <td>7.545455</td>\n",
       "      <td>7.0</td>\n",
       "      <td>11</td>\n",
       "      <td>4</td>\n",
       "    </tr>\n",
       "    <tr>\n",
       "      <th>...</th>\n",
       "      <td>...</td>\n",
       "      <td>...</td>\n",
       "      <td>...</td>\n",
       "      <td>...</td>\n",
       "    </tr>\n",
       "    <tr>\n",
       "      <th>TS995853</th>\n",
       "      <td>9.500000</td>\n",
       "      <td>9.5</td>\n",
       "      <td>11</td>\n",
       "      <td>8</td>\n",
       "    </tr>\n",
       "    <tr>\n",
       "      <th>TS998593</th>\n",
       "      <td>8.142857</td>\n",
       "      <td>8.0</td>\n",
       "      <td>9</td>\n",
       "      <td>7</td>\n",
       "    </tr>\n",
       "    <tr>\n",
       "      <th>TS999079</th>\n",
       "      <td>4.916667</td>\n",
       "      <td>5.5</td>\n",
       "      <td>9</td>\n",
       "      <td>2</td>\n",
       "    </tr>\n",
       "    <tr>\n",
       "      <th>TS999231</th>\n",
       "      <td>4.666667</td>\n",
       "      <td>5.0</td>\n",
       "      <td>8</td>\n",
       "      <td>1</td>\n",
       "    </tr>\n",
       "    <tr>\n",
       "      <th>TS999855</th>\n",
       "      <td>4.583333</td>\n",
       "      <td>4.0</td>\n",
       "      <td>7</td>\n",
       "      <td>3</td>\n",
       "    </tr>\n",
       "  </tbody>\n",
       "</table>\n",
       "<p>4192 rows × 4 columns</p>\n",
       "</div>"
      ],
      "text/plain": [
       "                 mean  median  max  min\n",
       "customer_id                            \n",
       "AS002855     4.500000     5.0    7    2\n",
       "AS008805     4.000000     4.0    8    1\n",
       "AS009013     2.000000     2.0    2    2\n",
       "AS009373     5.083333     5.0    7    3\n",
       "AS015233     7.545455     7.0   11    4\n",
       "...               ...     ...  ...  ...\n",
       "TS995853     9.500000     9.5   11    8\n",
       "TS998593     8.142857     8.0    9    7\n",
       "TS999079     4.916667     5.5    9    2\n",
       "TS999231     4.666667     5.0    8    1\n",
       "TS999855     4.583333     4.0    7    3\n",
       "\n",
       "[4192 rows x 4 columns]"
      ]
     },
     "execution_count": 46,
     "metadata": {},
     "output_type": "execute_result"
    }
   ],
   "source": [
    "# 고객들의 월별 이용횟수에 대한 기초통계량 파악\n",
    "uselog_bycustomer = uselog_bymonth.groupby(\"customer_id\").agg([\"mean\", \"median\", \"max\", \"min\"])[\"count\"]\n",
    "uselog_bycustomer"
   ]
  },
  {
   "cell_type": "code",
   "execution_count": 47,
   "metadata": {
    "ExecuteTime": {
     "end_time": "2021-01-26T05:33:00.967376Z",
     "start_time": "2021-01-26T05:33:00.864293Z"
    }
   },
   "outputs": [
    {
     "data": {
      "image/png": "[encoded data removed]",
      "text/plain": [
       "<Figure size 1080x432 with 1 Axes>"
      ]
     },
     "metadata": {},
     "output_type": "display_data"
    }
   ],
   "source": [
    "# 고객들의 월별 평균 이용횟수에 대한 박스플롯\n",
    "uselog_bycustomer[\"mean\"].plot(kind=\"box\", showmeans = True)\n",
    "plt.show()"
   ]
  },
  {
   "cell_type": "code",
   "execution_count": 48,
   "metadata": {
    "ExecuteTime": {
     "end_time": "2021-01-26T05:33:01.050744Z",
     "start_time": "2021-01-26T05:33:00.968995Z"
    }
   },
   "outputs": [
    {
     "data": {
      "text/html": [
       "<div>\n",
       "<style scoped>\n",
       "    .dataframe tbody tr th:only-of-type {\n",
       "        vertical-align: middle;\n",
       "    }\n",
       "\n",
       "    .dataframe tbody tr th {\n",
       "        vertical-align: top;\n",
       "    }\n",
       "\n",
       "    .dataframe thead th {\n",
       "        text-align: right;\n",
       "    }\n",
       "</style>\n",
       "<table border=\"1\" class=\"dataframe\">\n",
       "  <thead>\n",
       "    <tr style=\"text-align: right;\">\n",
       "      <th></th>\n",
       "      <th>log_id</th>\n",
       "      <th>customer_id</th>\n",
       "      <th>usedate</th>\n",
       "      <th>year_month</th>\n",
       "      <th>weekday</th>\n",
       "    </tr>\n",
       "  </thead>\n",
       "  <tbody>\n",
       "    <tr>\n",
       "      <th>0</th>\n",
       "      <td>L00000049012330</td>\n",
       "      <td>AS009373</td>\n",
       "      <td>2018-04-01</td>\n",
       "      <td>201804</td>\n",
       "      <td>Sun</td>\n",
       "    </tr>\n",
       "    <tr>\n",
       "      <th>1</th>\n",
       "      <td>L00000049012331</td>\n",
       "      <td>AS015315</td>\n",
       "      <td>2018-04-01</td>\n",
       "      <td>201804</td>\n",
       "      <td>Sun</td>\n",
       "    </tr>\n",
       "    <tr>\n",
       "      <th>2</th>\n",
       "      <td>L00000049012332</td>\n",
       "      <td>AS040841</td>\n",
       "      <td>2018-04-01</td>\n",
       "      <td>201804</td>\n",
       "      <td>Sun</td>\n",
       "    </tr>\n",
       "    <tr>\n",
       "      <th>3</th>\n",
       "      <td>L00000049012333</td>\n",
       "      <td>AS046594</td>\n",
       "      <td>2018-04-01</td>\n",
       "      <td>201804</td>\n",
       "      <td>Sun</td>\n",
       "    </tr>\n",
       "    <tr>\n",
       "      <th>4</th>\n",
       "      <td>L00000049012334</td>\n",
       "      <td>AS073285</td>\n",
       "      <td>2018-04-01</td>\n",
       "      <td>201804</td>\n",
       "      <td>Sun</td>\n",
       "    </tr>\n",
       "    <tr>\n",
       "      <th>...</th>\n",
       "      <td>...</td>\n",
       "      <td>...</td>\n",
       "      <td>...</td>\n",
       "      <td>...</td>\n",
       "      <td>...</td>\n",
       "    </tr>\n",
       "    <tr>\n",
       "      <th>197423</th>\n",
       "      <td>L00000049209753</td>\n",
       "      <td>TS977703</td>\n",
       "      <td>2019-03-31</td>\n",
       "      <td>201903</td>\n",
       "      <td>Sun</td>\n",
       "    </tr>\n",
       "    <tr>\n",
       "      <th>197424</th>\n",
       "      <td>L00000049209754</td>\n",
       "      <td>TS979550</td>\n",
       "      <td>2019-03-31</td>\n",
       "      <td>201903</td>\n",
       "      <td>Sun</td>\n",
       "    </tr>\n",
       "    <tr>\n",
       "      <th>197425</th>\n",
       "      <td>L00000049209755</td>\n",
       "      <td>TS995299</td>\n",
       "      <td>2019-03-31</td>\n",
       "      <td>201903</td>\n",
       "      <td>Sun</td>\n",
       "    </tr>\n",
       "    <tr>\n",
       "      <th>197426</th>\n",
       "      <td>L00000049209756</td>\n",
       "      <td>TS995853</td>\n",
       "      <td>2019-03-31</td>\n",
       "      <td>201903</td>\n",
       "      <td>Sun</td>\n",
       "    </tr>\n",
       "    <tr>\n",
       "      <th>197427</th>\n",
       "      <td>L00000049209757</td>\n",
       "      <td>TS999079</td>\n",
       "      <td>2019-03-31</td>\n",
       "      <td>201903</td>\n",
       "      <td>Sun</td>\n",
       "    </tr>\n",
       "  </tbody>\n",
       "</table>\n",
       "<p>197428 rows × 5 columns</p>\n",
       "</div>"
      ],
      "text/plain": [
       "                 log_id customer_id    usedate year_month weekday\n",
       "0       L00000049012330    AS009373 2018-04-01     201804     Sun\n",
       "1       L00000049012331    AS015315 2018-04-01     201804     Sun\n",
       "2       L00000049012332    AS040841 2018-04-01     201804     Sun\n",
       "3       L00000049012333    AS046594 2018-04-01     201804     Sun\n",
       "4       L00000049012334    AS073285 2018-04-01     201804     Sun\n",
       "...                 ...         ...        ...        ...     ...\n",
       "197423  L00000049209753    TS977703 2019-03-31     201903     Sun\n",
       "197424  L00000049209754    TS979550 2019-03-31     201903     Sun\n",
       "197425  L00000049209755    TS995299 2019-03-31     201903     Sun\n",
       "197426  L00000049209756    TS995853 2019-03-31     201903     Sun\n",
       "197427  L00000049209757    TS999079 2019-03-31     201903     Sun\n",
       "\n",
       "[197428 rows x 5 columns]"
      ]
     },
     "execution_count": 48,
     "metadata": {},
     "output_type": "execute_result"
    }
   ],
   "source": [
    "# weekday(요일) column 생성\n",
    "uselog[\"weekday\"] = uselog[\"usedate\"].dt.weekday # Monday:0  //  Sunday:6\n",
    "\n",
    "def weekday_to_str(weekday):\n",
    "    dict1 = {\n",
    "        0: \"Mon\",\n",
    "        1: \"Tue\",\n",
    "        2: \"Wed\",\n",
    "        3: \"Thu\",\n",
    "        4: \"Fri\",\n",
    "        5: \"Sat\",\n",
    "        6: \"Sun\"\n",
    "    }\n",
    "    return dict1[weekday]\n",
    "\n",
    "uselog.weekday = uselog.weekday.map(weekday_to_str)\n",
    "\n",
    "uselog"
   ]
  },
  {
   "cell_type": "code",
   "execution_count": 49,
   "metadata": {
    "ExecuteTime": {
     "end_time": "2021-01-26T05:33:01.166652Z",
     "start_time": "2021-01-26T05:33:01.052499Z"
    }
   },
   "outputs": [
    {
     "data": {
      "text/html": [
       "<div>\n",
       "<style scoped>\n",
       "    .dataframe tbody tr th:only-of-type {\n",
       "        vertical-align: middle;\n",
       "    }\n",
       "\n",
       "    .dataframe tbody tr th {\n",
       "        vertical-align: top;\n",
       "    }\n",
       "\n",
       "    .dataframe thead th {\n",
       "        text-align: right;\n",
       "    }\n",
       "</style>\n",
       "<table border=\"1\" class=\"dataframe\">\n",
       "  <thead>\n",
       "    <tr style=\"text-align: right;\">\n",
       "      <th></th>\n",
       "      <th>customer_id</th>\n",
       "      <th>year_month</th>\n",
       "      <th>weekday</th>\n",
       "      <th>count</th>\n",
       "    </tr>\n",
       "  </thead>\n",
       "  <tbody>\n",
       "    <tr>\n",
       "      <th>0</th>\n",
       "      <td>AS002855</td>\n",
       "      <td>201804</td>\n",
       "      <td>Sat</td>\n",
       "      <td>4</td>\n",
       "    </tr>\n",
       "    <tr>\n",
       "      <th>1</th>\n",
       "      <td>AS002855</td>\n",
       "      <td>201805</td>\n",
       "      <td>Sat</td>\n",
       "      <td>4</td>\n",
       "    </tr>\n",
       "    <tr>\n",
       "      <th>2</th>\n",
       "      <td>AS002855</td>\n",
       "      <td>201805</td>\n",
       "      <td>Wed</td>\n",
       "      <td>1</td>\n",
       "    </tr>\n",
       "    <tr>\n",
       "      <th>3</th>\n",
       "      <td>AS002855</td>\n",
       "      <td>201806</td>\n",
       "      <td>Sat</td>\n",
       "      <td>5</td>\n",
       "    </tr>\n",
       "    <tr>\n",
       "      <th>4</th>\n",
       "      <td>AS002855</td>\n",
       "      <td>201807</td>\n",
       "      <td>Sat</td>\n",
       "      <td>4</td>\n",
       "    </tr>\n",
       "    <tr>\n",
       "      <th>...</th>\n",
       "      <td>...</td>\n",
       "      <td>...</td>\n",
       "      <td>...</td>\n",
       "      <td>...</td>\n",
       "    </tr>\n",
       "    <tr>\n",
       "      <th>93328</th>\n",
       "      <td>TS999855</td>\n",
       "      <td>201901</td>\n",
       "      <td>Sat</td>\n",
       "      <td>4</td>\n",
       "    </tr>\n",
       "    <tr>\n",
       "      <th>93329</th>\n",
       "      <td>TS999855</td>\n",
       "      <td>201901</td>\n",
       "      <td>Sun</td>\n",
       "      <td>1</td>\n",
       "    </tr>\n",
       "    <tr>\n",
       "      <th>93330</th>\n",
       "      <td>TS999855</td>\n",
       "      <td>201901</td>\n",
       "      <td>Tue</td>\n",
       "      <td>1</td>\n",
       "    </tr>\n",
       "    <tr>\n",
       "      <th>93331</th>\n",
       "      <td>TS999855</td>\n",
       "      <td>201902</td>\n",
       "      <td>Sat</td>\n",
       "      <td>4</td>\n",
       "    </tr>\n",
       "    <tr>\n",
       "      <th>93332</th>\n",
       "      <td>TS999855</td>\n",
       "      <td>201903</td>\n",
       "      <td>Sat</td>\n",
       "      <td>4</td>\n",
       "    </tr>\n",
       "  </tbody>\n",
       "</table>\n",
       "<p>93333 rows × 4 columns</p>\n",
       "</div>"
      ],
      "text/plain": [
       "      customer_id year_month weekday  count\n",
       "0        AS002855     201804     Sat      4\n",
       "1        AS002855     201805     Sat      4\n",
       "2        AS002855     201805     Wed      1\n",
       "3        AS002855     201806     Sat      5\n",
       "4        AS002855     201807     Sat      4\n",
       "...           ...        ...     ...    ...\n",
       "93328    TS999855     201901     Sat      4\n",
       "93329    TS999855     201901     Sun      1\n",
       "93330    TS999855     201901     Tue      1\n",
       "93331    TS999855     201902     Sat      4\n",
       "93332    TS999855     201903     Sat      4\n",
       "\n",
       "[93333 rows x 4 columns]"
      ]
     },
     "execution_count": 49,
     "metadata": {},
     "output_type": "execute_result"
    }
   ],
   "source": [
    "# 고객별 월/요일별 이용횟수 집계\n",
    "uselog_weekday = uselog.groupby([\"customer_id\", \"year_month\", \"weekday\"], \n",
    "                                as_index = False).count()[[\"customer_id\", \"year_month\", \"weekday\", \"log_id\"]]\n",
    "uselog_weekday.rename(columns = {\"log_id\": \"count\"}, inplace = True)\n",
    "uselog_weekday"
   ]
  },
  {
   "cell_type": "code",
   "execution_count": 50,
   "metadata": {
    "ExecuteTime": {
     "end_time": "2021-01-26T05:33:01.946663Z",
     "start_time": "2021-01-26T05:33:01.168363Z"
    }
   },
   "outputs": [],
   "source": [
    "uselog_weekday = uselog_weekday.groupby(\"customer_id\", as_index=False).max()\n",
    "\n",
    "# 한달에 특정 요일에 모두 방문한 회원 필터링\n",
    "routine_filter = uselog_weekday[\"count\"] >= 4\n",
    "\n",
    "# routine_fig column 생성\n",
    "uselog_weekday[\"routine_flg\"] = 1\n",
    "\n",
    "# 특정 요일에 모두 방문한 회원에 대해 1로 플래그 지정\n",
    "uselog_weekday[\"routine_flg\"] = uselog_weekday[\"routine_flg\"].where(routine_filter, 0)\n",
    "\n",
    "uselog_weekday = uselog_weekday[[\"customer_id\", \"count\", \"routine_flg\"]]"
   ]
  },
  {
   "cell_type": "code",
   "execution_count": 51,
   "metadata": {
    "ExecuteTime": {
     "end_time": "2021-01-26T05:33:01.962691Z",
     "start_time": "2021-01-26T05:33:01.949749Z"
    }
   },
   "outputs": [
    {
     "data": {
      "text/html": [
       "<div>\n",
       "<style scoped>\n",
       "    .dataframe tbody tr th:only-of-type {\n",
       "        vertical-align: middle;\n",
       "    }\n",
       "\n",
       "    .dataframe tbody tr th {\n",
       "        vertical-align: top;\n",
       "    }\n",
       "\n",
       "    .dataframe thead th {\n",
       "        text-align: right;\n",
       "    }\n",
       "</style>\n",
       "<table border=\"1\" class=\"dataframe\">\n",
       "  <thead>\n",
       "    <tr style=\"text-align: right;\">\n",
       "      <th></th>\n",
       "      <th>customer_id</th>\n",
       "      <th>count</th>\n",
       "      <th>routine_flg</th>\n",
       "    </tr>\n",
       "  </thead>\n",
       "  <tbody>\n",
       "    <tr>\n",
       "      <th>0</th>\n",
       "      <td>AS002855</td>\n",
       "      <td>5</td>\n",
       "      <td>1</td>\n",
       "    </tr>\n",
       "    <tr>\n",
       "      <th>1</th>\n",
       "      <td>AS008805</td>\n",
       "      <td>4</td>\n",
       "      <td>1</td>\n",
       "    </tr>\n",
       "    <tr>\n",
       "      <th>2</th>\n",
       "      <td>AS009013</td>\n",
       "      <td>2</td>\n",
       "      <td>0</td>\n",
       "    </tr>\n",
       "    <tr>\n",
       "      <th>3</th>\n",
       "      <td>AS009373</td>\n",
       "      <td>5</td>\n",
       "      <td>1</td>\n",
       "    </tr>\n",
       "    <tr>\n",
       "      <th>4</th>\n",
       "      <td>AS015233</td>\n",
       "      <td>5</td>\n",
       "      <td>1</td>\n",
       "    </tr>\n",
       "    <tr>\n",
       "      <th>...</th>\n",
       "      <td>...</td>\n",
       "      <td>...</td>\n",
       "      <td>...</td>\n",
       "    </tr>\n",
       "    <tr>\n",
       "      <th>4187</th>\n",
       "      <td>TS995853</td>\n",
       "      <td>5</td>\n",
       "      <td>1</td>\n",
       "    </tr>\n",
       "    <tr>\n",
       "      <th>4188</th>\n",
       "      <td>TS998593</td>\n",
       "      <td>5</td>\n",
       "      <td>1</td>\n",
       "    </tr>\n",
       "    <tr>\n",
       "      <th>4189</th>\n",
       "      <td>TS999079</td>\n",
       "      <td>5</td>\n",
       "      <td>1</td>\n",
       "    </tr>\n",
       "    <tr>\n",
       "      <th>4190</th>\n",
       "      <td>TS999231</td>\n",
       "      <td>5</td>\n",
       "      <td>1</td>\n",
       "    </tr>\n",
       "    <tr>\n",
       "      <th>4191</th>\n",
       "      <td>TS999855</td>\n",
       "      <td>5</td>\n",
       "      <td>1</td>\n",
       "    </tr>\n",
       "  </tbody>\n",
       "</table>\n",
       "<p>4192 rows × 3 columns</p>\n",
       "</div>"
      ],
      "text/plain": [
       "     customer_id  count  routine_flg\n",
       "0       AS002855      5            1\n",
       "1       AS008805      4            1\n",
       "2       AS009013      2            0\n",
       "3       AS009373      5            1\n",
       "4       AS015233      5            1\n",
       "...          ...    ...          ...\n",
       "4187    TS995853      5            1\n",
       "4188    TS998593      5            1\n",
       "4189    TS999079      5            1\n",
       "4190    TS999231      5            1\n",
       "4191    TS999855      5            1\n",
       "\n",
       "[4192 rows x 3 columns]"
      ]
     },
     "execution_count": 51,
     "metadata": {},
     "output_type": "execute_result"
    }
   ],
   "source": [
    "uselog_weekday"
   ]
  },
  {
   "cell_type": "markdown",
   "metadata": {},
   "source": [
    "# 데이터 결합\n",
    "\n",
    "앞서 정의한 customer_join 데이터프레임에다 uselog_bycustomer, uselog_weekday 데이터프레임을 결합해줍시다."
   ]
  },
  {
   "cell_type": "code",
   "execution_count": 52,
   "metadata": {
    "ExecuteTime": {
     "end_time": "2021-01-26T05:33:01.984140Z",
     "start_time": "2021-01-26T05:33:01.966339Z"
    }
   },
   "outputs": [
    {
     "data": {
      "text/html": [
       "<div>\n",
       "<style scoped>\n",
       "    .dataframe tbody tr th:only-of-type {\n",
       "        vertical-align: middle;\n",
       "    }\n",
       "\n",
       "    .dataframe tbody tr th {\n",
       "        vertical-align: top;\n",
       "    }\n",
       "\n",
       "    .dataframe thead th {\n",
       "        text-align: right;\n",
       "    }\n",
       "</style>\n",
       "<table border=\"1\" class=\"dataframe\">\n",
       "  <thead>\n",
       "    <tr style=\"text-align: right;\">\n",
       "      <th></th>\n",
       "      <th>customer_id</th>\n",
       "      <th>name</th>\n",
       "      <th>gender</th>\n",
       "      <th>start_date</th>\n",
       "      <th>end_date</th>\n",
       "      <th>is_deleted</th>\n",
       "      <th>class_name</th>\n",
       "      <th>price</th>\n",
       "      <th>campaign_name</th>\n",
       "      <th>mean</th>\n",
       "      <th>median</th>\n",
       "      <th>max</th>\n",
       "      <th>min</th>\n",
       "    </tr>\n",
       "  </thead>\n",
       "  <tbody>\n",
       "    <tr>\n",
       "      <th>0</th>\n",
       "      <td>OA832399</td>\n",
       "      <td>XXXX</td>\n",
       "      <td>F</td>\n",
       "      <td>2015-05-01</td>\n",
       "      <td>NaT</td>\n",
       "      <td>0</td>\n",
       "      <td>0_종일</td>\n",
       "      <td>10500</td>\n",
       "      <td>2_일반</td>\n",
       "      <td>4.833333</td>\n",
       "      <td>5.0</td>\n",
       "      <td>8</td>\n",
       "      <td>2</td>\n",
       "    </tr>\n",
       "    <tr>\n",
       "      <th>1</th>\n",
       "      <td>PL270116</td>\n",
       "      <td>XXXXX</td>\n",
       "      <td>M</td>\n",
       "      <td>2015-05-01</td>\n",
       "      <td>NaT</td>\n",
       "      <td>0</td>\n",
       "      <td>0_종일</td>\n",
       "      <td>10500</td>\n",
       "      <td>2_일반</td>\n",
       "      <td>5.083333</td>\n",
       "      <td>5.0</td>\n",
       "      <td>7</td>\n",
       "      <td>3</td>\n",
       "    </tr>\n",
       "  </tbody>\n",
       "</table>\n",
       "</div>"
      ],
      "text/plain": [
       "  customer_id   name gender start_date end_date  is_deleted class_name  price  \\\n",
       "0    OA832399   XXXX      F 2015-05-01      NaT           0       0_종일  10500   \n",
       "1    PL270116  XXXXX      M 2015-05-01      NaT           0       0_종일  10500   \n",
       "\n",
       "  campaign_name      mean  median  max  min  \n",
       "0          2_일반  4.833333     5.0    8    2  \n",
       "1          2_일반  5.083333     5.0    7    3  "
      ]
     },
     "execution_count": 52,
     "metadata": {},
     "output_type": "execute_result"
    }
   ],
   "source": [
    "customer_join.head(2)"
   ]
  },
  {
   "cell_type": "code",
   "execution_count": 44,
   "metadata": {
    "ExecuteTime": {
     "end_time": "2021-01-26T05:33:01.995873Z",
     "start_time": "2021-01-26T05:33:01.986653Z"
    }
   },
   "outputs": [
    {
     "data": {
      "text/html": [
       "<div>\n",
       "<style scoped>\n",
       "    .dataframe tbody tr th:only-of-type {\n",
       "        vertical-align: middle;\n",
       "    }\n",
       "\n",
       "    .dataframe tbody tr th {\n",
       "        vertical-align: top;\n",
       "    }\n",
       "\n",
       "    .dataframe thead th {\n",
       "        text-align: right;\n",
       "    }\n",
       "</style>\n",
       "<table border=\"1\" class=\"dataframe\">\n",
       "  <thead>\n",
       "    <tr style=\"text-align: right;\">\n",
       "      <th></th>\n",
       "      <th>mean</th>\n",
       "      <th>median</th>\n",
       "      <th>max</th>\n",
       "      <th>min</th>\n",
       "    </tr>\n",
       "    <tr>\n",
       "      <th>customer_id</th>\n",
       "      <th></th>\n",
       "      <th></th>\n",
       "      <th></th>\n",
       "      <th></th>\n",
       "    </tr>\n",
       "  </thead>\n",
       "  <tbody>\n",
       "    <tr>\n",
       "      <th>AS002855</th>\n",
       "      <td>4.5</td>\n",
       "      <td>5.0</td>\n",
       "      <td>7</td>\n",
       "      <td>2</td>\n",
       "    </tr>\n",
       "    <tr>\n",
       "      <th>AS008805</th>\n",
       "      <td>4.0</td>\n",
       "      <td>4.0</td>\n",
       "      <td>8</td>\n",
       "      <td>1</td>\n",
       "    </tr>\n",
       "  </tbody>\n",
       "</table>\n",
       "</div>"
      ],
      "text/plain": [
       "             mean  median  max  min\n",
       "customer_id                        \n",
       "AS002855      4.5     5.0    7    2\n",
       "AS008805      4.0     4.0    8    1"
      ]
     },
     "execution_count": 44,
     "metadata": {},
     "output_type": "execute_result"
    }
   ],
   "source": [
    "uselog_bycustomer.head(2)"
   ]
  },
  {
   "cell_type": "code",
   "execution_count": 45,
   "metadata": {
    "ExecuteTime": {
     "end_time": "2021-01-26T05:33:02.006244Z",
     "start_time": "2021-01-26T05:33:01.997601Z"
    }
   },
   "outputs": [
    {
     "data": {
      "text/html": [
       "<div>\n",
       "<style scoped>\n",
       "    .dataframe tbody tr th:only-of-type {\n",
       "        vertical-align: middle;\n",
       "    }\n",
       "\n",
       "    .dataframe tbody tr th {\n",
       "        vertical-align: top;\n",
       "    }\n",
       "\n",
       "    .dataframe thead th {\n",
       "        text-align: right;\n",
       "    }\n",
       "</style>\n",
       "<table border=\"1\" class=\"dataframe\">\n",
       "  <thead>\n",
       "    <tr style=\"text-align: right;\">\n",
       "      <th></th>\n",
       "      <th>customer_id</th>\n",
       "      <th>count</th>\n",
       "      <th>routine_flg</th>\n",
       "    </tr>\n",
       "  </thead>\n",
       "  <tbody>\n",
       "    <tr>\n",
       "      <th>0</th>\n",
       "      <td>AS002855</td>\n",
       "      <td>5</td>\n",
       "      <td>1</td>\n",
       "    </tr>\n",
       "    <tr>\n",
       "      <th>1</th>\n",
       "      <td>AS008805</td>\n",
       "      <td>4</td>\n",
       "      <td>1</td>\n",
       "    </tr>\n",
       "  </tbody>\n",
       "</table>\n",
       "</div>"
      ],
      "text/plain": [
       "  customer_id  count  routine_flg\n",
       "0    AS002855      5            1\n",
       "1    AS008805      4            1"
      ]
     },
     "execution_count": 45,
     "metadata": {},
     "output_type": "execute_result"
    }
   ],
   "source": [
    "uselog_weekday.head(2)"
   ]
  },
  {
   "cell_type": "code",
   "execution_count": null,
   "metadata": {},
   "outputs": [],
   "source": []
  },
  {
   "cell_type": "code",
   "execution_count": 54,
   "metadata": {},
   "outputs": [
    {
     "data": {
      "text/html": [
       "<div>\n",
       "<style scoped>\n",
       "    .dataframe tbody tr th:only-of-type {\n",
       "        vertical-align: middle;\n",
       "    }\n",
       "\n",
       "    .dataframe tbody tr th {\n",
       "        vertical-align: top;\n",
       "    }\n",
       "\n",
       "    .dataframe thead th {\n",
       "        text-align: right;\n",
       "    }\n",
       "</style>\n",
       "<table border=\"1\" class=\"dataframe\">\n",
       "  <thead>\n",
       "    <tr style=\"text-align: right;\">\n",
       "      <th></th>\n",
       "      <th>mean</th>\n",
       "      <th>median</th>\n",
       "      <th>max</th>\n",
       "      <th>min</th>\n",
       "    </tr>\n",
       "    <tr>\n",
       "      <th>customer_id</th>\n",
       "      <th></th>\n",
       "      <th></th>\n",
       "      <th></th>\n",
       "      <th></th>\n",
       "    </tr>\n",
       "  </thead>\n",
       "  <tbody>\n",
       "    <tr>\n",
       "      <th>AS002855</th>\n",
       "      <td>4.5</td>\n",
       "      <td>5.0</td>\n",
       "      <td>7</td>\n",
       "      <td>2</td>\n",
       "    </tr>\n",
       "    <tr>\n",
       "      <th>AS008805</th>\n",
       "      <td>4.0</td>\n",
       "      <td>4.0</td>\n",
       "      <td>8</td>\n",
       "      <td>1</td>\n",
       "    </tr>\n",
       "  </tbody>\n",
       "</table>\n",
       "</div>"
      ],
      "text/plain": [
       "             mean  median  max  min\n",
       "customer_id                        \n",
       "AS002855      4.5     5.0    7    2\n",
       "AS008805      4.0     4.0    8    1"
      ]
     },
     "execution_count": 54,
     "metadata": {},
     "output_type": "execute_result"
    }
   ],
   "source": [
    "uselog_bycustomer.head(2)"
   ]
  },
  {
   "cell_type": "code",
   "execution_count": 53,
   "metadata": {
    "ExecuteTime": {
     "end_time": "2021-01-26T05:33:02.040543Z",
     "start_time": "2021-01-26T05:33:02.009301Z"
    }
   },
   "outputs": [
    {
     "data": {
      "text/html": [
       "<div>\n",
       "<style scoped>\n",
       "    .dataframe tbody tr th:only-of-type {\n",
       "        vertical-align: middle;\n",
       "    }\n",
       "\n",
       "    .dataframe tbody tr th {\n",
       "        vertical-align: top;\n",
       "    }\n",
       "\n",
       "    .dataframe thead th {\n",
       "        text-align: right;\n",
       "    }\n",
       "</style>\n",
       "<table border=\"1\" class=\"dataframe\">\n",
       "  <thead>\n",
       "    <tr style=\"text-align: right;\">\n",
       "      <th></th>\n",
       "      <th>customer_id</th>\n",
       "      <th>name</th>\n",
       "      <th>gender</th>\n",
       "      <th>start_date</th>\n",
       "      <th>end_date</th>\n",
       "      <th>is_deleted</th>\n",
       "      <th>class_name</th>\n",
       "      <th>price</th>\n",
       "      <th>campaign_name</th>\n",
       "      <th>mean_x</th>\n",
       "      <th>median_x</th>\n",
       "      <th>max_x</th>\n",
       "      <th>min_x</th>\n",
       "      <th>mean_y</th>\n",
       "      <th>median_y</th>\n",
       "      <th>max_y</th>\n",
       "      <th>min_y</th>\n",
       "      <th>count</th>\n",
       "      <th>routine_flg</th>\n",
       "    </tr>\n",
       "  </thead>\n",
       "  <tbody>\n",
       "    <tr>\n",
       "      <th>0</th>\n",
       "      <td>OA832399</td>\n",
       "      <td>XXXX</td>\n",
       "      <td>F</td>\n",
       "      <td>2015-05-01</td>\n",
       "      <td>NaT</td>\n",
       "      <td>0</td>\n",
       "      <td>0_종일</td>\n",
       "      <td>10500</td>\n",
       "      <td>2_일반</td>\n",
       "      <td>4.833333</td>\n",
       "      <td>5.0</td>\n",
       "      <td>8</td>\n",
       "      <td>2</td>\n",
       "      <td>4.833333</td>\n",
       "      <td>5.0</td>\n",
       "      <td>8</td>\n",
       "      <td>2</td>\n",
       "      <td>4</td>\n",
       "      <td>1</td>\n",
       "    </tr>\n",
       "    <tr>\n",
       "      <th>1</th>\n",
       "      <td>PL270116</td>\n",
       "      <td>XXXXX</td>\n",
       "      <td>M</td>\n",
       "      <td>2015-05-01</td>\n",
       "      <td>NaT</td>\n",
       "      <td>0</td>\n",
       "      <td>0_종일</td>\n",
       "      <td>10500</td>\n",
       "      <td>2_일반</td>\n",
       "      <td>5.083333</td>\n",
       "      <td>5.0</td>\n",
       "      <td>7</td>\n",
       "      <td>3</td>\n",
       "      <td>5.083333</td>\n",
       "      <td>5.0</td>\n",
       "      <td>7</td>\n",
       "      <td>3</td>\n",
       "      <td>5</td>\n",
       "      <td>1</td>\n",
       "    </tr>\n",
       "    <tr>\n",
       "      <th>2</th>\n",
       "      <td>OA974876</td>\n",
       "      <td>XXXXX</td>\n",
       "      <td>M</td>\n",
       "      <td>2015-05-01</td>\n",
       "      <td>NaT</td>\n",
       "      <td>0</td>\n",
       "      <td>0_종일</td>\n",
       "      <td>10500</td>\n",
       "      <td>2_일반</td>\n",
       "      <td>4.583333</td>\n",
       "      <td>5.0</td>\n",
       "      <td>6</td>\n",
       "      <td>3</td>\n",
       "      <td>4.583333</td>\n",
       "      <td>5.0</td>\n",
       "      <td>6</td>\n",
       "      <td>3</td>\n",
       "      <td>5</td>\n",
       "      <td>1</td>\n",
       "    </tr>\n",
       "    <tr>\n",
       "      <th>3</th>\n",
       "      <td>HD024127</td>\n",
       "      <td>XXXXX</td>\n",
       "      <td>F</td>\n",
       "      <td>2015-05-01</td>\n",
       "      <td>NaT</td>\n",
       "      <td>0</td>\n",
       "      <td>0_종일</td>\n",
       "      <td>10500</td>\n",
       "      <td>2_일반</td>\n",
       "      <td>4.833333</td>\n",
       "      <td>4.5</td>\n",
       "      <td>7</td>\n",
       "      <td>2</td>\n",
       "      <td>4.833333</td>\n",
       "      <td>4.5</td>\n",
       "      <td>7</td>\n",
       "      <td>2</td>\n",
       "      <td>5</td>\n",
       "      <td>1</td>\n",
       "    </tr>\n",
       "    <tr>\n",
       "      <th>4</th>\n",
       "      <td>HD661448</td>\n",
       "      <td>XXXXX</td>\n",
       "      <td>F</td>\n",
       "      <td>2015-05-01</td>\n",
       "      <td>NaT</td>\n",
       "      <td>0</td>\n",
       "      <td>2_야간</td>\n",
       "      <td>6000</td>\n",
       "      <td>2_일반</td>\n",
       "      <td>3.916667</td>\n",
       "      <td>4.0</td>\n",
       "      <td>6</td>\n",
       "      <td>1</td>\n",
       "      <td>3.916667</td>\n",
       "      <td>4.0</td>\n",
       "      <td>6</td>\n",
       "      <td>1</td>\n",
       "      <td>5</td>\n",
       "      <td>1</td>\n",
       "    </tr>\n",
       "  </tbody>\n",
       "</table>\n",
       "</div>"
      ],
      "text/plain": [
       "  customer_id   name gender start_date end_date  is_deleted class_name  price  \\\n",
       "0    OA832399   XXXX      F 2015-05-01      NaT           0       0_종일  10500   \n",
       "1    PL270116  XXXXX      M 2015-05-01      NaT           0       0_종일  10500   \n",
       "2    OA974876  XXXXX      M 2015-05-01      NaT           0       0_종일  10500   \n",
       "3    HD024127  XXXXX      F 2015-05-01      NaT           0       0_종일  10500   \n",
       "4    HD661448  XXXXX      F 2015-05-01      NaT           0       2_야간   6000   \n",
       "\n",
       "  campaign_name    mean_x  median_x  max_x  min_x    mean_y  median_y  max_y  \\\n",
       "0          2_일반  4.833333       5.0      8      2  4.833333       5.0      8   \n",
       "1          2_일반  5.083333       5.0      7      3  5.083333       5.0      7   \n",
       "2          2_일반  4.583333       5.0      6      3  4.583333       5.0      6   \n",
       "3          2_일반  4.833333       4.5      7      2  4.833333       4.5      7   \n",
       "4          2_일반  3.916667       4.0      6      1  3.916667       4.0      6   \n",
       "\n",
       "   min_y  count  routine_flg  \n",
       "0      2      4            1  \n",
       "1      3      5            1  \n",
       "2      3      5            1  \n",
       "3      2      5            1  \n",
       "4      1      5            1  "
      ]
     },
     "execution_count": 53,
     "metadata": {},
     "output_type": "execute_result"
    }
   ],
   "source": [
    "# 앞서 정의한 customer_join에 방문횟수에 대한 정보를 추가\n",
    "\n",
    "customer_join = pd.merge(customer_join, uselog_bycustomer, \n",
    "                         on = \"customer_id\", how = \"left\")      # 기초통계량에 대한 칼럼들이 추가됨\n",
    "customer_join = pd.merge(customer_join, uselog_weekday, \n",
    "                         on = \"customer_id\", how = \"left\")      # routine_flg 칼럼이 추가됨\n",
    "customer_join.head()"
   ]
  },
  {
   "cell_type": "code",
   "execution_count": null,
   "metadata": {},
   "outputs": [],
   "source": []
  },
  {
   "cell_type": "code",
   "execution_count": 47,
   "metadata": {
    "ExecuteTime": {
     "end_time": "2021-01-26T05:33:04.381525Z",
     "start_time": "2021-01-26T05:33:02.042496Z"
    }
   },
   "outputs": [
    {
     "name": "stderr",
     "output_type": "stream",
     "text": [
      "/Users/dongwook/opt/anaconda3/lib/python3.8/site-packages/pandas/core/indexing.py:1636: SettingWithCopyWarning: \n",
      "A value is trying to be set on a copy of a slice from a DataFrame\n",
      "\n",
      "See the caveats in the documentation: https://pandas.pydata.org/pandas-docs/stable/user_guide/indexing.html#returning-a-view-versus-a-copy\n",
      "  self._setitem_single_block(indexer, value, name)\n"
     ]
    },
    {
     "data": {
      "text/html": [
       "<div>\n",
       "<style scoped>\n",
       "    .dataframe tbody tr th:only-of-type {\n",
       "        vertical-align: middle;\n",
       "    }\n",
       "\n",
       "    .dataframe tbody tr th {\n",
       "        vertical-align: top;\n",
       "    }\n",
       "\n",
       "    .dataframe thead th {\n",
       "        text-align: right;\n",
       "    }\n",
       "</style>\n",
       "<table border=\"1\" class=\"dataframe\">\n",
       "  <thead>\n",
       "    <tr style=\"text-align: right;\">\n",
       "      <th></th>\n",
       "      <th>customer_id</th>\n",
       "      <th>gender</th>\n",
       "      <th>start_date</th>\n",
       "      <th>end_date</th>\n",
       "      <th>is_deleted</th>\n",
       "      <th>class_name</th>\n",
       "      <th>price</th>\n",
       "      <th>campaign_name</th>\n",
       "      <th>mean</th>\n",
       "      <th>median</th>\n",
       "      <th>max</th>\n",
       "      <th>min</th>\n",
       "      <th>count</th>\n",
       "      <th>routine_flg</th>\n",
       "      <th>membership_months</th>\n",
       "    </tr>\n",
       "  </thead>\n",
       "  <tbody>\n",
       "    <tr>\n",
       "      <th>0</th>\n",
       "      <td>OA832399</td>\n",
       "      <td>F</td>\n",
       "      <td>2015-05-01</td>\n",
       "      <td>NaT</td>\n",
       "      <td>0</td>\n",
       "      <td>0_종일</td>\n",
       "      <td>10500</td>\n",
       "      <td>2_일반</td>\n",
       "      <td>4.833333</td>\n",
       "      <td>5.0</td>\n",
       "      <td>8</td>\n",
       "      <td>2</td>\n",
       "      <td>4</td>\n",
       "      <td>1</td>\n",
       "      <td>47</td>\n",
       "    </tr>\n",
       "    <tr>\n",
       "      <th>1</th>\n",
       "      <td>PL270116</td>\n",
       "      <td>M</td>\n",
       "      <td>2015-05-01</td>\n",
       "      <td>NaT</td>\n",
       "      <td>0</td>\n",
       "      <td>0_종일</td>\n",
       "      <td>10500</td>\n",
       "      <td>2_일반</td>\n",
       "      <td>5.083333</td>\n",
       "      <td>5.0</td>\n",
       "      <td>7</td>\n",
       "      <td>3</td>\n",
       "      <td>5</td>\n",
       "      <td>1</td>\n",
       "      <td>47</td>\n",
       "    </tr>\n",
       "    <tr>\n",
       "      <th>2</th>\n",
       "      <td>OA974876</td>\n",
       "      <td>M</td>\n",
       "      <td>2015-05-01</td>\n",
       "      <td>NaT</td>\n",
       "      <td>0</td>\n",
       "      <td>0_종일</td>\n",
       "      <td>10500</td>\n",
       "      <td>2_일반</td>\n",
       "      <td>4.583333</td>\n",
       "      <td>5.0</td>\n",
       "      <td>6</td>\n",
       "      <td>3</td>\n",
       "      <td>5</td>\n",
       "      <td>1</td>\n",
       "      <td>47</td>\n",
       "    </tr>\n",
       "    <tr>\n",
       "      <th>3</th>\n",
       "      <td>HD024127</td>\n",
       "      <td>F</td>\n",
       "      <td>2015-05-01</td>\n",
       "      <td>NaT</td>\n",
       "      <td>0</td>\n",
       "      <td>0_종일</td>\n",
       "      <td>10500</td>\n",
       "      <td>2_일반</td>\n",
       "      <td>4.833333</td>\n",
       "      <td>4.5</td>\n",
       "      <td>7</td>\n",
       "      <td>2</td>\n",
       "      <td>5</td>\n",
       "      <td>1</td>\n",
       "      <td>47</td>\n",
       "    </tr>\n",
       "    <tr>\n",
       "      <th>4</th>\n",
       "      <td>HD661448</td>\n",
       "      <td>F</td>\n",
       "      <td>2015-05-01</td>\n",
       "      <td>NaT</td>\n",
       "      <td>0</td>\n",
       "      <td>2_야간</td>\n",
       "      <td>6000</td>\n",
       "      <td>2_일반</td>\n",
       "      <td>3.916667</td>\n",
       "      <td>4.0</td>\n",
       "      <td>6</td>\n",
       "      <td>1</td>\n",
       "      <td>5</td>\n",
       "      <td>1</td>\n",
       "      <td>47</td>\n",
       "    </tr>\n",
       "  </tbody>\n",
       "</table>\n",
       "</div>"
      ],
      "text/plain": [
       "  customer_id gender start_date end_date  is_deleted class_name  price  \\\n",
       "0    OA832399      F 2015-05-01      NaT           0       0_종일  10500   \n",
       "1    PL270116      M 2015-05-01      NaT           0       0_종일  10500   \n",
       "2    OA974876      M 2015-05-01      NaT           0       0_종일  10500   \n",
       "3    HD024127      F 2015-05-01      NaT           0       0_종일  10500   \n",
       "4    HD661448      F 2015-05-01      NaT           0       2_야간   6000   \n",
       "\n",
       "  campaign_name      mean  median  max  min  count  routine_flg  \\\n",
       "0          2_일반  4.833333     5.0    8    2      4            1   \n",
       "1          2_일반  5.083333     5.0    7    3      5            1   \n",
       "2          2_일반  4.583333     5.0    6    3      5            1   \n",
       "3          2_일반  4.833333     4.5    7    2      5            1   \n",
       "4          2_일반  3.916667     4.0    6    1      5            1   \n",
       "\n",
       "   membership_months  \n",
       "0                 47  \n",
       "1                 47  \n",
       "2                 47  \n",
       "3                 47  \n",
       "4                 47  "
      ]
     },
     "execution_count": 47,
     "metadata": {},
     "output_type": "execute_result"
    }
   ],
   "source": [
    "## 회원 기간을 계산\n",
    "\n",
    "# 회원 기간을 계산하기 위해 칼럼 하나 생성\n",
    "customer_join[\"calc_date\"] = customer_join.end_date.fillna(pd.to_datetime(\"2019-04-30\"))\n",
    "\n",
    "# 회원 기간 (월 단위) 기록할 칼럼 생성\n",
    "customer_join[\"membership_months\"] = 0\n",
    "\n",
    "# 등록 기간부터 종료시점까지 몇개월 동안 회원이었는지를 계산\n",
    "from dateutil.relativedelta import relativedelta\n",
    "for i in range(len(customer_join)):\n",
    "    delta = relativedelta(customer_join.calc_date[i], customer_join.start_date[i]) # delta 오브젝트 생성\n",
    "    customer_join[\"membership_months\"].iloc[i] = delta.years * 12 + delta.months   # 개월 수 계산해서 추가\n",
    "    \n",
    "customer_join.drop([\"name\", \"calc_date\"], axis=1, inplace=True)  # 필요없는 칼럼 삭제\n",
    "\n",
    "customer_join.head()"
   ]
  },
  {
   "cell_type": "markdown",
   "metadata": {},
   "source": [
    "- 주어진 데이터들에 대해 전처리가 완료된 깔끔한 데이터를 얻었습니다. \n",
    "- 이를 추후에 다시 사용하기 위해 csv 파일로 저장해둡시다."
   ]
  },
  {
   "cell_type": "code",
   "execution_count": 48,
   "metadata": {
    "ExecuteTime": {
     "end_time": "2021-01-26T05:33:04.438227Z",
     "start_time": "2021-01-26T05:33:04.383351Z"
    }
   },
   "outputs": [],
   "source": [
    "customer_join.to_csv(\"customer_join.csv\", index=False)"
   ]
  },
  {
   "cell_type": "markdown",
   "metadata": {},
   "source": [
    "# 추가 EDA\n",
    "\n",
    "앞선 과정으로 구한 통합된 데이터프레임에 대해 간단하게 EDA를 진행해봅시다!"
   ]
  },
  {
   "cell_type": "code",
   "execution_count": 49,
   "metadata": {
    "ExecuteTime": {
     "end_time": "2021-01-26T05:33:04.451945Z",
     "start_time": "2021-01-26T05:33:04.439634Z"
    }
   },
   "outputs": [
    {
     "name": "stdout",
     "output_type": "stream",
     "text": [
      "(4192, 15)\n"
     ]
    },
    {
     "data": {
      "text/html": [
       "<div>\n",
       "<style scoped>\n",
       "    .dataframe tbody tr th:only-of-type {\n",
       "        vertical-align: middle;\n",
       "    }\n",
       "\n",
       "    .dataframe tbody tr th {\n",
       "        vertical-align: top;\n",
       "    }\n",
       "\n",
       "    .dataframe thead th {\n",
       "        text-align: right;\n",
       "    }\n",
       "</style>\n",
       "<table border=\"1\" class=\"dataframe\">\n",
       "  <thead>\n",
       "    <tr style=\"text-align: right;\">\n",
       "      <th></th>\n",
       "      <th>customer_id</th>\n",
       "      <th>gender</th>\n",
       "      <th>start_date</th>\n",
       "      <th>end_date</th>\n",
       "      <th>is_deleted</th>\n",
       "      <th>class_name</th>\n",
       "      <th>price</th>\n",
       "      <th>campaign_name</th>\n",
       "      <th>mean</th>\n",
       "      <th>median</th>\n",
       "      <th>max</th>\n",
       "      <th>min</th>\n",
       "      <th>count</th>\n",
       "      <th>routine_flg</th>\n",
       "      <th>membership_months</th>\n",
       "    </tr>\n",
       "  </thead>\n",
       "  <tbody>\n",
       "    <tr>\n",
       "      <th>0</th>\n",
       "      <td>OA832399</td>\n",
       "      <td>F</td>\n",
       "      <td>2015-05-01</td>\n",
       "      <td>NaT</td>\n",
       "      <td>0</td>\n",
       "      <td>0_종일</td>\n",
       "      <td>10500</td>\n",
       "      <td>2_일반</td>\n",
       "      <td>4.833333</td>\n",
       "      <td>5.0</td>\n",
       "      <td>8</td>\n",
       "      <td>2</td>\n",
       "      <td>4</td>\n",
       "      <td>1</td>\n",
       "      <td>47</td>\n",
       "    </tr>\n",
       "    <tr>\n",
       "      <th>1</th>\n",
       "      <td>PL270116</td>\n",
       "      <td>M</td>\n",
       "      <td>2015-05-01</td>\n",
       "      <td>NaT</td>\n",
       "      <td>0</td>\n",
       "      <td>0_종일</td>\n",
       "      <td>10500</td>\n",
       "      <td>2_일반</td>\n",
       "      <td>5.083333</td>\n",
       "      <td>5.0</td>\n",
       "      <td>7</td>\n",
       "      <td>3</td>\n",
       "      <td>5</td>\n",
       "      <td>1</td>\n",
       "      <td>47</td>\n",
       "    </tr>\n",
       "    <tr>\n",
       "      <th>2</th>\n",
       "      <td>OA974876</td>\n",
       "      <td>M</td>\n",
       "      <td>2015-05-01</td>\n",
       "      <td>NaT</td>\n",
       "      <td>0</td>\n",
       "      <td>0_종일</td>\n",
       "      <td>10500</td>\n",
       "      <td>2_일반</td>\n",
       "      <td>4.583333</td>\n",
       "      <td>5.0</td>\n",
       "      <td>6</td>\n",
       "      <td>3</td>\n",
       "      <td>5</td>\n",
       "      <td>1</td>\n",
       "      <td>47</td>\n",
       "    </tr>\n",
       "    <tr>\n",
       "      <th>3</th>\n",
       "      <td>HD024127</td>\n",
       "      <td>F</td>\n",
       "      <td>2015-05-01</td>\n",
       "      <td>NaT</td>\n",
       "      <td>0</td>\n",
       "      <td>0_종일</td>\n",
       "      <td>10500</td>\n",
       "      <td>2_일반</td>\n",
       "      <td>4.833333</td>\n",
       "      <td>4.5</td>\n",
       "      <td>7</td>\n",
       "      <td>2</td>\n",
       "      <td>5</td>\n",
       "      <td>1</td>\n",
       "      <td>47</td>\n",
       "    </tr>\n",
       "    <tr>\n",
       "      <th>4</th>\n",
       "      <td>HD661448</td>\n",
       "      <td>F</td>\n",
       "      <td>2015-05-01</td>\n",
       "      <td>NaT</td>\n",
       "      <td>0</td>\n",
       "      <td>2_야간</td>\n",
       "      <td>6000</td>\n",
       "      <td>2_일반</td>\n",
       "      <td>3.916667</td>\n",
       "      <td>4.0</td>\n",
       "      <td>6</td>\n",
       "      <td>1</td>\n",
       "      <td>5</td>\n",
       "      <td>1</td>\n",
       "      <td>47</td>\n",
       "    </tr>\n",
       "  </tbody>\n",
       "</table>\n",
       "</div>"
      ],
      "text/plain": [
       "  customer_id gender start_date end_date  is_deleted class_name  price  \\\n",
       "0    OA832399      F 2015-05-01      NaT           0       0_종일  10500   \n",
       "1    PL270116      M 2015-05-01      NaT           0       0_종일  10500   \n",
       "2    OA974876      M 2015-05-01      NaT           0       0_종일  10500   \n",
       "3    HD024127      F 2015-05-01      NaT           0       0_종일  10500   \n",
       "4    HD661448      F 2015-05-01      NaT           0       2_야간   6000   \n",
       "\n",
       "  campaign_name      mean  median  max  min  count  routine_flg  \\\n",
       "0          2_일반  4.833333     5.0    8    2      4            1   \n",
       "1          2_일반  5.083333     5.0    7    3      5            1   \n",
       "2          2_일반  4.583333     5.0    6    3      5            1   \n",
       "3          2_일반  4.833333     4.5    7    2      5            1   \n",
       "4          2_일반  3.916667     4.0    6    1      5            1   \n",
       "\n",
       "   membership_months  \n",
       "0                 47  \n",
       "1                 47  \n",
       "2                 47  \n",
       "3                 47  \n",
       "4                 47  "
      ]
     },
     "execution_count": 49,
     "metadata": {},
     "output_type": "execute_result"
    }
   ],
   "source": [
    "print(customer_join.shape)\n",
    "customer_join.head()"
   ]
  },
  {
   "cell_type": "code",
   "execution_count": 50,
   "metadata": {
    "ExecuteTime": {
     "end_time": "2021-01-26T05:33:04.471007Z",
     "start_time": "2021-01-26T05:33:04.453866Z"
    }
   },
   "outputs": [
    {
     "data": {
      "text/html": [
       "<div>\n",
       "<style scoped>\n",
       "    .dataframe tbody tr th:only-of-type {\n",
       "        vertical-align: middle;\n",
       "    }\n",
       "\n",
       "    .dataframe tbody tr th {\n",
       "        vertical-align: top;\n",
       "    }\n",
       "\n",
       "    .dataframe thead th {\n",
       "        text-align: right;\n",
       "    }\n",
       "</style>\n",
       "<table border=\"1\" class=\"dataframe\">\n",
       "  <thead>\n",
       "    <tr style=\"text-align: right;\">\n",
       "      <th></th>\n",
       "      <th>mean</th>\n",
       "      <th>median</th>\n",
       "      <th>max</th>\n",
       "      <th>min</th>\n",
       "    </tr>\n",
       "  </thead>\n",
       "  <tbody>\n",
       "    <tr>\n",
       "      <th>count</th>\n",
       "      <td>4192.000000</td>\n",
       "      <td>4192.000000</td>\n",
       "      <td>4192.000000</td>\n",
       "      <td>4192.000000</td>\n",
       "    </tr>\n",
       "    <tr>\n",
       "      <th>mean</th>\n",
       "      <td>5.333127</td>\n",
       "      <td>5.250596</td>\n",
       "      <td>7.823950</td>\n",
       "      <td>3.041269</td>\n",
       "    </tr>\n",
       "    <tr>\n",
       "      <th>std</th>\n",
       "      <td>1.777533</td>\n",
       "      <td>1.874874</td>\n",
       "      <td>2.168959</td>\n",
       "      <td>1.951565</td>\n",
       "    </tr>\n",
       "    <tr>\n",
       "      <th>min</th>\n",
       "      <td>1.000000</td>\n",
       "      <td>1.000000</td>\n",
       "      <td>1.000000</td>\n",
       "      <td>1.000000</td>\n",
       "    </tr>\n",
       "    <tr>\n",
       "      <th>25%</th>\n",
       "      <td>4.250000</td>\n",
       "      <td>4.000000</td>\n",
       "      <td>7.000000</td>\n",
       "      <td>2.000000</td>\n",
       "    </tr>\n",
       "    <tr>\n",
       "      <th>50%</th>\n",
       "      <td>5.000000</td>\n",
       "      <td>5.000000</td>\n",
       "      <td>8.000000</td>\n",
       "      <td>3.000000</td>\n",
       "    </tr>\n",
       "    <tr>\n",
       "      <th>75%</th>\n",
       "      <td>6.416667</td>\n",
       "      <td>6.500000</td>\n",
       "      <td>9.000000</td>\n",
       "      <td>4.000000</td>\n",
       "    </tr>\n",
       "    <tr>\n",
       "      <th>max</th>\n",
       "      <td>12.000000</td>\n",
       "      <td>12.000000</td>\n",
       "      <td>14.000000</td>\n",
       "      <td>12.000000</td>\n",
       "    </tr>\n",
       "  </tbody>\n",
       "</table>\n",
       "</div>"
      ],
      "text/plain": [
       "              mean       median          max          min\n",
       "count  4192.000000  4192.000000  4192.000000  4192.000000\n",
       "mean      5.333127     5.250596     7.823950     3.041269\n",
       "std       1.777533     1.874874     2.168959     1.951565\n",
       "min       1.000000     1.000000     1.000000     1.000000\n",
       "25%       4.250000     4.000000     7.000000     2.000000\n",
       "50%       5.000000     5.000000     8.000000     3.000000\n",
       "75%       6.416667     6.500000     9.000000     4.000000\n",
       "max      12.000000    12.000000    14.000000    12.000000"
      ]
     },
     "execution_count": 50,
     "metadata": {},
     "output_type": "execute_result"
    }
   ],
   "source": [
    "# 한달 간 방문 횟수에 대한 기초 통계량 파악\n",
    "\n",
    "customer_join[[\"mean\", \"median\", \"max\", \"min\"]].describe()"
   ]
  },
  {
   "cell_type": "code",
   "execution_count": 51,
   "metadata": {
    "ExecuteTime": {
     "end_time": "2021-01-26T05:33:04.573833Z",
     "start_time": "2021-01-26T05:33:04.472575Z"
    }
   },
   "outputs": [
    {
     "data": {
      "image/png": "[encoded data removed]",
      "text/plain": [
       "<Figure size 504x360 with 1 Axes>"
      ]
     },
     "metadata": {},
     "output_type": "display_data"
    }
   ],
   "source": [
    "\n",
    "# 꾸준히 다니는 회원의 비율\n",
    "sns.set(rc={'figure.figsize':(7, 5)})\n",
    "plt.rcParams['font.family'] = 'AppleGothic'   # 한글 깨짐 방지\n",
    "\n",
    "sns.countplot(x=\"routine_flg\", data = customer_join)\n",
    "plt.show()"
   ]
  },
  {
   "cell_type": "markdown",
   "metadata": {},
   "source": [
    "- 정기적으로 헬스장을 이용하는 회원의 비율이 훨씬 높은 것을 확인할 수 있습니다."
   ]
  },
  {
   "cell_type": "code",
   "execution_count": 52,
   "metadata": {
    "ExecuteTime": {
     "end_time": "2021-01-26T05:33:04.781960Z",
     "start_time": "2021-01-26T05:33:04.575390Z"
    }
   },
   "outputs": [
    {
     "data": {
      "image/png": "[encoded data removed]",
      "text/plain": [
       "<Figure size 504x360 with 1 Axes>"
      ]
     },
     "metadata": {},
     "output_type": "display_data"
    }
   ],
   "source": [
    "# 회원기간의 히스토그램\n",
    "customer_join.membership_months.plot(kind=\"hist\", bins=10) # 일반적으로 10개월 이내 --> 단기 이탈 고객이 많다!\n",
    "plt.show()"
   ]
  },
  {
   "cell_type": "markdown",
   "metadata": {},
   "source": [
    "- 일반적으로 회원기간이 10개월 이내인 회원들이 많으며, 특히 첫 2~3개월 만에 탈퇴하는 회원의 수가 가장 높습니다.\n",
    "- 이는 단기 이탈 고객이 많다는 의미로, 이에 대한 조치가 필요해보이네요.\n"
   ]
  },
  {
   "cell_type": "code",
   "execution_count": 53,
   "metadata": {
    "ExecuteTime": {
     "end_time": "2021-01-26T05:33:04.978338Z",
     "start_time": "2021-01-26T05:33:04.783567Z"
    }
   },
   "outputs": [
    {
     "data": {
      "image/png": "[encoded data removed]",
      "text/plain": [
       "<Figure size 504x360 with 1 Axes>"
      ]
     },
     "metadata": {},
     "output_type": "display_data"
    }
   ],
   "source": [
    "# 탈퇴회원 vs 지속회원 간 평균 월별 이용횟수 비교\n",
    "customer_end = customer_join[customer_join.is_deleted == 1]\n",
    "customer_stay = customer_join[customer_join.is_deleted == 0]\n",
    "\n",
    "# set width of bar\n",
    "barWidth = 0.25\n",
    "\n",
    "# set height of bar\n",
    "bars_end = customer_end.describe()[\"mean\"][[\"mean\", \"min\", \"25%\", \"50%\", \"75%\", \"max\"]]\n",
    "bars_stay = customer_stay.describe()[\"mean\"][[\"mean\", \"min\", \"25%\", \"50%\", \"75%\", \"max\"]]\n",
    "\n",
    "# Set position of bar on X axis\n",
    "r1 = np.arange(len(bars_end))\n",
    "r2 = [x + barWidth for x in r1]\n",
    "\n",
    "# Make the plot\n",
    "plt.bar(r1, bars_end, color='#7f6d5f', width=barWidth, edgecolor='white', label='end')\n",
    "plt.bar(r2, bars_stay, color='#557f2d', width=barWidth, edgecolor='white', label='stay')\n",
    "\n",
    "# Add xticks on the middle of the group bars\n",
    "plt.xlabel('group', fontweight='bold')\n",
    "plt.xticks([r + barWidth for r in range(len(bars_end))], [\"mean\", \"min\", \"25%\", \"50%\", \"75%\", \"max\"])\n",
    "\n",
    "# Create legend & Show graphic\n",
    "plt.legend()\n",
    "plt.show()"
   ]
  },
  {
   "cell_type": "markdown",
   "metadata": {},
   "source": [
    "- 지속회원들이 탈퇴회원들에 비해 월 평균 이용횟수가 유의미하게 많은 것을 확인할 수 있습니다.\n",
    "- 탈퇴회원들 중에서는 헬스장에 방문하기가 귀찮았던 회원들이 많은 것 같네요."
   ]
  },
  {
   "cell_type": "code",
   "execution_count": 54,
   "metadata": {
    "ExecuteTime": {
     "end_time": "2021-01-26T05:33:04.984680Z",
     "start_time": "2021-01-26T05:33:04.980230Z"
    }
   },
   "outputs": [
    {
     "data": {
      "text/plain": [
       "677401500"
      ]
     },
     "execution_count": 54,
     "metadata": {},
     "output_type": "execute_result"
    }
   ],
   "source": [
    "# 여태까지 총 수익\n",
    "sum(customer_join.price * customer_join.membership_months)"
   ]
  }
 ],
 "metadata": {
  "kernelspec": {
   "display_name": "Python 3",
   "language": "python",
   "name": "python3"
  },
  "language_info": {
   "codemirror_mode": {
    "name": "ipython",
    "version": 3
   },
   "file_extension": ".py",
   "mimetype": "text/x-python",
   "name": "python",
   "nbconvert_exporter": "python",
   "pygments_lexer": "ipython3",
   "version": "3.8.8"
  },
  "toc": {
   "base_numbering": 1,
   "nav_menu": {},
   "number_sections": true,
   "sideBar": true,
   "skip_h1_title": false,
   "title_cell": "Table of Contents",
   "title_sidebar": "Contents",
   "toc_cell": false,
   "toc_position": {},
   "toc_section_display": true,
   "toc_window_display": true
  }
 },
 "nbformat": 4,
 "nbformat_minor": 4
}
