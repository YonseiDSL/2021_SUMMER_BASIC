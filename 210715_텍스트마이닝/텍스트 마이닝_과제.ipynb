{
 "cells": [
  {
   "cell_type": "markdown",
   "id": "retired-liver",
   "metadata": {},
   "source": [
    "## 한글 텍스트 전처리"
   ]
  },
  {
   "cell_type": "code",
   "execution_count": 17,
   "id": "unlimited-strap",
   "metadata": {},
   "outputs": [],
   "source": [
    "import re\n",
    "import konlpy\n",
    "import pandas as pd"
   ]
  },
  {
   "cell_type": "code",
   "execution_count": 1,
   "id": "departmental-night",
   "metadata": {},
   "outputs": [],
   "source": [
    "#'과제_뉴스 기사' 텍스트 불러오고 string으로 읽기"
   ]
  },
  {
   "cell_type": "code",
   "execution_count": 3,
   "id": "loved-beverage",
   "metadata": {},
   "outputs": [],
   "source": [
    "#빈 줄과 양 끝단의 공백 제거"
   ]
  },
  {
   "cell_type": "code",
   "execution_count": 4,
   "id": "noted-sheep",
   "metadata": {},
   "outputs": [],
   "source": [
    "#특수문자 제거"
   ]
  },
  {
   "cell_type": "code",
   "execution_count": 5,
   "id": "invalid-interference",
   "metadata": {},
   "outputs": [],
   "source": [
    "#원하는 형태소 분석기로 pos 태깅, morphs, 그리고 명사만 모아놓은 변수 만들어보기"
   ]
  },
  {
   "cell_type": "code",
   "execution_count": 6,
   "id": "third-harmony",
   "metadata": {},
   "outputs": [],
   "source": [
    "#이메일, 날짜 등 불용어 제거"
   ]
  },
  {
   "cell_type": "code",
   "execution_count": 7,
   "id": "headed-compound",
   "metadata": {},
   "outputs": [],
   "source": [
    "#Counter 모듈로 빈도 분석"
   ]
  },
  {
   "cell_type": "markdown",
   "id": "ongoing-paper",
   "metadata": {},
   "source": [
    "## 워드클라우드 생성"
   ]
  },
  {
   "cell_type": "code",
   "execution_count": 8,
   "id": "approximate-commissioner",
   "metadata": {},
   "outputs": [],
   "source": [
    "from wordcloud import WordCloud\n",
    "import matplotlib.pyplot as plt\n",
    "from os import path"
   ]
  },
  {
   "cell_type": "code",
   "execution_count": 9,
   "id": "freelance-official",
   "metadata": {},
   "outputs": [],
   "source": [
    "#한글 폰트 가져오기"
   ]
  },
  {
   "cell_type": "code",
   "execution_count": 10,
   "id": "exact-outside",
   "metadata": {},
   "outputs": [],
   "source": [
    "#워드클라우드 시각화"
   ]
  },
  {
   "cell_type": "code",
   "execution_count": 11,
   "id": "determined-production",
   "metadata": {},
   "outputs": [],
   "source": [
    "#워드클라우드 원하는 이미지 파일로 실루엣 설정하여 시각화"
   ]
  },
  {
   "cell_type": "markdown",
   "id": "nuclear-blowing",
   "metadata": {},
   "source": [
    "## 미등록 단어 문제 해결"
   ]
  },
  {
   "cell_type": "code",
   "execution_count": 12,
   "id": "historic-nelson",
   "metadata": {},
   "outputs": [],
   "source": [
    "#미등록 단어 문제 해결 : dictionary 설정하기"
   ]
  },
  {
   "cell_type": "markdown",
   "id": "introductory-supervision",
   "metadata": {},
   "source": [
    "## 네트워크 시각화"
   ]
  },
  {
   "cell_type": "code",
   "execution_count": 13,
   "id": "pointed-appraisal",
   "metadata": {},
   "outputs": [],
   "source": [
    "import networkx as nx\n",
    "import matplotlib.pyplot as plt"
   ]
  },
  {
   "cell_type": "code",
   "execution_count": 2,
   "id": "christian-salem",
   "metadata": {},
   "outputs": [],
   "source": [
    "#networkx로 시각화"
   ]
  }
 ],
 "metadata": {
  "kernelspec": {
   "display_name": "Python 3",
   "language": "python",
   "name": "python3"
  },
  "language_info": {
   "codemirror_mode": {
    "name": "ipython",
    "version": 3
   },
   "file_extension": ".py",
   "mimetype": "text/x-python",
   "name": "python",
   "nbconvert_exporter": "python",
   "pygments_lexer": "ipython3",
   "version": "3.8.8"
  },
  "toc": {
   "base_numbering": 1,
   "nav_menu": {},
   "number_sections": true,
   "sideBar": true,
   "skip_h1_title": false,
   "title_cell": "Table of Contents",
   "title_sidebar": "Contents",
   "toc_cell": false,
   "toc_position": {},
   "toc_section_display": true,
   "toc_window_display": false
  }
 },
 "nbformat": 4,
 "nbformat_minor": 5
}
