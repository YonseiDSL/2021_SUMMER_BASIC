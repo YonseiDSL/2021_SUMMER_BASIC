{
 "cells": [
  {
   "cell_type": "code",
   "execution_count": 1,
   "id": "f285c0a7",
   "metadata": {},
   "outputs": [],
   "source": [
    "# 과제 정답"
   ]
  },
  {
   "cell_type": "markdown",
   "id": "841dd11f",
   "metadata": {},
   "source": [
    "(기초과제) 신의탑 제목/링크 들고오기"
   ]
  },
  {
   "cell_type": "code",
   "execution_count": 29,
   "id": "4a75752a",
   "metadata": {},
   "outputs": [
    {
     "data": {
      "text/plain": [
       "<bound method Response.raise_for_status of <Response [200]>>"
      ]
     },
     "execution_count": 29,
     "metadata": {},
     "output_type": "execute_result"
    }
   ],
   "source": [
    "url3= \"https://comic.naver.com/webtoon/list.nhn?titleId=183559\"\n",
    "res=requests.get(url3)\n",
    "res.raise_for_status # 문제가 있으면 중단"
   ]
  },
  {
   "cell_type": "code",
   "execution_count": 30,
   "id": "acafc164",
   "metadata": {},
   "outputs": [],
   "source": [
    "soup=BeautifulSoup(res.text,\"lxml\")"
   ]
  },
  {
   "cell_type": "code",
   "execution_count": 31,
   "id": "aa63359e",
   "metadata": {},
   "outputs": [
    {
     "name": "stdout",
     "output_type": "stream",
     "text": [
      "3부 76화\n"
     ]
    }
   ],
   "source": [
    "cartoons = soup.find_all(\"td\", attrs={\"class\":\"title\"}) # a element의 class 속성이 title인 모든 element를 반환\n",
    "title=cartoons[0].a.get_text()\n",
    "print(title)"
   ]
  },
  {
   "cell_type": "code",
   "execution_count": 32,
   "id": "f1270a1c",
   "metadata": {},
   "outputs": [
    {
     "name": "stdout",
     "output_type": "stream",
     "text": [
      "https://comic.naver.com/webtoon/detail?titleId=183559&no=495&weekday=mon\n"
     ]
    }
   ],
   "source": [
    "link = cartoons[0].a[\"href\"] # 속성 들고 오기\n",
    "print(\"https://comic.naver.com\" + link)"
   ]
  },
  {
   "cell_type": "code",
   "execution_count": 33,
   "id": "90dd3fd3",
   "metadata": {},
   "outputs": [
    {
     "name": "stdout",
     "output_type": "stream",
     "text": [
      "3부 76화 https://comic.naver.com/webtoon/detail?titleId=183559&no=495&weekday=mon\n",
      "3부 75화 https://comic.naver.com/webtoon/detail?titleId=183559&no=494&weekday=mon\n",
      "3부 74화 https://comic.naver.com/webtoon/detail?titleId=183559&no=493&weekday=mon\n",
      "3부 73화 https://comic.naver.com/webtoon/detail?titleId=183559&no=492&weekday=mon\n",
      "3부 72화 https://comic.naver.com/webtoon/detail?titleId=183559&no=491&weekday=mon\n",
      "3부 71화 https://comic.naver.com/webtoon/detail?titleId=183559&no=490&weekday=mon\n",
      "3부 70화 https://comic.naver.com/webtoon/detail?titleId=183559&no=489&weekday=mon\n",
      "3부 69화 https://comic.naver.com/webtoon/detail?titleId=183559&no=488&weekday=mon\n",
      "3부 68화 https://comic.naver.com/webtoon/detail?titleId=183559&no=487&weekday=mon\n",
      "3부 67화 https://comic.naver.com/webtoon/detail?titleId=183559&no=486&weekday=mon\n"
     ]
    }
   ],
   "source": [
    "# 만화 제목 + 링크 가져오기\n",
    "for cartoon in cartoons:\n",
    "    title = cartoon.a.get_text()\n",
    "    link = \"https://comic.naver.com\" + cartoon.a[\"href\"]\n",
    "    print(title, link)"
   ]
  },
  {
   "cell_type": "code",
   "execution_count": null,
   "id": "ffe30d0a",
   "metadata": {},
   "outputs": [],
   "source": []
  },
  {
   "cell_type": "code",
   "execution_count": null,
   "id": "83b62373",
   "metadata": {},
   "outputs": [],
   "source": []
  },
  {
   "cell_type": "markdown",
   "id": "c0af669d",
   "metadata": {},
   "source": [
    "(심화과제) \n",
    "해당 페이지를 보면 이미지가 있는 기사가 있고, 없는 기사가 있어서 일부 기사가 정보가 뜨지 않을 것입니다.\n",
    "이미지가 있으면 2번째 a, 없으면 첫번째 a를 선택해야 해서 생기는 문제인데, 이 부분은 함께 스터디에서 논의하는 것도 좋을 것 같아 과제로 선정하였습니다."
   ]
  },
  {
   "cell_type": "code",
   "execution_count": 11,
   "id": "02fbfb73",
   "metadata": {},
   "outputs": [],
   "source": [
    "import requests  # 해당 url을 주고, 필요한 정보를 불러온다\n",
    "from bs4 import BeautifulSoup "
   ]
  },
  {
   "cell_type": "code",
   "execution_count": 12,
   "id": "675d5a26",
   "metadata": {},
   "outputs": [],
   "source": [
    "headers= {\"User-Agent\":\"Mozilla/5.0 (Windows NT 10.0; Win64; x64) AppleWebKit/537.36 (KHTML, like Gecko) Chrome/91.0.4472.124 Safari/537.36\"}"
   ]
  },
  {
   "cell_type": "code",
   "execution_count": 13,
   "id": "03416642",
   "metadata": {},
   "outputs": [],
   "source": [
    "url=\"https://news.naver.com/main/list.naver?mode=LS2D&mid=shm&sid1=101&sid2=259\"\n",
    "res=requests.get(url,headers=headers)\n",
    "res.raise_for_status()\n",
    "soup=BeautifulSoup(res.text,\"lxml\") "
   ]
  },
  {
   "cell_type": "code",
   "execution_count": 14,
   "id": "2bcde1fe",
   "metadata": {},
   "outputs": [
    {
     "data": {
      "text/plain": [
       "<ul class=\"type06_headline\">\n",
       "<li>\n",
       "<dl>\n",
       "<dt class=\"photo\">\n",
       "<a href=\"https://news.naver.com/main/read.naver?mode=LS2D&amp;mid=shm&amp;sid1=101&amp;sid2=259&amp;oid=028&amp;aid=0002551670\">\n",
       "<img alt=\"김건희씨 30% 싸게 샀는데도…‘신주인수권’ 특혜 아니라는 윤석열\" height=\"72\" onerror=\"javascript:this.src='https://ssl.pstatic.net/static.news/image/news/2009/noimage_106x72.png';\" src=\"https://imgnews.pstatic.net/image/origin/028/2021/07/07/2551670.jpg?type=nf106_72\" width=\"106\"/>\n",
       "</a>\n",
       "</dt>\n",
       "<dt>\n",
       "<a href=\"https://news.naver.com/main/read.naver?mode=LS2D&amp;mid=shm&amp;sid1=101&amp;sid2=259&amp;oid=028&amp;aid=0002551670\">\n",
       "\t\t\t\t\t\t\t\t 김건희씨 30% 싸게 샀는데도…‘신주인수권’ 특혜 아니라는 윤석열\n",
       "\t\t\t\t\t\t\t\t</a>\n",
       "</dt>\n",
       "<dd>\n",
       "<span class=\"lede\">윤석열 전 검찰총장의 부인 김건희씨가 2012년 권오수 도이치모터스 회장으로부터 신주인수권을 30% 싼값에 사들인 것으로 확인됐 …</span>\n",
       "<span class=\"writing\">한겨레</span>\n",
       "<span class=\"date is_new\">45분전</span>\n",
       "</dd>\n",
       "</dl>\n",
       "</li>\n",
       "<li>\n",
       "<dl>\n",
       "<dt>\n",
       "<a href=\"https://news.naver.com/main/read.naver?mode=LS2D&amp;mid=shm&amp;sid1=101&amp;sid2=259&amp;oid=014&amp;aid=0004670831\">\n",
       "\t\t\t\t\t\t\t\t 씨티은행, 주금공 유로화 커버드본드 발행 수탁사로 참여\n",
       "\t\t\t\t\t\t\t\t</a>\n",
       "</dt>\n",
       "<dd>\n",
       "<span class=\"lede\">[파이낸셜뉴스] 한국씨티은행은 한국주택금융공사가 유로화 해외 커버드본드를 성공적으로 발행하는 데에 업무수탁기관으로 참여했다고 7 …</span>\n",
       "<span class=\"writing\">파이낸셜뉴스</span>\n",
       "<span class=\"date is_outdated\">1시간전\t</span>\n",
       "</dd>\n",
       "</dl>\n",
       "</li>\n",
       "<li>\n",
       "<dl>\n",
       "<dt class=\"photo\">\n",
       "<a href=\"https://news.naver.com/main/read.naver?mode=LS2D&amp;mid=shm&amp;sid1=101&amp;sid2=259&amp;oid=029&amp;aid=0002685775\">\n",
       "<img alt='\"진짜 맛집 엄선… 가맹점 수수료 부담 줄일 것\"' height=\"72\" onerror=\"javascript:this.src='https://ssl.pstatic.net/static.news/image/news/2009/noimage_106x72.png';\" src=\"https://imgnews.pstatic.net/image/origin/029/2021/07/07/2685775.jpg?type=nf106_72\" width=\"106\"/>\n",
       "</a>\n",
       "</dt>\n",
       "<dt>\n",
       "<a href=\"https://news.naver.com/main/read.naver?mode=LS2D&amp;mid=shm&amp;sid1=101&amp;sid2=259&amp;oid=029&amp;aid=0002685775\">\n",
       "\t\t\t\t\t\t\t\t \"진짜 맛집 엄선… 가맹점 수수료 부담 줄일 것\"\n",
       "\t\t\t\t\t\t\t\t</a>\n",
       "</dt>\n",
       "<dd>\n",
       "<span class=\"lede\">신한은행의 비금융 신사업 전담조직인 'O2O(온·오프라인연계서비스) 추진단'이 비금융 플랫폼 기반의 혁신적 금융 비즈니스의 창출 …</span>\n",
       "<span class=\"writing\">디지털타임스</span>\n",
       "<span class=\"newspaper_info\" title=\"신문에 게재되었으며 8면의 기사입니다.\"><i class=\"picon\">신문</i>8면 </span>\n",
       "<span class=\"date is_outdated\">1시간전\t</span>\n",
       "</dd>\n",
       "</dl>\n",
       "</li>\n",
       "<li>\n",
       "<dl>\n",
       "<dt class=\"photo\">\n",
       "<a href=\"https://news.naver.com/main/read.naver?mode=LS2D&amp;mid=shm&amp;sid1=101&amp;sid2=259&amp;oid=029&amp;aid=0002685774\">\n",
       "<img alt=\"[생활금융플랫폼시대] 청약컨설팅에 배달까지… 일상 바꾼 `1등앱`\" height=\"72\" onerror=\"javascript:this.src='https://ssl.pstatic.net/static.news/image/news/2009/noimage_106x72.png';\" src=\"https://imgnews.pstatic.net/image/origin/029/2021/07/07/2685774.jpg?type=nf106_72\" width=\"106\"/>\n",
       "</a>\n",
       "</dt>\n",
       "<dt>\n",
       "<a href=\"https://news.naver.com/main/read.naver?mode=LS2D&amp;mid=shm&amp;sid1=101&amp;sid2=259&amp;oid=029&amp;aid=0002685774\">\n",
       "\t\t\t\t\t\t\t\t [생활금융플랫폼시대] 청약컨설팅에 배달까지… 일상 바꾼 `1등앱`\n",
       "\t\t\t\t\t\t\t\t</a>\n",
       "</dt>\n",
       "<dd>\n",
       "<span class=\"lede\">신한은행 쏠 실손보험 청구서비스 등 인기 연내 음식 배달앱시장 진출도 가입자만 1250만명 금융권 톱 디지털 전환과 비대면 거래 …</span>\n",
       "<span class=\"writing\">디지털타임스</span>\n",
       "<span class=\"newspaper_info\" title=\"신문에 게재되었으며 8면의 TOP기사입니다.\"><i class=\"picon\">신문</i>8면 <i class=\"icon_top\"> TOP</i></span>\n",
       "<span class=\"date is_outdated\">1시간전\t</span>\n",
       "</dd>\n",
       "</dl>\n",
       "</li>\n",
       "<li>\n",
       "<dl>\n",
       "<dt class=\"photo\">\n",
       "<a href=\"https://news.naver.com/main/read.naver?mode=LS2D&amp;mid=shm&amp;sid1=101&amp;sid2=259&amp;oid=119&amp;aid=0002509066\">\n",
       "<img alt=\"네이버 &quot;종합지급결제사업자 검토한 바 없다&quot;…'네이버 특혜법' 지적에 반박\" height=\"72\" onerror=\"javascript:this.src='https://ssl.pstatic.net/static.news/image/news/2009/noimage_106x72.png';\" src=\"https://imgnews.pstatic.net/image/origin/119/2021/07/07/2509066.jpg?type=nf106_72\" width=\"106\"/>\n",
       "</a>\n",
       "</dt>\n",
       "<dt>\n",
       "<a href=\"https://news.naver.com/main/read.naver?mode=LS2D&amp;mid=shm&amp;sid1=101&amp;sid2=259&amp;oid=119&amp;aid=0002509066\">\n",
       "\t\t\t\t\t\t\t\t 네이버 \"종합지급결제사업자 검토한 바 없다\"…'네이버 특혜법' 지적에 반박\n",
       "\t\t\t\t\t\t\t\t</a>\n",
       "</dt>\n",
       "<dd>\n",
       "<span class=\"lede\">네이버파이낸셜이 전자금융거래법 개정안이 '네이버 특혜법'으로 명명되고 있다는 보도에 대해 종합지급결제사업자 라이센스 취득을 검토 …</span>\n",
       "<span class=\"writing\">데일리안</span>\n",
       "<span class=\"date is_outdated\">2시간전\t</span>\n",
       "</dd>\n",
       "</dl>\n",
       "</li>\n",
       "<li>\n",
       "<dl>\n",
       "<dt class=\"photo\">\n",
       "<a href=\"https://news.naver.com/main/read.naver?mode=LS2D&amp;mid=shm&amp;sid1=101&amp;sid2=259&amp;oid=277&amp;aid=0004933684\">\n",
       "<img alt=\"車보험 흑자 전환되나…상반기 손해율 개선세\" height=\"72\" onerror=\"javascript:this.src='https://ssl.pstatic.net/static.news/image/news/2009/noimage_106x72.png';\" src=\"https://imgnews.pstatic.net/image/origin/277/2021/07/07/4933684.jpg?type=nf106_72\" width=\"106\"/>\n",
       "</a>\n",
       "</dt>\n",
       "<dt>\n",
       "<a href=\"https://news.naver.com/main/read.naver?mode=LS2D&amp;mid=shm&amp;sid1=101&amp;sid2=259&amp;oid=277&amp;aid=0004933684\">\n",
       "\t\t\t\t\t\t\t\t 車보험 흑자 전환되나…상반기 손해율 개선세\n",
       "\t\t\t\t\t\t\t\t</a>\n",
       "</dt>\n",
       "<dd>\n",
       "<span class=\"lede\">올 상반기 자동차보험 손해율이 지난해보다 개선된 것으로 나타났다. 특히 상위 4개사의 손해율이 80% 아래로 떨어지면서 흑자 전 …</span>\n",
       "<span class=\"writing\">아시아경제</span>\n",
       "<span class=\"date is_outdated\">2시간전\t</span>\n",
       "</dd>\n",
       "</dl>\n",
       "</li>\n",
       "<li>\n",
       "<dl>\n",
       "<dt class=\"photo\">\n",
       "<a href=\"https://news.naver.com/main/read.naver?mode=LS2D&amp;mid=shm&amp;sid1=101&amp;sid2=259&amp;oid=018&amp;aid=0004978040\">\n",
       "<img alt='은행연합회 “코인 거래소 가이드라인 이르면 이번주 공개\"(종합)' height=\"72\" onerror=\"javascript:this.src='https://ssl.pstatic.net/static.news/image/news/2009/noimage_106x72.png';\" src=\"https://imgnews.pstatic.net/image/origin/018/2021/07/07/4978040.jpg?type=nf106_72\" width=\"106\"/>\n",
       "</a>\n",
       "</dt>\n",
       "<dt>\n",
       "<a href=\"https://news.naver.com/main/read.naver?mode=LS2D&amp;mid=shm&amp;sid1=101&amp;sid2=259&amp;oid=018&amp;aid=0004978040\">\n",
       "\t\t\t\t\t\t\t\t 은행연합회 “코인 거래소 가이드라인 이르면 이번주 공개\"(종합)\n",
       "\t\t\t\t\t\t\t\t</a>\n",
       "</dt>\n",
       "<dd>\n",
       "<span class=\"lede\">[이데일리 김인경 기자] 은행연합회가 가상자산(암호화폐) 거래소 위험평가 가이드라인을 이르면 이번 주 중 공개할 계획이다. 7일 …</span>\n",
       "<span class=\"writing\">이데일리</span>\n",
       "<span class=\"date is_outdated\">2시간전\t</span>\n",
       "</dd>\n",
       "</dl>\n",
       "</li>\n",
       "<li>\n",
       "<dl>\n",
       "<dt class=\"photo\">\n",
       "<a href=\"https://news.naver.com/main/read.naver?mode=LS2D&amp;mid=shm&amp;sid1=101&amp;sid2=259&amp;oid=014&amp;aid=0004670814\">\n",
       "<img alt=\"국민카드, 아동권리 보호 사업 ‘굿터치’에 1억 지원\" height=\"72\" onerror=\"javascript:this.src='https://ssl.pstatic.net/static.news/image/news/2009/noimage_106x72.png';\" src=\"https://imgnews.pstatic.net/image/origin/014/2021/07/07/4670814.jpg?type=nf106_72\" width=\"106\"/>\n",
       "</a>\n",
       "</dt>\n",
       "<dt>\n",
       "<a href=\"https://news.naver.com/main/read.naver?mode=LS2D&amp;mid=shm&amp;sid1=101&amp;sid2=259&amp;oid=014&amp;aid=0004670814\">\n",
       "\t\t\t\t\t\t\t\t 국민카드, 아동권리 보호 사업 ‘굿터치’에 1억 지원\n",
       "\t\t\t\t\t\t\t\t</a>\n",
       "</dt>\n",
       "<dd>\n",
       "<span class=\"lede\">KB국민카드는 서울 새문안로 KB국민카드 본사에서 사회복지법인 굿네이버스에 아동권리보호 사업인 '굿 터치(Good Touch)' …</span>\n",
       "<span class=\"writing\">파이낸셜뉴스</span>\n",
       "<span class=\"newspaper_info\" title=\"신문에 게재되었으며 30면의 기사입니다.\"><i class=\"picon\">신문</i>30면 </span>\n",
       "<span class=\"date is_outdated\">2시간전\t</span>\n",
       "</dd>\n",
       "</dl>\n",
       "</li>\n",
       "<li>\n",
       "<dl>\n",
       "<dt>\n",
       "<a href=\"https://news.naver.com/main/read.naver?mode=LS2D&amp;mid=shm&amp;sid1=101&amp;sid2=259&amp;oid=014&amp;aid=0004670798\">\n",
       "\t\t\t\t\t\t\t\t '날개 단 수출' 경상수지 흑자.. 5개월만에 다시 100억弗 돌파\n",
       "\t\t\t\t\t\t\t\t</a>\n",
       "</dt>\n",
       "<dd>\n",
       "<span class=\"lede\">경상수지 흑자규모가 5개월 만에 다시 100억달러를 넘어섰다. 세계 경기회복으로 수출호조가 이어지는 가운데 기업들의 배당과 운송 …</span>\n",
       "<span class=\"writing\">파이낸셜뉴스</span>\n",
       "<span class=\"newspaper_info\" title=\"신문에 게재되었으며 2면의 기사입니다.\"><i class=\"picon\">신문</i>2면 </span>\n",
       "<span class=\"date is_outdated\">3시간전\t</span>\n",
       "</dd>\n",
       "</dl>\n",
       "</li>\n",
       "<li>\n",
       "<dl>\n",
       "<dt class=\"photo\">\n",
       "<a href=\"https://news.naver.com/main/read.naver?mode=LS2D&amp;mid=shm&amp;sid1=101&amp;sid2=259&amp;oid=008&amp;aid=0004613038\">\n",
       "<img alt=\"'대부업 프리미어리그' 8월말 도입…온라인 대출중개 허용\" height=\"72\" onerror=\"javascript:this.src='https://ssl.pstatic.net/static.news/image/news/2009/noimage_106x72.png';\" src=\"https://imgnews.pstatic.net/image/origin/008/2021/07/07/4613038.jpg?type=nf106_72\" width=\"106\"/>\n",
       "</a>\n",
       "</dt>\n",
       "<dt>\n",
       "<a href=\"https://news.naver.com/main/read.naver?mode=LS2D&amp;mid=shm&amp;sid1=101&amp;sid2=259&amp;oid=008&amp;aid=0004613038\">\n",
       "\t\t\t\t\t\t\t\t '대부업 프리미어리그' 8월말 도입…온라인 대출중개 허용\n",
       "\t\t\t\t\t\t\t\t</a>\n",
       "</dt>\n",
       "<dd>\n",
       "<span class=\"lede\">양질의 대부업자로 이뤄진 이른바 '대부업 프리미어리그' 제도가 다음달 말 도입된다. 금융위원회는 7일 정례회의를 열고 '대부업등 …</span>\n",
       "<span class=\"writing\">머니투데이</span>\n",
       "<span class=\"date is_outdated\">3시간전\t</span>\n",
       "</dd>\n",
       "</dl>\n",
       "</li>\n",
       "</ul>"
      ]
     },
     "execution_count": 14,
     "metadata": {},
     "output_type": "execute_result"
    }
   ],
   "source": [
    "lst = soup.find(\"ul\", attrs={\"class\":\"type06_headline\"})\n",
    "lst"
   ]
  },
  {
   "cell_type": "code",
   "execution_count": 15,
   "id": "197a2747",
   "metadata": {},
   "outputs": [],
   "source": [
    "news=lst.find_all(\"li\")\n",
    "# news"
   ]
  },
  {
   "cell_type": "code",
   "execution_count": 21,
   "id": "e23b70af",
   "metadata": {},
   "outputs": [
    {
     "name": "stdout",
     "output_type": "stream",
     "text": [
      "기사제목:  \n",
      "(링크 : https://news.naver.com/main/list.naver?mode=LS2D&mid=shm&sid1=101&sid2=259https://news.naver.com/main/read.naver?mode=LS2D&mid=shm&sid1=101&sid2=259&oid=028&aid=0002551670 )\n",
      "기사제목:  씨티은행, 주금공 유로화 커버드본드 발행 수탁사로 참여\n",
      "(링크 : https://news.naver.com/main/list.naver?mode=LS2D&mid=shm&sid1=101&sid2=259https://news.naver.com/main/read.naver?mode=LS2D&mid=shm&sid1=101&sid2=259&oid=014&aid=0004670831 )\n",
      "기사제목:  \n",
      "(링크 : https://news.naver.com/main/list.naver?mode=LS2D&mid=shm&sid1=101&sid2=259https://news.naver.com/main/read.naver?mode=LS2D&mid=shm&sid1=101&sid2=259&oid=029&aid=0002685775 )\n",
      "기사제목:  \n",
      "(링크 : https://news.naver.com/main/list.naver?mode=LS2D&mid=shm&sid1=101&sid2=259https://news.naver.com/main/read.naver?mode=LS2D&mid=shm&sid1=101&sid2=259&oid=029&aid=0002685774 )\n",
      "기사제목:  \n",
      "(링크 : https://news.naver.com/main/list.naver?mode=LS2D&mid=shm&sid1=101&sid2=259https://news.naver.com/main/read.naver?mode=LS2D&mid=shm&sid1=101&sid2=259&oid=119&aid=0002509066 )\n",
      "기사제목:  \n",
      "(링크 : https://news.naver.com/main/list.naver?mode=LS2D&mid=shm&sid1=101&sid2=259https://news.naver.com/main/read.naver?mode=LS2D&mid=shm&sid1=101&sid2=259&oid=277&aid=0004933684 )\n",
      "기사제목:  \n",
      "(링크 : https://news.naver.com/main/list.naver?mode=LS2D&mid=shm&sid1=101&sid2=259https://news.naver.com/main/read.naver?mode=LS2D&mid=shm&sid1=101&sid2=259&oid=018&aid=0004978040 )\n",
      "기사제목:  \n",
      "(링크 : https://news.naver.com/main/list.naver?mode=LS2D&mid=shm&sid1=101&sid2=259https://news.naver.com/main/read.naver?mode=LS2D&mid=shm&sid1=101&sid2=259&oid=014&aid=0004670814 )\n",
      "기사제목:  '날개 단 수출' 경상수지 흑자.. 5개월만에 다시 100억弗 돌파\n",
      "(링크 : https://news.naver.com/main/list.naver?mode=LS2D&mid=shm&sid1=101&sid2=259https://news.naver.com/main/read.naver?mode=LS2D&mid=shm&sid1=101&sid2=259&oid=014&aid=0004670798 )\n",
      "기사제목:  \n",
      "(링크 : https://news.naver.com/main/list.naver?mode=LS2D&mid=shm&sid1=101&sid2=259https://news.naver.com/main/read.naver?mode=LS2D&mid=shm&sid1=101&sid2=259&oid=008&aid=0004613038 )\n"
     ]
    }
   ],
   "source": [
    "for ns in news: \n",
    "    title= ns.find(\"a\").get_text().strip()  #strip(): 불필요한 공백 제거\n",
    "    link = url+ns.find(\"a\")['href']\n",
    "    \n",
    "    print(\"기사제목: \", title) \n",
    "    print(\"(링크 :\", link,\")\")"
   ]
  },
  {
   "cell_type": "code",
   "execution_count": 28,
   "id": "9b79c749",
   "metadata": {},
   "outputs": [
    {
     "name": "stdout",
     "output_type": "stream",
     "text": [
      "기사제목:  김건희씨 30% 싸게 샀는데도…‘신주인수권’ 특혜 아니라는 윤석열\n",
      "(링크 : https://news.naver.com/main/list.naver?mode=LS2D&mid=shm&sid1=101&sid2=259https://news.naver.com/main/read.naver?mode=LS2D&mid=shm&sid1=101&sid2=259&oid=028&aid=0002551670 )\n",
      "기사제목:  씨티은행, 주금공 유로화 커버드본드 발행 수탁사로 참여\n",
      "(링크 : https://news.naver.com/main/list.naver?mode=LS2D&mid=shm&sid1=101&sid2=259https://news.naver.com/main/read.naver?mode=LS2D&mid=shm&sid1=101&sid2=259&oid=014&aid=0004670831 )\n",
      "기사제목:  \"진짜 맛집 엄선… 가맹점 수수료 부담 줄일 것\"\n",
      "(링크 : https://news.naver.com/main/list.naver?mode=LS2D&mid=shm&sid1=101&sid2=259https://news.naver.com/main/read.naver?mode=LS2D&mid=shm&sid1=101&sid2=259&oid=029&aid=0002685775 )\n",
      "기사제목:  [생활금융플랫폼시대] 청약컨설팅에 배달까지… 일상 바꾼 `1등앱`\n",
      "(링크 : https://news.naver.com/main/list.naver?mode=LS2D&mid=shm&sid1=101&sid2=259https://news.naver.com/main/read.naver?mode=LS2D&mid=shm&sid1=101&sid2=259&oid=029&aid=0002685774 )\n",
      "기사제목:  네이버 \"종합지급결제사업자 검토한 바 없다\"…'네이버 특혜법' 지적에 반박\n",
      "(링크 : https://news.naver.com/main/list.naver?mode=LS2D&mid=shm&sid1=101&sid2=259https://news.naver.com/main/read.naver?mode=LS2D&mid=shm&sid1=101&sid2=259&oid=119&aid=0002509066 )\n",
      "기사제목:  車보험 흑자 전환되나…상반기 손해율 개선세\n",
      "(링크 : https://news.naver.com/main/list.naver?mode=LS2D&mid=shm&sid1=101&sid2=259https://news.naver.com/main/read.naver?mode=LS2D&mid=shm&sid1=101&sid2=259&oid=277&aid=0004933684 )\n",
      "기사제목:  은행연합회 “코인 거래소 가이드라인 이르면 이번주 공개\"(종합)\n",
      "(링크 : https://news.naver.com/main/list.naver?mode=LS2D&mid=shm&sid1=101&sid2=259https://news.naver.com/main/read.naver?mode=LS2D&mid=shm&sid1=101&sid2=259&oid=018&aid=0004978040 )\n",
      "기사제목:  국민카드, 아동권리 보호 사업 ‘굿터치’에 1억 지원\n",
      "(링크 : https://news.naver.com/main/list.naver?mode=LS2D&mid=shm&sid1=101&sid2=259https://news.naver.com/main/read.naver?mode=LS2D&mid=shm&sid1=101&sid2=259&oid=014&aid=0004670814 )\n",
      "기사제목:  '날개 단 수출' 경상수지 흑자.. 5개월만에 다시 100억弗 돌파\n",
      "(링크 : https://news.naver.com/main/list.naver?mode=LS2D&mid=shm&sid1=101&sid2=259https://news.naver.com/main/read.naver?mode=LS2D&mid=shm&sid1=101&sid2=259&oid=014&aid=0004670798 )\n",
      "기사제목:  '대부업 프리미어리그' 8월말 도입…온라인 대출중개 허용\n",
      "(링크 : https://news.naver.com/main/list.naver?mode=LS2D&mid=shm&sid1=101&sid2=259https://news.naver.com/main/read.naver?mode=LS2D&mid=shm&sid1=101&sid2=259&oid=008&aid=0004613038 )\n"
     ]
    }
   ],
   "source": [
    "for ns in news: \n",
    "    a_idx=0\n",
    "    n =ns.find(\"img\")\n",
    "    if n :\n",
    "        a_idx=1 # img 태그가 있으면 1번째 img 태그를 사용\n",
    "        \n",
    "    title= ns.find_all(\"a\")[a_idx].get_text().strip()  #strip(): 불필요한 공백 제거\n",
    "    link = url+ns.find(\"a\")['href']\n",
    "    \n",
    "    print(\"기사제목: \", title) \n",
    "    print(\"(링크 :\", link,\")\")"
   ]
  },
  {
   "cell_type": "code",
   "execution_count": null,
   "id": "ce8c83a6",
   "metadata": {},
   "outputs": [],
   "source": []
  }
 ],
 "metadata": {
  "kernelspec": {
   "display_name": "Python 3",
   "language": "python",
   "name": "python3"
  },
  "language_info": {
   "codemirror_mode": {
    "name": "ipython",
    "version": 3
   },
   "file_extension": ".py",
   "mimetype": "text/x-python",
   "name": "python",
   "nbconvert_exporter": "python",
   "pygments_lexer": "ipython3",
   "version": "3.7.10"
  }
 },
 "nbformat": 4,
 "nbformat_minor": 5
}
